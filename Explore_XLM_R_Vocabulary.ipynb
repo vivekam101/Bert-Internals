{
  "nbformat": 4,
  "nbformat_minor": 0,
  "metadata": {
    "colab": {
      "name": "Explore XLM-R Vocabulary.ipynb",
      "provenance": [],
      "collapsed_sections": [],
      "include_colab_link": true
    },
    "kernelspec": {
      "name": "python3",
      "display_name": "Python 3"
    }
  },
  "cells": [
    {
      "cell_type": "markdown",
      "metadata": {
        "id": "view-in-github",
        "colab_type": "text"
      },
      "source": [
        "<a href=\"https://colab.research.google.com/github/vivekam101/Bert-Internals/blob/main/Explore_XLM_R_Vocabulary.ipynb\" target=\"_parent\"><img src=\"https://colab.research.google.com/assets/colab-badge.svg\" alt=\"Open In Colab\"/></a>"
      ]
    },
    {
      "cell_type": "markdown",
      "metadata": {
        "id": "whjogPl1KL4-"
      },
      "source": [
        "## Load the Model\n"
      ]
    },
    {
      "cell_type": "markdown",
      "metadata": {
        "id": "O0wWu4oEKYtc"
      },
      "source": [
        "Install the huggingface implementation."
      ]
    },
    {
      "cell_type": "code",
      "metadata": {
        "id": "PzCjfNB6jksJ",
        "outputId": "f40ce4f6-29db-47d6-e163-afdc0f85dc1e",
        "colab": {
          "base_uri": "https://localhost:8080/",
          "height": 374
        }
      },
      "source": [
        "!pip install transformers"
      ],
      "execution_count": 37,
      "outputs": [
        {
          "output_type": "stream",
          "text": [
            "Requirement already satisfied: transformers in /usr/local/lib/python3.6/dist-packages (3.4.0)\n",
            "Requirement already satisfied: tqdm>=4.27 in /usr/local/lib/python3.6/dist-packages (from transformers) (4.41.1)\n",
            "Requirement already satisfied: protobuf in /usr/local/lib/python3.6/dist-packages (from transformers) (3.12.4)\n",
            "Requirement already satisfied: numpy in /usr/local/lib/python3.6/dist-packages (from transformers) (1.18.5)\n",
            "Requirement already satisfied: tokenizers==0.9.2 in /usr/local/lib/python3.6/dist-packages (from transformers) (0.9.2)\n",
            "Requirement already satisfied: sentencepiece!=0.1.92 in /usr/local/lib/python3.6/dist-packages (from transformers) (0.1.91)\n",
            "Requirement already satisfied: filelock in /usr/local/lib/python3.6/dist-packages (from transformers) (3.0.12)\n",
            "Requirement already satisfied: dataclasses; python_version < \"3.7\" in /usr/local/lib/python3.6/dist-packages (from transformers) (0.7)\n",
            "Requirement already satisfied: requests in /usr/local/lib/python3.6/dist-packages (from transformers) (2.23.0)\n",
            "Requirement already satisfied: regex!=2019.12.17 in /usr/local/lib/python3.6/dist-packages (from transformers) (2019.12.20)\n",
            "Requirement already satisfied: sacremoses in /usr/local/lib/python3.6/dist-packages (from transformers) (0.0.43)\n",
            "Requirement already satisfied: packaging in /usr/local/lib/python3.6/dist-packages (from transformers) (20.4)\n",
            "Requirement already satisfied: setuptools in /usr/local/lib/python3.6/dist-packages (from protobuf->transformers) (50.3.0)\n",
            "Requirement already satisfied: six>=1.9 in /usr/local/lib/python3.6/dist-packages (from protobuf->transformers) (1.15.0)\n",
            "Requirement already satisfied: chardet<4,>=3.0.2 in /usr/local/lib/python3.6/dist-packages (from requests->transformers) (3.0.4)\n",
            "Requirement already satisfied: certifi>=2017.4.17 in /usr/local/lib/python3.6/dist-packages (from requests->transformers) (2020.6.20)\n",
            "Requirement already satisfied: urllib3!=1.25.0,!=1.25.1,<1.26,>=1.21.1 in /usr/local/lib/python3.6/dist-packages (from requests->transformers) (1.24.3)\n",
            "Requirement already satisfied: idna<3,>=2.5 in /usr/local/lib/python3.6/dist-packages (from requests->transformers) (2.10)\n",
            "Requirement already satisfied: joblib in /usr/local/lib/python3.6/dist-packages (from sacremoses->transformers) (0.16.0)\n",
            "Requirement already satisfied: click in /usr/local/lib/python3.6/dist-packages (from sacremoses->transformers) (7.1.2)\n",
            "Requirement already satisfied: pyparsing>=2.0.2 in /usr/local/lib/python3.6/dist-packages (from packaging->transformers) (2.4.7)\n"
          ],
          "name": "stdout"
        }
      ]
    },
    {
      "cell_type": "code",
      "metadata": {
        "id": "nwpkz_WYjscB"
      },
      "source": [
        "import torch\n",
        "from transformers import XLMRobertaTokenizer\n",
        "\n",
        "# Download the tokenizer for the XLM-Robert `base` model.\n",
        "tokenizer = XLMRobertaTokenizer.from_pretrained(\"xlm-roberta-base\" )"
      ],
      "execution_count": 38,
      "outputs": []
    },
    {
      "cell_type": "markdown",
      "metadata": {
        "id": "B8FD0tDpKVBF"
      },
      "source": [
        "## Inspect XLM-R Vocabulary\n",
        "--------------------------"
      ]
    },
    {
      "cell_type": "markdown",
      "metadata": {
        "id": "7UB5FRPOhinf"
      },
      "source": [
        "### Vocab Dump\n",
        "--------------\n",
        "\n",
        "Retrieve the entire list of \"tokens\" and write these out to a text file so we can peruse them."
      ]
    },
    {
      "cell_type": "code",
      "metadata": {
        "id": "FL6SdQjMZ0W3",
        "outputId": "ae85ae40-f942-445d-bf01-82985636b04f",
        "colab": {
          "base_uri": "https://localhost:8080/",
          "height": 34
        }
      },
      "source": [
        "# Retrieve the full list of tokens.\n",
        "all_tokens = list(tokenizer.get_vocab().keys())\n",
        "\n",
        "print('The vocabulary contains {:,} tokens.'.format(len(all_tokens)))"
      ],
      "execution_count": 39,
      "outputs": [
        {
          "output_type": "stream",
          "text": [
            "The vocabulary contains 250,002 tokens.\n"
          ],
          "name": "stdout"
        }
      ]
    },
    {
      "cell_type": "code",
      "metadata": {
        "id": "NRf7NXJGgsnG"
      },
      "source": [
        "with open(\"vocabulary.txt\", 'w') as f:\n",
        "    \n",
        "    # For each token...\n",
        "    for token in all_tokens:\n",
        "        \n",
        "        # Write it out and escape any unicode characters.            \n",
        "        f.write(token + '\\n')\n"
      ],
      "execution_count": 40,
      "outputs": []
    },
    {
      "cell_type": "markdown",
      "metadata": {
        "id": "hZ8Q8pWvevOL"
      },
      "source": [
        "You can now open the 'vocabulary.txt' file using the file system navigator in the sidebar of this Colab Notebook."
      ]
    },
    {
      "cell_type": "markdown",
      "metadata": {
        "id": "YjDNjvJ6fBkP"
      },
      "source": [
        "### SentencePiece vs. WordPiece\n",
        "------------------------------"
      ]
    },
    {
      "cell_type": "markdown",
      "metadata": {
        "id": "fJpCqxTofFNg"
      },
      "source": [
        "XLM-R uses a SentencePiece model, which is a little different than BERT's WordPiece model.\n",
        "\n",
        "As an example, I'll use a misspelling of the word \"philosophy\": \"philosphy\". This will cause the tokenizer to break the word into subwords.\n",
        "\n",
        "In WordPiece, subwords are denoted by two hash characters, except the *first* subword in a word. \n",
        "\n",
        "```\n",
        " BERT /     WordPiece:  phil  ##os  ##phy\n",
        "XLM-R / SentencePiece:\t▁phil   os    phy\n",
        "```\n",
        "\n",
        "In SentencePiece, all spacing is captured.\n",
        "\n",
        "> Note: The marking character used by SentencePiece looks like an underscore, but it as actually unicode symbol U+2581, named \"Lower One Eighth Block\". I'll refer to it as an underscore for simplicity, though.\n",
        "* Underscore: _\n",
        "* U+2581: ▁\n",
        "\n",
        "With SentencePiece, you can interpret the underscore as a space, because that's exactly what it represents! \n",
        "\n",
        "\n"
      ]
    },
    {
      "cell_type": "markdown",
      "metadata": {
        "id": "AVvMF7B_1iMM"
      },
      "source": [
        "Let's import the standard BERT tokenizer to compare the two."
      ]
    },
    {
      "cell_type": "code",
      "metadata": {
        "id": "deaBhgnc1hGq"
      },
      "source": [
        "from transformers import BertTokenizer\n",
        "\n",
        "# Download the tokenizer for the XLM-Robert `base` model.\n",
        "bert_tokenizer = BertTokenizer.from_pretrained(\"bert-base-cased\")"
      ],
      "execution_count": 41,
      "outputs": []
    },
    {
      "cell_type": "markdown",
      "metadata": {
        "id": "3A8to4BF1lam"
      },
      "source": [
        "Now we can tokenize an example sentence and compare the tokens."
      ]
    },
    {
      "cell_type": "code",
      "metadata": {
        "id": "fkjFrg-_fjqY"
      },
      "source": [
        "example_sentence = 'The XLM-R model has many word embeddings.'\n",
        "\n",
        "# Tokenize with SentencePiece\n",
        "xlmr_tokens = tokenizer.tokenize(example_sentence)\n",
        "\n",
        "# Tokenize with WordPiece\n",
        "bert_tokens = bert_tokenizer.tokenize(example_sentence)"
      ],
      "execution_count": 42,
      "outputs": []
    },
    {
      "cell_type": "markdown",
      "metadata": {
        "id": "ikCxg4E_2Y2W"
      },
      "source": [
        "Helper function to print them side by side."
      ]
    },
    {
      "cell_type": "code",
      "metadata": {
        "id": "wGdB6eu2ki_T"
      },
      "source": [
        "def print_as_rows(list_a, list_b):\n",
        "    '''\n",
        "    Prints two lists as rows, with padding to make them line up neatly.\n",
        "    '''\n",
        "    row_a = \"\"\n",
        "    row_b = \"\"\n",
        "\n",
        "    # Pad the lists to the same length.\n",
        "    while len(list_a) < len(list_b):\n",
        "        list_a.append(\"\")\n",
        "    while len(list_b) < len(list_a):\n",
        "        list_b.append(\"\")\n",
        "    \n",
        "    for i in range(0, len(list_a)):\n",
        "        str_a = list_a[i]\n",
        "        str_b = list_b[i]\n",
        "\n",
        "        pad_len = max(len(str_a), len(str_b)) + 2\n",
        "    \n",
        "        row_a += (\"{:>{width}}\").format(str_a, width=pad_len)\n",
        "        row_b += (\"{:>{width}}\").format(str_b, width=pad_len)\n",
        "    \n",
        "    print(row_a)\n",
        "    print(row_b)\n"
      ],
      "execution_count": 43,
      "outputs": []
    },
    {
      "cell_type": "code",
      "metadata": {
        "id": "E5g1UrYg1U8N",
        "outputId": "aa6131d3-e6a0-4603-b685-001d5f44ca55",
        "colab": {
          "base_uri": "https://localhost:8080/",
          "height": 51
        }
      },
      "source": [
        "print_as_rows(xlmr_tokens, bert_tokens)"
      ],
      "execution_count": 44,
      "outputs": [
        {
          "output_type": "stream",
          "text": [
            "  ▁The  ▁XL     M  -  R  ▁model  ▁has  ▁many  ▁word   ▁   embe   dding    s  .\n",
            "   The    X  ##LM  -  R   model   has   many   word  em  ##bed  ##ding  ##s  .\n"
          ],
          "name": "stdout"
        }
      ]
    },
    {
      "cell_type": "markdown",
      "metadata": {
        "id": "ledPWLbR24gF"
      },
      "source": [
        "```\n",
        "  ▁The  ▁XL     M  -  R  ▁model  ▁has  ▁many  ▁word   ▁   embe   dding    s  .\n",
        "   The    X  ##LM  -  R   model   has   many   word  em  ##bed  ##ding  ##s  .\n",
        "```"
      ]
    },
    {
      "cell_type": "code",
      "metadata": {
        "id": "7bezKywVgWZ-",
        "outputId": "81e8599d-1816-4259-8412-d471436a7476",
        "colab": {
          "base_uri": "https://localhost:8080/",
          "height": 51
        }
      },
      "source": [
        "#print(\"'\" + '\\'  \\''.join(xlmr_tokens) + \"'\")\n",
        "print('XLM-R:  ' + '  '.join(xlmr_tokens))\n",
        "print(' BERT:  ' + '  '.join(bert_tokens))"
      ],
      "execution_count": 45,
      "outputs": [
        {
          "output_type": "stream",
          "text": [
            "XLM-R:  ▁The  ▁XL  M  -  R  ▁model  ▁has  ▁many  ▁word  ▁  embe  dding  s  .\n",
            " BERT:  The  X  ##LM  -  R  model  has  many  word  em  ##bed  ##ding  ##s  .\n"
          ],
          "name": "stdout"
        }
      ]
    },
    {
      "cell_type": "code",
      "metadata": {
        "id": "mQLZ5AKzgZ-O",
        "outputId": "6e4c5d20-44df-4708-ad9a-e55ecbf0b175",
        "colab": {
          "base_uri": "https://localhost:8080/",
          "height": 111
        }
      },
      "source": [
        "import pandas as pd\n",
        "\n",
        "pd.DataFrame([xlmr_tokens, bert_tokens])"
      ],
      "execution_count": 46,
      "outputs": [
        {
          "output_type": "execute_result",
          "data": {
            "text/html": [
              "<div>\n",
              "<style scoped>\n",
              "    .dataframe tbody tr th:only-of-type {\n",
              "        vertical-align: middle;\n",
              "    }\n",
              "\n",
              "    .dataframe tbody tr th {\n",
              "        vertical-align: top;\n",
              "    }\n",
              "\n",
              "    .dataframe thead th {\n",
              "        text-align: right;\n",
              "    }\n",
              "</style>\n",
              "<table border=\"1\" class=\"dataframe\">\n",
              "  <thead>\n",
              "    <tr style=\"text-align: right;\">\n",
              "      <th></th>\n",
              "      <th>0</th>\n",
              "      <th>1</th>\n",
              "      <th>2</th>\n",
              "      <th>3</th>\n",
              "      <th>4</th>\n",
              "      <th>5</th>\n",
              "      <th>6</th>\n",
              "      <th>7</th>\n",
              "      <th>8</th>\n",
              "      <th>9</th>\n",
              "      <th>10</th>\n",
              "      <th>11</th>\n",
              "      <th>12</th>\n",
              "      <th>13</th>\n",
              "    </tr>\n",
              "  </thead>\n",
              "  <tbody>\n",
              "    <tr>\n",
              "      <th>0</th>\n",
              "      <td>▁The</td>\n",
              "      <td>▁XL</td>\n",
              "      <td>M</td>\n",
              "      <td>-</td>\n",
              "      <td>R</td>\n",
              "      <td>▁model</td>\n",
              "      <td>▁has</td>\n",
              "      <td>▁many</td>\n",
              "      <td>▁word</td>\n",
              "      <td>▁</td>\n",
              "      <td>embe</td>\n",
              "      <td>dding</td>\n",
              "      <td>s</td>\n",
              "      <td>.</td>\n",
              "    </tr>\n",
              "    <tr>\n",
              "      <th>1</th>\n",
              "      <td>The</td>\n",
              "      <td>X</td>\n",
              "      <td>##LM</td>\n",
              "      <td>-</td>\n",
              "      <td>R</td>\n",
              "      <td>model</td>\n",
              "      <td>has</td>\n",
              "      <td>many</td>\n",
              "      <td>word</td>\n",
              "      <td>em</td>\n",
              "      <td>##bed</td>\n",
              "      <td>##ding</td>\n",
              "      <td>##s</td>\n",
              "      <td>.</td>\n",
              "    </tr>\n",
              "  </tbody>\n",
              "</table>\n",
              "</div>"
            ],
            "text/plain": [
              "     0    1     2  3  4       5     6      7      8   9      10      11   12 13\n",
              "0  ▁The  ▁XL     M  -  R  ▁model  ▁has  ▁many  ▁word   ▁   embe   dding    s  .\n",
              "1   The    X  ##LM  -  R   model   has   many   word  em  ##bed  ##ding  ##s  ."
            ]
          },
          "metadata": {
            "tags": []
          },
          "execution_count": 46
        }
      ]
    },
    {
      "cell_type": "markdown",
      "metadata": {
        "id": "uviYdpTZYMmd"
      },
      "source": [
        "### Single Characters\n",
        "---------------------"
      ]
    },
    {
      "cell_type": "markdown",
      "metadata": {
        "id": "Bu-KbpbR1L4q"
      },
      "source": [
        "The following code prints out all of the single character tokens in the vocabulary. Because these are not preceded by an underscore, these are only tokens which get combined with other tokens and not standalone words. \n",
        "\n",
        "The following cell iterates over the vocabulary, pulling out all of the single character tokens and adding them to a list named `one_chars`."
      ]
    },
    {
      "cell_type": "code",
      "metadata": {
        "id": "YHpH2NEPy3t9"
      },
      "source": [
        "one_chars = []\n",
        "\n",
        "# For each token in the vocabulary...\n",
        "for token in all_tokens:\n",
        "    \n",
        "    # Record any single-character tokens.\n",
        "    if len(token) == 1:\n",
        "        one_chars.append(token)\n",
        "    "
      ],
      "execution_count": 47,
      "outputs": []
    },
    {
      "cell_type": "markdown",
      "metadata": {
        "id": "F1zdZNXqwD8P"
      },
      "source": [
        "This cell then prints out all of these characters--40 per line, and each separated by a space."
      ]
    },
    {
      "cell_type": "code",
      "metadata": {
        "id": "jCzfsjHrzZYn",
        "outputId": "38fd0e01-cb1e-4e57-a808-415fb1c73f9a",
        "colab": {
          "base_uri": "https://localhost:8080/",
          "height": 1000
        }
      },
      "source": [
        "print('Number of single character tokens: {:,}\\n'.format(len(one_chars)))\n",
        "\n",
        "# Print all of the single characters, 40 per row.\n",
        "\n",
        "# For every batch of 40 tokens...\n",
        "for i in range(0, len(one_chars), 40):\n",
        "    \n",
        "    # Limit the end index so we don't go past the end of the list.\n",
        "    end = min(i + 40, len(one_chars) + 1)\n",
        "    \n",
        "    # Print out the tokens, separated by a space.\n",
        "    print(' '.join(one_chars[i:end]))"
      ],
      "execution_count": 48,
      "outputs": [
        {
          "output_type": "stream",
          "text": [
            "Number of single character tokens: 13,828\n",
            "\n",
            ", . ▁ s - a : e i ) t n ' ’ 。 o ? u 、 ! m r 的 ، y \" а ” / d ; и k е у । h м ( ی\n",
            "l の “ » z j ه g ي о 在 т ы ­ ς c х я ة を p ا і 和 ] 了 b َ が A S н 2 й ن に v は 是 ს\n",
            "3 의 ت ‘ م D ի 을 1 f x í و w C é ă _ ը 有 이 年 г 에 人 ِ ה で 中 д л ን 」 不 I B 大 ം 上 ُ\n",
            "「 ل M ą K ת と 4 T ი ა 月 我 日 E с в ी O P 一 를 ê ն 은 к ً á י 가 ට G ш ю 5 는 到 š р ም\n",
            "د ر ं N H 等 ് ó 他 V も ж ų q L ž ش 也 就 ى ו ہ 6 F س ና 地 ে 7 ú ك ä े @ 한 你 त न র 8\n",
            "ದ ë ा ć 以 对 出 ь 도 要 R ı ම ْ U 为 [ ର ч 고 п 로 ం 及 – 而 與 9 小 下 ය ` 会 ّ ů 用 ው ේ 与 지\n",
            "ع 都 ά ן や क & ę ؟ 但 性 ό · 多 과 ā à な ή з 被 為 თ ව 好 ب + 子 ു ə च အ = し J 新 र 高 可 之\n",
            "家 ት α б W ο ։ ز ल स ι 《 က 所 기 ಯ Z ې 本 ፣ X 時 者 水 î 會 С 着 인 能 分 ၊ 》 来 前 ः ے ν 일 说\n",
            "手 或 * ל ј യ ý 去 她 А ł Y 将 ş ੀ 後 名 υ 最 心 ။ 后 这 得 ส ද 다 か 时 ک 天 म ・ ð ق è ల 更 ರ 해\n",
            "व 从 三 ц ť ב 化 ે η 外 پ 對 行 金 里 ር 力 와 č 生 ක น ف 想 ـ ج ם 再 ನ る 리 χ న ી ಿ ስ 사 又 向 い\n",
            "看 ՝ 自 ు 市 ો प മ ন 法 來 很 시 스 事 မ း ል 어 做 მ 자 山 ม 수 ത 入 ो ก 서 ~ 于 ು О 將 ક 把 ě В М\n",
            "۔ ാ 0 点 ї ज 其 К た ड ר — 道 할 ਚ 全 ў 回 వ ύ ò 於 ። ి ค 打 ო 文 ė 花 比 度 Д Б క お 說 ד 部 க\n",
            "ट 美 特 那 并 년 ។ 주 り ా 方 ס 無 由 】 ই Q ç > ရ ল ր 海 ω μ ய ক 起 成 ക ന א મ ง 光 重 ಕ ਨ ര 長\n",
            "ด ล מ ා 面 π ט ર ල න ర ؛ വ 정 這 斯 く ג ң 元 ન 身 ő 先 ለ 車 장 て 国 대 द ै మ 过 ৰ ء ც ص 著 Г\n",
            "已 ś କ ש 路 ॥ 还 ח บ 게 ፤ У Т 同 至 内 만 ż ਲ 二 ε ա 아 ే ድ ئ ग റ ့ ح ി േ დ ย 作 量 台 성 ब త\n",
            "个 拉 正 如 物 ර خ य ታ ๆ ต ረ ท 店 主 ス 상 ত æ θ െ 並 라 ü 老 স ವ ಸ ർ ੇ ਕ 走 您 加 나 લ 德 白 口 ਾ\n",
            "ρ ि ં 원 安 從 ් ല 부 感 区 開 ൻ በ 트 화 ē ு 原 過 车 ি 品 ց 呢 機 无 적 전 定 ս 월 它 位 П 點 ນ ብ ይ സ\n",
            "长 ह 局 ራ ਸ ป 头 王 Х 西 万 跟 利 通 明 让 வ 林 ಮ % 讓 发 合 克 ф Н 소 τ 吃 見 چ З 진 各 श ร ሳ 学 ያ ք\n",
            "드 ਮ ী σ є ע 期 四 ክ 頭 ବ 太 동 近 ว ら 神 开 ώ Е ম ಾ 區 య 內 ማ વ 면 비 当 ე 使 أ И թ õ ህ $ ् 色\n",
            "才 ذ 愛 산 個 ተ 公 商 次 受 ô ק સ ോ 吧 書 ਣ ம ர ደ 因 구 ቱ ស 南 型 卡 第 ក φ တ 제 ቀ ෙ 送 ך ൽ 意 ಲ া\n",
            "流 గ κ ላ ፍ 数 ー ँ 城 体 ୍ « ଲ ク ନ 给 快 相 ግ 還 щ γ 低 』 ব ା ण ז ல ́ 女 த ও પ ί # ่ ప ன 何\n",
            "ട 该 כ 發 ਤ 科 ነ ु ጋ ض 眼 學 器 ണ ዳ 선 線 工 信 β 知 Л 尔 치 એ స İ ث သ 約 率 五 動 片 요 ા 情 ડ የ 된\n",
            "版 ڻ ਰ Я Ш 取 超 代 ई ස ル 場 省 教 ხ 신 机 ช ట හ 只 ប រ 용 真 站 ڪ 式 გ อ ಗ ி ൂ ገ 國 ટ ğ 米 డ 像\n",
            "ዋ ご 火 平 ች 請 ト 集 ሰ 명 立 ሉ ଳ ద 미 လ ٰ ቅ ባ נ ू リ ከ 死 ్ େ ወ 包 غ ね 号 ත 세 마 ট Ж â ʻ 위 ű\n",
            "ľ 接 Ф 空 ۍ 放 此 給 表 보 き 民 જ ମ 風 գ 北 단 病 马 λ ႔ 解 개 球 տ अ 食 言 直 ã ೆ ळ 保 ～ み ಡ 院 उ 住\n",
            "阿 笑 啊 ି 少 ୀ 當 회 半 Š ម መ 共 ア 建 ള 网 周 達 մ 실 ף ط 오 電 未 പ 首 格 门 ū ٹ ຍ 식 木 พ ત ካ 하 ු\n",
            "ń さ 两 石 客 玩 ப 音 ห 차 ቃ ၏ う 目 भ 交 Á ತ گ ಂ 制 收 რ É წ 落 田 却 ਟ ດ ए į 强 世 관 կ ቶ 深 조 ř\n",
            "å አ 便 우 场 布 だ 社 每 ୁ 분 야 ጠ ਦ ପ 常 油 ಳ ნ 房 ಣ Ц έ ප Р 유 ጣ ણ ፈ 理 選 件 ង ງ ̣ 管 재 总 す 没\n",
            "ጥ ட 방 중 ೇ 李 ସ ド ī 风 û ್ 히 פ 任 ্ つ 字 ° ગ 百 話 古 イ 무 آ 『 І 清 黑 ศ 호 ਹ 買 星 Ş 東 波 ሪ ਪ\n",
            "® 間 দ 动 称 ո 進 ઓ 款 ظ 张 Ã Σ প ፡ ख ន फ 巴 니 ਡ δ 爱 ٽ 러 反 ץ ល 早 Ε 당 ତ 处 熱 【 ா 氣 非 ບ 千\n",
            "ീ ‬ 兩 ン 即 စ 声 ණ 条 ん ё 州 往 體 气 味 切 공 ዝ 馬 બ 들 경 血 华 모 연 छ 號 わ 修 ø ມ ፋ 若 Ü ু 今 Ի 夜\n",
            "失 Ч เ 越 ლ } 指 여 ้ Ó ղ 排 ត უ ե 문 ළ 물 জ 找 ഹ צ દ ග 电 ਜ 連 형 ^ 六 শ 萬 ौ え ሮ め € 영 ջ ھ\n",
            "門 ੋ 室 จ Č 르 શ 業 थ 精 男 ഷ ฟ ù 村 э ま ય ສ Ö 求 ଣ ラ ؤ 八 防 ກ Ա গ 士 處 料 ኝ 안 应 香 帶 展 案 ö\n",
            "ே 肉 青 국 ಪ 完 曾 ਬ դ 照 报 军 线 ዘ 班 網 带 語 政 ာ 吗 们 單 私 ኛ 려 ү 达 학 足 朝 張 Э 初 书 า 查 轉 應 队\n",
            "ะ ਿ ļ 며 금 Α コ 形 奇 ී ိ ï ಹ კ ٍ 图 座 基 ъ 質 ೋ ো 写 거 活 ñ 總 差 マ ș 思 強 ദ 曲 除 შ 圖 源 雨 ச\n",
            "请 提 ष 江 ň ვ 土 单 ଦ 該 干 ං ခ ற 卻 報 ೀ ပ ქ ኩ 业 校 ठ 屋 ሽ 钱 इ 酒 ኑ Ä қ լ 且 港 ሩ බ 算 カ 생 叫\n",
            "ቆ হ 프 ៖ િ 數 皮 ေ ை 届 ວ 短 樂 进 組 அ れ 毛 բ 저 ì 推 战 ڈ 野 素 Ο វ ္ 派 冷 章 选 よ ႕ 听 체 내 ୟ ణ\n",
            "致 值 價 ď ० 調 福 ̀ 菜 華 ღ હ 约 권 改 법 難 ි 種 街 ံ 居 英 ဝ 具 紅 亚 级 양 タ 急 န ሌ þ 服 Ə 則 微 ಜ 付\n",
            "配 ॉ 板 आ 系 實 河 ቡ 票 ժ 问 拍 程 ෝ ਗ ሎ ծ ロ 島 占 პ 余 间 博 存 十 행 ଟ 점 気 茶 望 エ ঁ Η 底 ቁ 按 转 红\n",
            "レ 洗 ដ 沒 均 Ç 见 Μ ư 歌 遠 Ú 워 ሻ 投 터 ੈ 爾 ଶ 留 ధ 权 副 ળ 親 嗎 ី ચ ņ 피 某 跑 九 別 苦 జ 視 ୋ 즈 員\n",
            "천 列 拿 买 热 Í 倒 ኔ Π 语 界 계 救 衣 群 ጉ ဒ 支 ტ 难 段 经 師 限 파 ယ ា ዉ 們 ೂ վ 影 雷 七 税 디 演 업 ጅ 实\n",
            "ሙ 포 變 종 戰 അ ో 건 試 질 ሊ Ž 尼 ள 痛 館 티 타 ၀ 크 ơ 根 운 退 던 ் 角 命 ശ 景 草 ្ 春 ჭ ሃ ਵ Δ 令 ഡ అ\n",
            "装 必 裡 端 레 罗 바 발 别 连 運 역 シ 造 민 ြ ಟ ੜ 極 ạ ბ 問 ข 东 現 员 카 չ ዛ ঃ ಧ 党 整 費 ム 雪 감 沙 あ 음\n",
            "节 입 ሬ へ យ 교 股 ફ 岁 그 離 云 Đ 步 ሞ ξ ഗ 川 설 간 夫 ッ ် 例 អ Ө 县 ジ 夏 ખ घ Հ ズ ઝ ੂ 游 ಶ 隊 ិ 官\n",
            "ண 牌 節 然 ጭ 級 통 ධ 助 ቦ ሚ け ণ 료 ψ 강 남 亦 토 ড 晚 果 ቢ Կ 牛 Қ ූ 현 ፥ ओ 套 ហ 远 需 權 几 ጀ ହ 심 ଜ\n",
            "Մ 軍 ൈ 임 љ 组 హ 粉 చ 掉 志 儿 ଇ 升 ਅ キ 则 ۋ հ ્ Ն 遊 루 ሱ 破 झ 吉 治 费 价 職 더 傳 ጽ 석 ழ オ 边 ቲ 武\n",
            "պ 雙 假 శ 坐 ڙ շ ٌ 裝 ഴ 架 龙 チ ध 迷 ჩ 核 变 출 楼 ទ 經 ច 론 ์ 酸 額 層 Τ 念 滿 Κ 寫 背 航 守 력 船 노 易\n",
            "ુ 聽 症 ജ Ս 產 ዊ 버 배 円 週 持 乐 ־ 双 ీ খ ブ ଏ 探 仍 龍 ኖ 引 關 յ 직 ွ 邊 Ι 纳 类 반 森 ધ 返 喝 智 ә 速\n",
            "່ Γ 骨 ጫ ️ 置 雅 待 ൊ 母 태 聲 幾 ၁ Ă চ 穿 ଗ ੰ 现 关 란 警 考 久 래 含 普 折 ਖ අ 伊 ೈ < ೦ 貨 ណ 友 ዕ 結\n",
            "색 ൾ 급 季 倍 품 청 魚 린 զ 降 ጨ ញ ె 記 Υ 联 宝 ڭ ု 富 데 聯 赛 陈 ബ 陳 ቤ ฯ ফ 永 專 េ ૂ ძ 매 话 ଥ 군 속\n",
            "维 产 哈 稱 խ じ ீ ถ ထ ዱ ټ 집 ଭ 션 恩 ዶ ซ 亮 ూ っ ෑ プ 办 ং ၍ ந 製 师 ዩ 托 种 発 ဂ 控 ష ព 啦 族 较 ả\n",
            "奥 ລ 劇 ቻ ଚ ປ គ ζ ோ 예  १ ເ 樓 ڊ ැ 작 追 후 ੱ ば ナ フ ź 飞 歲 质 Տ ਥ 類 創 ญ 免 黃 调 園 ミ ሕ × ቴ\n",
            "ְ 容 甲 依 停 • ଷ 密 較 ћ 委 ږ 勝 ້ 松 弱 伤 堂 供 ជ 团 既 ኮ ဘ ყ サ ଂ 증 격 Ы Χ ዲ ျ 散 փ ച 极 威 塔 Ю\n",
            "ሸ 盛 류 ሲ 传 እ こ 靠 圈 భ 喜 画 賽 ङ 离 バ 冰 ည 備 ጎ 示 đ 视 Ø 錢 境 립 키 紙 迪 讲 언 എ 獎 ៗ ұ 亲 左 抗 メ\n",
            "彩 Բ 奖 ọ 运 ሁ 블 夢 Ү 印 등 ĝ ኒ 換 ‪ 県 থ 史 두 ზ ଡ ุ 黄 ভ 북 增 领 罪 Ј ウ 跳 ၇ ธ 梅 换 份 断 ဆ 절 판\n",
            "尽 湖 ੁ ձ 藏 네 Ո 亞 兵 బ উ 適 餐 テ 刘 畫 ၂ 條 谁 박 哪 睡 ຕ 兰 브 ß ഇ 코 羅 목 実 務 ژ 승 射 泰 聚 २ 玉 勢\n",
            "ګ 각 秀 細 별 ষ 爆 ਂ 毒 ၃ 承 ռ 移 À 抽 ଖ 賣 乳 團 든 哥 傷 온 床 Գ デ ̉ 索 药 杀 ౌ ඩ 減 플 ભ Ω Պ ಷ 亿 養\n",
            "இ 貼 ビ ຫ ଉ 满 ູ Å ғ ệ 달 講 飛 秒 ښ ፅ 佳 ٿ 役 葉 ณ ಬ 翻 표 님 導 隔 グ 길 納 硬 パ 消 輪 良 箱 藥 专 ళ 麻\n",
            "縣 談 厚 ሶ ሀ 婚 卖 兒 む 耳 觀 ፊ 吸 洋 鄉 ፉ Ë ਫ 림 止 登 洛 ず 观 医 異 温 偏 证 ၅ ୪ 資 据 善 ୨ 莫 结 護 ツ 抓\n",
            "ೌ 剧 封 약 休 残 ŝ 告 엔 ୦ 범 환 ধ 压 โ 康 ై 량 谈 怪 ფ 舞 戦 ਏ 様 ၄ 順 缺 Ρ ඳ 난 ඟ 佛 呼 際 右 願 炎 ‐ ෂ\n",
            "丁 ഭ ທ 復 ۆ 额 優 計 ើ ષ ډ င ೊ 育 借 息 秋 轮 尾 ຊ إ 근 ජ 标 零 복 訂 戴 阳 ネ 杯 થ 塞 술 ొ ጡ 외 ូ 補 户\n",
            "司 희 暴 篇 백 职 → ө 寄 溫 注 ዮ ڑ Ê 氏 父 貴 ዚ 预 ഫ 筆 겨 功 驚 雲 ٺ 读 함 Ե 振 馆 익 瓦 ጃ ָ 향 樹 牙 魔 谷\n",
            "象 招 豆 聖 摩 盤 ቋ ီ 처 犯 Դ 淡 僅 Ν 故 애 ዴ ொ ଅ 答 ሐ 領 々 禁 義 ඹ 殺 ဖ 樣 ३ 壓 ୫ ۈ ॅ 너 町 ढ 固 ൺ ൗ\n",
            "۱ 誰 货 될 卫 盡 ַ { 편 輕 준 寶 글 側 抱 效 預 肌 脚 독 皆 ဇ ụ 静 ổ Ը ち ృ ៣ 暗 Ā 健 喔 獲 ŭ ዓ 瑞 蘭 ఖ 결\n",
            "蛋 糖 項 එ ဲ 져 甜 〜 ሜ 滑 령 ሴ 随 ઈ ਼ 乱 席 ״ モ ূ 述 课 課 征 終 標 ො 欲 潮 ဏ 岛 井 伯 본 勒 ৷ 층 날 ฉ ځ\n",
            "姆 ۴ ಅ 말 효 ጻ 惠 設 ዬ セ 透 ଧ 资 許 胡 է ૃ ở 興 ਆ 耐 ቂ 渡 ৌ Ī 刚 頂 幕 ಭ 圣 ♪ 童 暖 訪 层 ガ 兼 项 ቹ 論\n",
            "记 Ք 苏 袋 병 独 ெ Ő ጸ 編 ĉ ื 존 ֆ 薄 창 積 커 係 丹 鞋 ノ 초 Î 狗 刀 ୃ ጦ ộ ះ 번 模 ಚ 末 胜 ශ 君 › 稅 辦\n",
            "୧ ူ 试 疑 ୩ 创 参 農 养 추 せ 句 ധ 負 旅 屬 怕 평 宮 ဟ 附 ダ 准 ़ ຄ 番 ୂ આ 势 ១ 盘 ਈ 峰 ጌ ଆ 售 讀 এ 투 复\n",
            "駅 ՛ ニ 施 축 Ց 曼 ោ 湯 ઠ ဗ 沉 ỏ ၌ ぶ 廠 ڳ ハ 으 ¤ Β 典 ۲ ၈ භ 唐 仁 름 液 拜 링 까 ච 举 充 批 勤 属 ၆ ፃ\n",
            "證 ț ຣ ţ 慢 梦 ៥ ዎ ჰ 逃 ኪ 蒙 陽 ၉ 兴 搞 护 宁 혜 销 府 艾 락 ੌ 합 混 Վ 隨 熟 ճ 維 Λ 库 庫 ຂ Ր 延 姿 导 冬\n",
            "ှ 울 ứ ឡ ആ 欧 务 ஜ 忙 망 礼 露 ૈ 互 ợ 泡 ՞ ჯ 곡 裏 宗 激 ໆ 刻 敬 减 编 凡 અ 农 叶 ิ 恶 嘉 鐵 卷 철 ஆ 獨 浮\n",
            "挺 ๋ ỉ 窗 宜 ុ ろ び 黨 ୬ 巨 企 ּ ဳ 릴 些 屆 ፎ 害 แ 刺 词 ภ 营 택 紧 ໄ ອ আ 랑 仅 녀 ผ ਉ 壁 橋 击 ઃ 열 希\n",
            "불 營 磨 ຖ 脸 綠 广 累 ፕ 寒 祖 杰 ษ ボ 评 判 署 純 ຢ 歳 ¥ 树 억 Լ 財 鎮 살 ☆ ິ 寺 蒂 ĩ 銀 것 널 ี 瓶 搭 藝 ề\n",
            "ど ಇ ਓ ็ 변 途 租 燈 弄 売 券 액 沿 규 顺 棒 园 插 藍 飯 ୭ 跨 悲 環 례 Φ 替 争 萨 载 杨 甘 誠 ២ 吹 贵 載 烟 腿 ќ\n",
            "決 予 备 ፌ 材 팅 숙 ፀ 幫 ୮ 豪 ऽ ઇ  菌 ւ ֶ ໍ 鬼 ઢ 嘴 丽 ケ 頃 技 腰 ॒ 禮 ౦ 京 厅 완 賞 ៈ 鱼 ଓ 尚 観 ୯ ಘ\n",
            "申 冲 洞 絲 戶 ๊ ఇ 簡 繁 Ą 顿 ຸ 嫌 ૬ 唱 髮 绝 宇 乾 猫 김 ۹ 购 哦 ំ 论 计 ૨ 研 珠 镇 遇 Ъ ふ 样 ჟ 薬 腳 麵 퍼\n",
            "旧 메 њ 幸 ึ ছ 攻 歐 항 ዜ ể ઘ 醒 胸 혼 権 ਧ џ ຈ 麗 ৱ 雞 Ğ 皇 థ 臉 细 益 렌 义 圓 杜 灯 菲 癌 ৃ 鲁 伦 족 宣\n",
            "ഖ 봉 惊 ڏ 归 餘 剛 議 羊 遺 狂 燒 御 ¬ ピ 赤 ホ 満 虎 ヤ 犬 蘇 율 ไ ័ 旗 负 縮 ṣ „ 광 访 臺 ‭ 竹 饭 弹 ಎ 齐 ភ\n",
            "悪 诺 ែ 祝 孔 逆 ں ቸ 聞 庭 ฮ 割 Ь ఆ າ ኤ 异 Յ ૭ ພ 乎 哭 摸 韓 获 汉 階 ૫ 隆 ¿ ớ 荷 담 測 틀 优 徐 脑 Ә 染\n",
            "씨 ኅ Ế 播 突 ± 愿 ঘ 娘 似 彈 俗 ແ 황 飾 ֵ 津 困 迫 페 ४ 采 ৎ 産 緊 څ 忠 쪽 ሺ ਠ 略 陣 脱 げ 탄 辛 稳 仕 妹 ຮ\n",
            "ႏ 宫 漢 擊 츠 码 ủ 乘 ૦ 舊 仙 亡 瓜 ூ 損 ៃ 顶 轻 ૯ Θ 돼 購 곳 訊 俄 刷 操 怀 Й 碼 ៤ 莱 죠 ૌ 汗 策 런 능 ૮ 池\n",
            "ポ 察 银 Ң 敏 絕 莉 ゴ 흥 另 惡 ڄ 움 ฺ 패 衛 ソ 娜 ៀ 勇 ู 横 鮮 ஸ ጂ 볼 欠 徒 ५ ଁ 朱 宽 泉 올 ጓ 錯 忍 Æ 熊 醫\n",
            "갈 补 赞 팀 되 靜 ഐ Թ 错 帮 ဥ \\ 舉 楽 ૉ 친 呀 ̃ 厂 経 Ұ 테 ଫ 幅 록 脫 灵 堡 刊 베 朗 評 ữ Ý 刑 ۇ 震 避 腦 ሂ\n",
            "规 緩 ኬ ۵ 域 ඛ 鳥 幼 ൃ ಥ য 쿠 铁 眾 巡 Щ 詞 恐 ៧ ៩ ベ 億 ີ ぐ 靈 ễ 环 ẻ 収 ਭ 鍋 雄 稿 찰 머 肝 仔 胎 廣 塊\n",
            "佩 陰 跌 臨 ぎ 맨 채 始 懂 荒 遭 습 掛 習 抢 Â ஷ 據 접 協 危 頁 송 纸 ۷ 忘 怒 貓 ڍ 른 ሠ 変 冠 顔 檔 ১ 詩 拖 临 桥\n",
            "柔 扬 অ ႈ ペ 简 搬 亂 洪 킹 때 徵 患 ۀ 斗 ఘ 嚴 众 耗 聊 ួ 鏡 燃 ഘ ẹ 祭 ಖ ृ 议 旁 値 ヒ 덕 엄 術 韩 ឺ ኃ 셔 ২\n",
            "ൌ 敢 ጁ ៨ 妳 순 肩 尖 ゆ 蓝 赵 许 ື 掌 ử ಫ ៅ 紫 触 そ 걸 块 晓 阻 劳 肯 転 충 孙 ひ ሣ 彼 Ę ە ʼ 얼 ڇ 迎 ៦ 汇\n",
            "桃 吴 漏 梁 책 슈 있 酷 拼 煙 었 ୌ 慶 ዙ 執 ኦ 響 ሟ 漫 貌 邦 撞 ໂ 腹 盒 顯 烈 豐 膜 贴 ቪ 顾 宿 宏 废 题 ڌ 했 ሆ 陪\n",
            "鼻 挑 潤 쉬 巧 伴 扣 历 ዞ 膠 ሄ 飲 Ū 录 陆 凯 측 ギ 필 设 돌 弗 丰 ۃ 새 ॑ ۸ ሥ 籍 십 猛 烤 ۶ 陸 笔 ଘ 煮 ఐ 劉 ִ\n",
            "ຟ 赶 악 桌 敗 착 긴 審 昔 终 踏 戲 斷 題 麥 岩 ਘ 胃 ಠ 赢 埋 ଠ ະ 覺 ♥ 딩 枚 埃 奶 焦 缩 匯 ૩ ሹ 揚 침 炸 伝 堅 Խ\n",
            "★ 逼 奈 驻 ❤ ថ 墨 취 寝 宅 榜 閉 ワ Ľ 赫 災 ຜ ႐ ั 霸 捕 ๕ 沈 奧 ׳ 歯 頻 협 ị 喊 훈 構 范 阴 贈 餅 勞 − ጆ 描\n",
            "ቼ 藤 Õ 植 ೩ 妻 Ų ړ 檢 吳 ự 粒 溪 般 珍 탈 榮 ۳ œ ٠ օ ৩ ធ 尊 암 扎 Ł 께 參 ኳ 押 ៍ 薪 俊 积 銷 郭 审 須 訴\n",
            "签 宴 序 候 岸 符 삼 誤 ೯ 诚 ố 脂 ế 炒 劑 ፦ ϊ 겠 ঠ ײ 粗 蓋 갑 உ ఏ 矿 趣 ါ Ē 객 ৈ 乡 坦 搜 옥 姐 எ 塗 圍 霍\n",
            "Ò 読 郵 佐 腸 골 탁 쇼 확 响 ਇ 帝 填 슬 愈 ュ 搶 ڼ 秦 乗 耶 ′ ፖ 拔 紋 抵 ĥ ૧ 逐 财 裁 宋 ¡ 测 坏 跡 ੧ ఈ ဴ 晶\n",
            "ѳ 误 Ć Ệ 逛 Ė 汽 涼 阵 隱 밀 ḥ ૅ 艺 ģ ừ 弟 帕 準 쳐 왕 帰 蔡 ຶ 觉 昌 灰 拆 桑 ົ 恋 隻 Ё ຝ 绿 飽 몰 仲 幻 授\n",
            "庄 櫃 ஹ ඒ 軟 압 臭 敵 클 広 歷 寬 决 戒 乙 콘 融 률 貸 鹿 揭 ờ ٣ 唔 | Ծ 吐 頓 偷 责 ૪ 막 筋 응 芬 ¶ 診 態 丸 ザ\n",
            "串 극 档 丝 监 枪 ෘ Ռ ጄ ಆ 盖 遍 濃 羽 冒 손 牢 输 誘 헌 扶 妈 緣 ፒ 麦 ẽ 岡 છ 냐 줄 冊 ほ 纪 ỷ 腐 ᆞ 홀 伟 뉴 识\n",
            "ኣ 혈 Ě 讚 욕 対 挂 软 鸡 倫 澤 ṇ 爽 检 ڃ 洲 划 練 歸 ṭ 낸 浴 べ 浪 孤 採 簽 妙 添 赴 执 默 ざ 았 辣 ೃ 嘛 ٔ 奔 污\n",
            "♡ ฐ 儀 涉 磁 ৯ Շ ັ ಐ 剂 牧 ゲ ਝ 활 孕 促 ĵ 鼓 芳 碳 舒 컨 媒 眠 図 Ô § 賓 쟁 淨 알 È 摇 벨 恒 闻 莊 応 召 墙\n",
            "澳 푸 総 魯 围 歩 啟 奉 ६ 狀 屏 严 瘦 眉 ֹ 钟 贝 谋 ខ 荣 爬 ጤ ũ 増 诗 団 鋼 ฏ 汁 Ư Չ Є 夕 湿 嘅 尿 関 剩 肥 ഥ\n",
            "끼 启 ऊ 沃 깨 认 監 爲 폰 懷 풍 穴 ፓ 郎 셨 ഞ 裂 泊 尋 ໌ 득 撤 擺 ‧ 찬 舰 蜜 척 ‟ ỗ 介 脈 특 迈 징 ਢ 柱 舍 聘 呆\n",
            "織 讯 骗 規 兄 Ζ 觸 滋 최 貝 ٥ 虚 諸 棉 ӊ 爭 ឃ 견 疲 ८ 态 擦 壞 谢 寧 Ť 援 楊 享 ஏ 잡 庆 泽 ١ 単 ථ Ż 莎 ୈ Ạ\n",
            "ኢ 逢 ቷ Ї 浩 旺 盟 ඉ 剪 暨 鹽 셀 ๓ 碎 Ố 映 晴 崎 련 칠 ଯ 秘 ō 钢 囉 灣 帳 ٤ 였 ኘ 廳 責 否 摆 泥 妮 姓 ७ 竟 壮\n",
            "廉 灭 遗 俺 齊 갖 堆 Ả 琳 悟 ೫ 锋 幹 雜 戏 蒸 适 顧 桶 显 謝 럼 虫 蓄 ๐ ቄ 律 洁 씩 鲜 稀 盗 총 耀 廢 참 軽 센 狼 諾\n",
            "귀 稍 恨 乌 醬 賀 註 潜 纯 险 侧 殿 싱 엘 奪 ጮ 칭 닝 Ξ ០ 催 坊 浦 嫁 佔 握 傻 巷 앤 ሾ 漲 婦 ଛ ڀ ඇ 妇 絵 ٫ 認 状\n",
            "© 斑 ৬ 케 琴 ๔ 邮 浸 錄 饰 況 坚 芝 濕 込 礦 駐 ೪ 捷 迁 짜 ৪ 黒 覚 潔 戸 己 ഒ 鎖 統 ỡ 昂 拳 訳 概 凱 ױ 촌 ৮ 穩\n",
            "赚 碗 ឹ 랜 悠 鄭 欢 ṃ 诊 〉 僕 暑 ๑ 疼 欣 ٩ Ճ ९ 隐 戀 扭 람 订 欄 顆 梯 ぼ 鍵 됐 衝 腕 ঙ 碰 豬 칼 醉 傑 郡 確 ၚ\n",
            "۰ ஐ 缘 邀 滅 燕 祈 牆 滴 ఎ 株 ආ 闪 繪 陶 抹 漆 찾 崩 ዥ 윤 競 ٧ 값 诉 咬 帅 궁 究 ặ 沖 儲 Ś 坪 伸 ٢ ΐ 홍 煤 撒\n",
            "針 习 ৭ 염 浓 밥 圆 凌 ০ 孫 閃 🏻 储 壹 棄 柯 ឈ 瑪 째 벽 侵 缓 术 迹 ٨ 页 覆 枝 릭 틴 徑 곤 午 夾 텔 薩 굴 佈 剑 繼\n",
            "봐 ៕ 潛 肺 柏 졌 価 ՜ ๒ ឌ 束 邪 輝 ѣ 폐 ஞ Љ 闭 乔 납 념 롭 ႇ 핑 憑 烧 猪 罰 圧 Ậ ጊ 兆 乃 净 識 锁 欺 ೨ 尺 肖\n",
            "ଝ 雖 😊 몬 ੍ 契 障 吊 説 ÷ 尤 褲 육 魂 ሯ 么 爸 짐 妝 柳 균 ೧ Ĉ 胖 戻 ຽ Ջ 旋 ઉ 镜 😍 閱 楚 넷 샤 ฆ ṛ 塑 毅 猜\n",
            "彭 涨 蛇 핵 迟 盆 聴 ဓ 练 ٻ 毁 샵 ґ ฤ 妥 敷 컵 畅 烏 玛 ଢ ሔ 軸 孝 ጢ ─ ٦ 桂 崇 橫 损 什 ѓ 梨 Օ 좋 衰 Þ Զ 丢\n",
            "債 萊 휘 絶 鬆 凝 鼠 堪 답 甚 偉 嫩 컬 ๖ 踢 襲 獻 証 먹 鐘 ਯ 啥 紀 蟲 败 卢 Է 콜 唇 炮 ŷ 氧 囊 玲 ਛ 킨 萌 疏 坑 폭\n",
            "腾 涂 ŕ ዐ 憂 ŵ 솔 閣 ႊ 寻 抜 敲 祥 ਊ 翔 脳 〈 ႆ 텐 献 뜨 鳳 湾 币 鏈 倉 ෞ 幣 奴 듯 Ժ ഉ 墓 噴 夺 슨 盈 歡 黎 爐\n",
            "먼 频 繳 抑 ඔ 낙 렸 雕 督 戈 鸟 ඬ 큐 턴 ぬ 髪 逸 账 卵 続 郁 Ð 違 寂 柜 ኸ ኙ 屈 컴 慈 躲 牲 驾 奏 藉 溢 ඝ 룸 晨 汤\n",
            "촉 짓 농 吻 筹 截 Ђ 劃 耕 誉 Ћ 扫 辈 衷 虛 勾 춘 휴 辞 療 昼 劲 吵 斜 얻 寿 趁 葬 稼 距 넣 錶 舌 须 溶 톤 핀 튼 ೬ 函\n",
            "仪 朵 폴 ጪ 慮 脆 宾 ၽ ෆ 董 검 伙 昆 坡 ኽ 潘 慧 摄 ጩ 効 丘 婆 빈 両 继 軌 һ 렉 框 殘 併 児 ඨ 騎 廚  허 估 奋 翼\n",
            "検 剤 伏 Ķ 竞 උ 哲 鳴 Ғ 벌 郑 址 弃 籌 Έ 賴 ఛ 偶 贷 흡 撮 吓 頼 芸 Ụ 仇 忌 墊 腺 づ ೭ ឥ 唯 Ț Ổ 遮 섭 杂 ఫ 柄\n",
            "Њ 胶 蕾 摘 暢 攝 팔 奢 旨 续 鬥 捐 멘 劣 妖 롤 ↓ 탕 ヘ 抬 闹 逾 履 灾 削 蝦 ‮ 裕 勃 〔 맹 ฝ 苗 빙 Ơ ഓ 慰 ሓ 棋 遥\n",
            "〕 ゼ 涵 挖 扇 殼 팩 擴 曜 怡 浅 꽃 ☺ 험 裙 ኡ 砂 邁 ၿ ỳ 慕 Ձ 龄 築 凭 逝 霧 쓰 敌 ồ 确 茨 栏 阔 塵 ෛ 寸 벤 兽 ೮\n",
            "灌 泣 慌 拒 賢 壯 卸 革 孟 惨 펜 壽 ៉ ۂ 穷 裸 蠻 ◎ 꼬 販 脉 퇴 链 呈 掩 叹 ֲ ჲ ੨ 阅 났 牵 霜 茂 椅 싸 骑 漁 혀 £\n",
            "协 누 ၼ 曹 艘 昨 倾 仮 训 趕 젤 ፁ Ì 担 帽 忧 巻 픽 ķ 辆 惜 涌 凉 篮 鼎 範 掃 ഠ 碧 Ể 贏 闲 蜂 槍 锦 暇 乏 恰 勘 騰\n",
            "٬ 夠 覽 輩 穆 惹 續 陵 曉 많 滚 痕 搖 誌 撥 ● 卓 荡 溜 芽 釣 낼 ৫ 罩 앨 짝 꾸 ぞ 违 險 媽 培 朴 帯 玄 爺 葛 哀 ڱ 径\n",
            "ဉ ಒ 铺 帆 Փ 誓 炼 堵 둔 够 罐 혹 ၤ 웨 构 텍 饮 兹 吞 螺 ¦ 탑 伍 拟 洽 廟 꺼 舟 辉 糊 捧 즐 债 匹 🙏 滞 遷 敦 ゚ 듀\n",
            "ௌ 겁 ឯ 辺 ฿ 昏 飼 豊 悅 廊 瑟 辰 焼 尘 爷 际 Ĝ 캠 潭 끌 😂 밴 泛 掘 ょ 迅 롱 ※ 沢 隠 Ղ 従 ቫ 캐 ヨ 隣 忽 또 ሷ 淋\n",
            "갔 疗 遲 攤 润 괴 ― ቺ 贯 韦 힌 Ѓ ၵ 勁 ๙ 凶 誇 👍 叔 齡 昇 仰 淺 ഈ 顏 饱 膚 옆 흑 흐 匠 嗯 Ị 晒 膝 唷 힐 ਐ װ 략\n",
            "擔 傲 廷 怨 垂 俩 ๘ 勿 👉 헬 ఉ 熬 淫 裔 贸 鋪 ಢ Ֆ 疾 虽 拨 閒 託 劍 筒 Ό 坂 蟹 첨 辱 辩 젠 跃 疫 傾 엠 맥 黏 銅 劫\n",
            "獸 릿 懸 岳 膨 抖 賭 踩 幽 継 ዑ ጐ ฎ ಈ ឬ 駕 仿 遂 빠 죽 끄 돈 풀 鄰 骂 纵 悦 詳 侯 挤 晋 吋 诸 겼 깔 ॰ 쉽 膏 竭 暫\n",
            "艇 喻 맘 统 释 뷰 묘 赏 輯 棟 ⚫ Џ 汪 薇 挡 贺 蓮 簿 즘 亭 ኗ 恵 胆 摔 袖 ໋ ዌ ጾ 斥 畏 廃 騙 懶 岗 漂 狭 悔 窮 럴 濟\n",
            "묵 讨 棚 紛 弾 몽 悉 処 貿 绘 喉 縁 募 톡 Ļ 吨 旦 ጧ 颇 惑 括 毀 Ņ Ù 茫 魏 壊 粘 ؓ ๗ 빅 雇 轨 獄 핸 婷 ☞ 謀 腫 晃\n",
            "槽 钻 ጹ 袭 柴 譽 挨 卑 느 喷 Į 滾 译 訓 兔 膽 貧 따 Ñ 셜 ĺ 喂 针 坎 癒 빛 况 缴 ﴾ ṉ │ 叛 纠 杆 捲 쾌 臣 俱 姜 拥\n",
            "艳 烯 Ќ Ń ః ផ ఓ 頒 迴 譯 埔 찌 ђ 淚 扑 奮 嚇 擾 珊 扯 줘 泪 纹 携 잔 釋 捉 琪 덩 罕 룩 틱  祂 济 拘 ၢ 닉 쓴 績\n",
            "仓 郊 煎 弘 셋 ঈ ■ 泄 鸣 炉 삭 ఢ 잉 튜 ํ 맞 빌 凍 雾 늘 럭 瞭 赔 绑 □ 闊 佢 菊 닐 엉 抚 鈴 賺 裤 털 毎 済 ऑ 酥 濱\n",
            "쁘 衫 艦 巢 윈 Ề 桿 扰 锅 靴 ٪ 歪 輸 烂 贾 锐 键 遙 炭 拠 壇 慎 颜 鴨 扔 軒 둥 咁 낭 Û 递 涛 肢 恆 룡 ኹ 논 ៊ 罚 怎\n",
            "陷 牽 旭 ‹ 討 償 Ď 遅 Ģ 斤 牠 ୤ 悬 喬 銘 脏 綿 翠 맛 ቧ 册 ━ 웠 없 ぜ 邱 陀 捏 ✅ 嘆 弊 偵 屯 蔥 颗 桜 ဋ ٴ 喘 妆\n",
            "잇 盧 卒 ఠ 盼 袁 冯 ឧ 犹 趋 僵 腎 斌 Ί ಉ 辖 帥 醇 👇 ○ 縫 쯤 橡 밍 눈 ใ 逊 哩 ፪ 렬 縱 巾 矩 稻 凄 沾 橘 Ĺ ऐ 亨\n",
            "咖 煉 錦 札 傢 丑 赌 翁 肠 刮 貯 콩 痴 崔 偽 ሑ 締 衡 综 럽 羞 弯 鑽 彌 呂 헤 譜 毕 枕 ঢ 曬 肤 尝 喪 贫 擠 夸 앙 卜 痘\n",
            "芭 喚 ऍ 栋 頸 鹏 ‒ ỹ 猴 趙 ੩ 펀 鋒 暮 披 겸 Ř 拓 纲 侦 杏 蚊 爛 ሒ Ợ 帖 鍊 渔 愚 逗 鴻 驱 邓 歇 ၶ ḷ 挥 遞 亏 \n",
            "偿 闷 砖 雀 徳 칸 殊 丟 赖 払 頗 颁 罢 盐 ഛ 섯 咪 勉 遣 辭 淑 擁 扩 躍 帐 轰 猶 努 ऋ 贪 撲 랄 ؒ 랩 塘 亩 撃 😘 輔 鋁\n",
            "鬧  ଃ 谱 懒 耍 넓 咳 擬 漠 賜  ഢ ႒ ፏ 쌍 暂 挣 厳 ੪ ฑ 誼 苑 茅  砸 锡 複 漸 躁 茲 ඡ 姚 敘 弦 홈 卧 趴 Ồ 잊\n",
            "邻 愁 ഃ 絡 烦 瓷 겐 앞 彰 娃 铜 욱 磚 켓 枯 猎 盜 ቿ Ș 捨 泳 撕 坛 킬 肚 伪 烹 磅 屁 尸 纽 僚 丧 箭 湧 冻 멋 † 輛 録\n",
            "獵 窩 蔵 Ử ˈ 砍 닌 ѕ 잃 霊 픈 ῦ Ź ঝ ଼ 듣 鉄 ゾ 稽 랭 😎 ឆ 営 닥 绕 싼 됨 Ψ 腔 瞧 侨 夹 姑 妄 롯 Ű 攀 盃 멀 ሼ\n",
            "ỵ 豹 働 ඥ 屠 杉 酵 糧 웅 繞 ፩ 抄 畜 哼 ፲ 써 ဧ 拾 糾 膩 孩 밖 虹 菇 惟 ಝ ∙ 旬 昭 멜 躺 ∀ 뒷 鍛 鑑 謎 綁 隙 ♫ ဠ\n",
            "蹟 芯 炫 脊 臓 淀 빵 ‚ 섹 唤 鬱 労 吾 揉 狙 ∼ ቭ 胀 撰 宛 ◇ ̄ ጳ 캡 뱅 ஓ 팬 沸 宰 ぴ 믹 쌓 励 擋 飘 阁 ✨ ᅮ 哇 矢\n",
            "貰 숲 ፔ 瞬 熙 냥 湛 皱 Ά 밝 ዣ Ừ 넥 毫 盲 仗 칙 滨 멸 慘 疊 霞 咒 흔 愧 ሏ 蒜 循 窝 虑 喫 쇄 ՙ ፆ 멍 専 ങ ॊ 롬 峽\n",
            "龜 ฒ ଵ 侠 盾 劝 悶 疯 꿀 덜 ঐ ⠀ 虐 ɛ 끈 貫 ಛ 闘 慾 ኾ 煩 爹 鸿 톱 睁 姊 櫻 傘 絞 塩 湘 엇 措 扁 缝 爪 萧 笨 伺 轄\n",
            "昧 핫 屍 ઑ 憲 塌 粹 颖 吕 綱 驗 厄 끔 襯 팁 臂 籃 酬 渐 垫 疹 窃 姉 Ў 혁 糟 碟 叉 Ů 嘲 崗 畢 浜 鍾 콤 떡 튀 庸 穎 扱\n",
            "蠢 翰 팝 ኞ 愉 抛 漿 筑 虧 틸 Ọ 딜 폼 쁜 辨 奸 냈 扛 貞 呵 檸 睇 ᅲ ▽ ዷ 儘 趨 坤 Ở 릉 橙 諒 彎 밑 샘 💕 齢 椎 貪 遵\n",
            "슴 ٭ ഏ 鹰 罵 龐 淘 酪 ႉ 灑 渣 洩 ሡ 엽 毯 倦 拋 掏 巫 뿐 洒 泵 賃 狐 剖 🙁 섬 ៏ 肆 兑 〖 俠 賛 ଈ 狠 礁 瑜 〗 샌 ಃ\n",
            "凤 丙 닭 밸 읍 喀 豚 籠 晉 ۉ 쇠 庁 싶 謂 놀 朋 碑 ヌ 菸 졸 仏 죄 ဌ 飄 緻 狱 窓 ஒ 剥 嘘 蹤 ኀ 潰 緑 왼 듬 ಏ 紐 饿 棵\n",
            "델 ẳ 咲 ɔ 캔 맺 ୱ 赋 诱 铭 贤 硫 템 ᄒ 庞 쌀 ဵ ඊ 妃 莲 禍 凸 齒 랍 ɨ ឫ 붕 膳 臟 瞻 窄 ฌ 좌 揮 嫂 胞 骚 匪 襪 祸\n",
            "蓬 釀 彙 〇 栽 撫 蕭 枠 ៌ 룰 央 佑 꼽 ᄋ 덤 셉 览 恥 雑 薯 宵 胺 衆 ♀ ઍ Ờ 韻 똑 甩 曆 爵 妊 摊 彦  ᅳ ۽ 銳 ቬ ፐ\n",
            "麼 辟 蛮 駁 떨 Ѕ ഔ 벗 濾 冥 醋 꽤 렛 ṅ 冤  溝 拝 弁 춰 妨 皂 惯 凑 拌 ォ 臥 ဿ ♣ 돕 髓 娇 喧 ႂ 😆 扮 岭 寨 闯 硅\n",
            "冶 ዢ 愣 铝 霉 ൦ 峡 沟 蔽 寡 苍 咽 艷 퀴 ḍ 갱 꾼 컷 ੫ 殖 衔 踪 详 匿 奨 丫 √ ఔ 晩 肾 踊 饼 鑫 滤 豔 铃 잎 叮 儒 桐\n",
            "弥 蝶 앉 ✿ ဃ ዖ 탠 椰 辯 僧 萃 ੦ ၾ 辜 拦 厨 浑 塾 녕 댄 靖 纜 婉 挫 煌 謹 瘋 娶 屡 ଋ 鵝 芙 ἀ 넘 析 廖 嘻 줬 흘 춤\n",
            "夯 屑 睹 놈 狮 ऱ 瑶 뮤 蹲 婴 鹹 薑 晕 嘗 坠 瘤 拐 礙 Ẩ ヶ 缠 粮 甄 菱 汀 챙 걷 姬 哎 择 歴 禽 ☎ 굳 筛 掲 验 ఒ ឿ 摧\n",
            "岐 鷹 萍 磊 恭 栄 霾 侈 兜 棕 癮 餓 轟 绩 敞 紡 ۅ ፄ 줌 Ţ 撑 佣 跪 霆 ၸ 糕 蓉 媚 셈 밤 趟 ѐ 艰 吼 嬌 ዟ 😁 큰 阪 麟\n",
            "퓨 ፻ 램 綜 査 蘆 勻 ṟ 芋 ‫ 吟 梗 舖 媛 麽 彬 薛 ɓ 樸 疆 叠 纱 尹 绵 甸 瞪 ぽ 蒲 ኋ 棍 釈 ؍ ユ 傅 恤 絨 빗 샷 烘 曝\n",
            "쳤 壳 燙 譲 덴 맑 咸 ᄏ 翌 勧 莓 騒 ႃ 핏 뻐 👌 驅 魄 唉 閥 뚜 滩 詹 🌹 첩 笼 鈣 沪 嶼 迭 侍 ኚ ፳ 慣 둘 웰 闖 잘 脹 郷\n",
            " ؐ ጵ 떼 뚱 븐 肇 罷 🙂 켜 憤 穫 萎 睿 凹 搵 셰 Ґ 牡 탐 ằ ぁ 쿨 沛 渴 轩 紗 ṁ 矮 寮 怖 嬰 蕩 Ủ 圏 쥐 뿌 挽 圭 祕\n",
            "肿 깐 랬 굿 燦 涙 瓣  ՚ 맵 삽 斐 蒼 錫 ឱ 괄 刃 Ĵ 붙 绳 滥 畔 禪 颈 僱 摂 駛 焚 淮 😦 Ữ 覧 瞄 剔 黛 艱 菁 轴 렴 緯\n",
            "姨 蒋 碩 贊 륙 띠 嶺 丈 騷 纷 ⋯ 곰 獅 伐 廁 뛰 옵 ؔ ฬ 뇌 织 耽 允 謙 褒 ႁ ੬ 곱 꼴 詰 잠 噸 숨 壘 缸 卿 옹 ໊ Ύ Ặ\n",
            "焰 ׁ 웹 盯 舅 搏 怠 弓 叙 賊 霄 拭 颤 厌 癖 堤 ῶ 앵 寓 옷 奠 粥 ゥ 琉 ▫ ౧ ὰ 緒 唸 殷 酌 뢰 ➡ 沼 숭 汚 廈 辅 贩 滲\n",
            "贿 驳 蠟 쉐 崖 硕 馳 淹 谎 瀬 펌 迦 ョ 俯 驰 僑 雯 鉴 臀 赠 狩 ɵ 짱 ፫ 같 萝 谦 鞭 磷 恕 懐 纖 塚 룬 ゃ 誕 髒 銭 尻 浄\n",
            "⁣ 徹 咱 煞 磋 Ň 잭 舎 賠 楠 篩 苛 秤 楓 魅 厢 奕 呎 ؑ ۓ 둑 ▶ ↑ ஃ 撐 诈 珀 啪 懲 瞎 ☛ 嚼 厘 茄 摯 ኻ 숍 蔚 璧 ♠\n",
            "좁 靚 暈 羨 檯 Ỉ 벼 涅 ඕ 灿 狄 ƒ 냅 젖 땅 丛 嗅 醜 皺 燥 俏 藻 ≥ ぷ 栗 ▬ 粵 旱 棲 윗 歧 稚 澡 苯 耻 帷 ◊ 햇 닛 돋\n",
            "ຼ ヴ 톨 ॆ 🔥 엑 좀 宪 蕴 捡 寵 蝕 餵 ◈ 厭 腥 縛 哄 韋 姫 悍 ˇ 곽 벅 꿈 못 봄 夷 嚐 蛙 叢 惩 渊 娟 葵 梳 倩 咕 ֊ 睛\n",
            "徴 窟 犀 泼 ಋ ¢ 剝 蔣 찍 鲍 氨 澈 ઔ 兇 氯 衍 惧 囚 紮 痒 哺 ቕ 툰 펙 ់ 擅 勸 瘾 邵 捍 ၺ 릇 팡 鶴 蟻 몸 矽 倆 詢 湊\n",
            "愤 刹 祷 陥 ጺ 앗 ဤ 濫 樱 谣 妞 砲 ੭ 涯 싫 顽 垢 竊 噂 嵌 庙 餃 밭 ౩ 賈 昊 끝 앱 닫 ← 贬 藩 姦 琦 粤 ፬ ₩ 옛 픔 燉\n",
            "挪 纏 ಔ 妍 넌 ಊ ໃ 汲 祀 厉 郝 ቐ 턱 Ώ 툴 脾 缔 欖 霖 闇 韵 ♂ 쏘 鸭 哨 琼 淳 벳 킴 甫 齿 墜 咗 癢 笛 穀 鄧 뇨 ჳ 宠\n",
            "馨 捜 흉 ੮ 赦 肅 剣 眨 蘊 ಓ 靡 楷 澄 豁 梵 殆 醛 匙 껏 탱 挙 渝 繹 憐 舔 猿 짧 ዒ 😄 叩 냉 繩 倘 彻 ▒ Ẻ 卉 薰 嵐 谭\n",
            "冈 撇 黙 땐 ᄃ ῖ 쿼 簾 奎  糙 撿 冇 伞 隶 ☀ ሦ 蘿 흰 梓 蚀 掠 眷 糸 鉛 ☈ ŋ 灘 讽 碍 灸 倡 顛 綴 鑒 袜 茎 쥬 😭 웃\n",
            "왜 嘱 酿 戳 ✌ ႅ 佬 랫 칩 徽 垒 ◦ 庇 ◆ 澜 釜 栓 嬉 禦 륨 ː 漬 弧 籤 篷 닷 윌 딘 蹦 賬 澀 喵 摺 嘟 瞒 雌 겹 ጼ 묶 皓\n",
            "႑ 螢 拱 酱 彥 魁 ǎ 嗓 Ỗ ῆ 얀 Ϊ 팟 邸 ぱ ڦ 빨 擇 殴 菓 垣 ဢ 虾 棠 捞 陋 枫 壺 酔 榻 ፮ ൪ Ỏ 枢 汕 咯 沐 阮 娩 훌\n",
            "ဣ  ੲ ὴ ₮ 굽 텀 瑩 ❗ 扉 ィ 딸 猩 俞 鹤 椒 肛 贼 賦 俳 렵 및 络 靶 竣 腻 ჴ 렁 酯 ၥ ஈ 墅 煽 娅 綻 倪 芦 ໑ Ớ ⬅\n",
            "썬 킷 ౨ 넉 绍 壢 ቾ Ή 啲 喺 遜 깃 ፱ 틈 ≤ 扳 睦 嬤 溺 鹅 餡 頑 ઋ ἰ 팽 ȩ 皿 埠 詠 힘 녹 勋 凈 繫 柚 菩 ፭ 曰 舱 驕\n",
            "兮 撈 筍 斩 쓸 힙 ⭐ 盪 绪 釘 嫉 炳 掙 謠 ੯ 💪 汶 恼 袍 飆 鯨 🚩 ♬  탓 ► 乖 傭 鮑 悼 濡 隅 😅 Ẫ 갓 🏼 ፑ 眺 阶 屢\n",
            "矫 粽 饶 鵬 ✪ 휠 Ĥ 缆 ꞌ 滯 勵 繡 봇 頌 辽 Ầ 攜 谊 揣 莹 畑 😢 뭘 뼈 询 廓 揽 钉 棘 焊 咋 Ĩ 壤 凳 氢 栖 銜 ֻ ዔ 닿\n",
            "̊ 铸 ቨ 垮 朽 孜 緬 倚 乞 涩 鑼 ൧ 禅 饲 侮 융 锂 眯 懇 夥 盎 ኵ 飢 鞍 棧 侃 丼 馮 硝 氷 옴 Ÿ ׃ 噩 巅 疤 叨 漓 飙 灶\n",
            "峻 ٱ 駆 恍 桩 茹 胚 贅 钦 籽 ᅵ 伽 ֽ ⃣ 肋 낀 덧  矚 啓 औ 捆 憶 帘 禾 灼 ဈ ੳ ઁ ၫ 渾 仑 惰 莖 澱 燭 翡 噛 〝 뻔\n",
            "Ẹ 🌸 纤 ✔ 淪 禱 哑 苔 寢 茵 ፯ 땀 🤣 😉 嗜 阀 剃 眸 햄 혔 隸 뚝  瓊 嗨 嶄 枉 稲 斬 抒 哉 👏  펠 푼 滷 誦 弈 ァ 竿\n",
            "弛 憋 俐 禧 杖 榴 ヵ 긋 탭 🌟 👈 ㄧ 墻 杭 ▲ 몇 鈕 寥 厲 貢 揪 廿 瞳 龟 拚 펴 젊 잖 ఱ 琢 찜 蚁 乍 耘 淵 尬 牟 榨 芥 賑\n",
            "밟 빚 沧 醃 遼 鄂 淇 悄 烫 冕 粋 뽀 ⁠ 堀 획 械 熄 坝 佼 茜 駭 檳 贖 ◀ ኜ 掀 氛 庚 樑 彤 侣 咧 谍 諷 狹 脇 쩌 廂 덱 엿\n",
            "絮 梭 驶 咐 ￼ 釐 脅 譚 ഋ 흙 ↩ 蕃 ஊ 瀚 噪 喇 毗 콕 륜 💖 ♦ 裹 嚷 缅 瘫 輻 虞 ဩ 윙 艙 凰 풋 퀸 횡 鑄 █ 漾 媳 阜 饥\n",
            "氮 莞 妒 鍍 忱 縦 嘩 呜 憧 ↔ 赐 🤗 ፴ 렘 ɪ 筷 ဍ 慨 紹 肘 亟 惱 韌 咩 熔 뷔 흠 똥 咀 뒤 樞 谜 鈉 曙 穗 曖 抉 ۚ ፧ 썸\n",
            "😕 沮 鸽 兌 冀 憎 綫 喋 헨 ✍ 눌 😋 ౫ 떠 浆 懵 阐 瞰 撸 獣 댓 粧 뉘 雁 ଙ 菠 颠 汙 仆 耿 覓 캘 珈 饒 Ւ 왠 츄 넬 蔬 芒\n",
            "檻 墳 苟 駿 骸 氫 渋 钙 瘍 纬 麺 ὶ 🔹 ໐ 柑 璨 酮 聆 嘎 沦 褐 涡 渦 亜 炊 巣 炙 呦 ఋ ໒ 솜 ఁ 謊 Ŝ 诠 傍 駄 樟 熏 拇\n",
            "玻 冗 ఝ ѫ 돔 뭉 겉 ଊ 哆 嘯 喃 搅 噹 貶 荔 柿 濠 镀 ፰ 蹄 ̲ ϋ 딱 鹼 鄙 茉 眩 鴉 냄 蔭 斧 ۖ 掴 뜻 稠 逻 薦 릎 🤔 繕\n",
            "裴  ඵ 挠 屎 欽 寅 헥 ͡ 붓 찮 溯 歉 浙 钩 窘 惚 墟 秉 姥 哟 噌 쩍 뮬 ጴ 濤 胰 💥 ׂ 焕 扒 竖 嘔 汰 淩 櫥 挿 ̇ 娥 혐\n",
            "౪ ឮ 긍 싹 쭉 팜 ̅ 鎌 鸦 劈 嚣 褪 缚 滕 翅 噢 呃 啸 堕 捂 琅 汐 〞 씬 庶 壶 睜 蹭 鈔 渺 嚮 饗 歹 盔 韧 煲 衬 ၦ ञ 蔓\n",
            "窒 聪 撩 啃 僻 嘿 麒 펫 幢 ὁ 亀 켈 璀 😱 搓 拙 拢 鉅 慷 紓 臻 轎 閘 ዪ 낫 늬 렐 뱃 칫 瑕 鴿 俘 蝠 沫 怯 挟 绣 銃 覗 ✖\n",
            "繊 ॲ 닦 🎉 絆 聰 渠 蚂 酶 襟 癥 锤 勳 蒐 翹 륭 깜 샴 芹 晤 ▼ 畸 赎 糞 蒞 呕 궤 ٓ 뀐 뜬 뱀 ‰ 齋 ャ 吱 詭 遴 畝 錠 囂\n",
            "葱 늄 萱 ֱ ኰ ♰ 竜 쏠 咚 ঞ 诵 煥 唾 噬 搁 窯 ▣ 丞 朔 ෴ 펄 ⊙ 噗 謬 ႀ 懈 첫 陡 蝙 濁 賄 憩 嚟 拎 谨 ◑ 멈 짚 ቮ 💙\n",
            "瘡 翘 删 陌 慑 棺 朦 攬 Ï 깅 엣 톰 韶 ൨ 闡 泻 荆 躯 羹 潇 亢 惶 曦 蔗 哮 铅 烷 嗚 岂 ♚ ዦ 렷 썰 ॄ 넨 빔 喱 瑋 빼 翩\n",
            "綺 蝎 攒 砺 趾 蕎 頰 땡 😜 ٗ 앰 膀 颂 閑 亥 墮 攔 绒 逅 躬 晏 窺 甦 彪 顕 뒀 Ƙ ʹ ઐ ඍ ὲ 겟 럿 켄  ൩ 祐 璃 訣 驴\n",
            "拽 葩 鉤 匣 宸 伶 晦 哋 簧 寛  헐 벡 滔 沂 呐 磕 屌 幡 菅 葫 煜 诡 笠 ֣ 샐 썩 킥 ‛ 깁 횟 紳 虔 巍 鲸 诀 疚 衅 叱 ⋅\n",
            "맙 샀 偕 ɑ 첼 肴 餌 晖 얘 랙 忆 哗 駒 焉 闸 🙄 웍 伎 鶯 璐 ⇒ 꼭 屹 芜 氟 蕙 餚 羯 汛 剎 綾 ፂ ≫ 놨 둠 펑 ︎ ❌ 邢 😃\n",
            "榄 曠 ㄟ ❄ ▤ 鞠 磐 Œ ៎ ඤ ၟ ἡ 蹴 镖  赣 妓 歼 咎 痢 俾 瘟 鑲 擷 웬 짤  鈞 蜀 蜡 酚 葡 晟 飪 懼 掐 栃 珂 ▸ ኧ\n",
            "ឍ 뜰 찔  堰 湄 뭔 蕊 掰 氓 瑣 逍 隋 ☑ ヽ 뜯 ၧ 鯊 眶 榕 詐 ═ 彫 팍 😇 ḻ 삐 얄 戮 毬 杠 痞 坷 雛 炬 禹 滬 ☜ ֥ 쉴\n",
            "ŗ ᄀ ቈ ≈ 딴 잼 ぇ 汝 岚 骏 腮 瞞 贡 琶 闢 馈 拷 碌 ☝ 螂 ĕ ֖ ቍ ጕ 꽁 쑥 쪼 캄 💓 💚 鎊 谬 橱 嘀 涮 砥 檀 悸 夭 篤\n",
            "癡 鳌 樺 ⇛ ⬇ 贱 즙 ÿ 💗 Ũ ൫ 瑤 扼 俭 芮 纺 憊 鈍 詫 宕 豈 ঔ ǔ 맷 ᄂ ➤ 淆 💐 曇 枣 樁 糯 嘶 挝 ឪ 🌷 ✈ 斎 뭇 ௦\n",
            "☬ ฅ 췌 榆 曳 😀 泌 渥 聋 紊 鍼 瀉 緝 荘 떤 棗 ⇠ 🎁 ઼ ᄉ 💜 퀘 邹 輿 罹 痊 漱 绷 吩 吝 峭 寇 柵 峨 囤 捅 焗 ∆ 뽐 ۡ\n",
            "峇 歎 杞 諜 襄 ѝ ⁄ 噁 玖 豫 栩 麓 茸 顷 諮 愕 蔑 臘 鮭 逮 穂 蟑 갯 ෲ 붐 헛  桓 溼 嗦 濒 浇 匀 睫 馴 晾 烙 큼 鱷 钞\n",
            "ぺ 覇 Ŭ 딕 젝 🔸 繃 ඞ 狡 贞 拂 搂 顫 渤 勺 憾 ╱ 嬢 ↘ ၻ 떻 👨 尉 婿 坟 绊 乒 靓 砌 揍 骆 ♛ 凛 ʿ 딥 〰 怜 吠 啞 埼\n",
            "沁 揀 鶏 슘 皙 ∞ ຯ ĭ ጿ 갚   ዠ 龚 ฃ 碾 潑 窍 絢 熠 祛 黯 嚎 栈 ̥ ఙ 씽 🎀 🔴 ἱ ጲ 瑯 즉 巖 闽 骄 鬍 昕 肃 琵\n",
            "聂 鋰 毋 擎 늑 📲 ౬ ∣ 젯 밋 桔 峙 锌 颊 窥 齣 膿 軀 氰 敛 醣 唆 醸 愜 ◐ 蟬 鳩 鱗 ऩ ὑ ̓  踝 岔 埕 ឋ 刪 戛 竅 嗡\n",
            "禄 茁 辿 暧 畳 ၪ 顎 暦 ◯ 厦 낚 踹 謗 祠 冉 荃 滝 缉 茱 陛 칵 쭈 祁 ェ 蘑 跋 崙 渗 钥 뤄 喳 羚 缪 刈 竄 桁 庵 旷 ≦ 筱\n",
            "౮ ≪ ⏩ ɱ 겔 꽉 🙈 옐 厝 ▌ 沽 渭 ﴿ △ ၱ 烛 讳 漩 阎 绽 攏 鞏 粪 閩 黔 斟 舗 淤 矣 ঋ 噓 饕 腊 ☼ 蠕 ዤ ❃ 쉼 Ằ ₺\n",
            "樽 늙 빡 팸 📌 碁 劵 寐 骤 篡 烁 祿 猥 碱 饋 鈺 왁 槌 蠣 ≧ ῷ ⚽ 챌 縄 畿 祇 潍 厕 羁 澆 涎 磯 钓 鎂 饅 凋 썹 ǝ 멧 푹\n",
            "룻 👑 侄  閨 ‡ 攪 舆 盏 墩 沌 薈 嘖 洱 孽 恪 ឲ 槓 嚕 Ỳ 굵 ၯ ႎ 넛 뻗 씹  吁 幟 穹 匮 铲 侥 裳 鋅 盞 诫 蠍 鲨 瀕\n",
            "瞑 窦 衞 缶 ̱ 딧 쎄 엌 젼 훼 몹 痔 豎 燻 💣 낮 諧 陕 므 梧 缕 緋 戚 蔻 黴 霹 瀾 吶 匡 袱 ♨ 擲 酰 邑 솟 왈 Ỷ 귤 둬 🍀\n",
            "裘 ╬ ۾ 啤 荊 秃 乜 櫚 醤 粟 柬 呻 巔 舵 巿 隘 꼼 왓 ሿ ኄ ጬ ឭ 쏙 덥 鋸 嗆 邯 ֿ 毙 倖 猖 棱 胧 矛 擒 瞥 翊 諭 ⇩ 芷\n",
            "駝 ၞ 恬 깡 벙 놔 ̶ 韭 蠅 磺 逕 遁 砰 鈦 ഊ 刁 怔 崽 滌 嫣 暉 壩 鰻 ౭ ໓ ៛ 뜩 몫 ႓ 캣 😏 玺 宙 蜷 痰 觅 遽 霓 徙 瑛\n",
            "赂 └ 骷 ஶ ὺ 💛 💦 ŏ 쌤  🙌 퉁 聳 虜 綽 雍 瑰 箔 惋 痠 掷 咦 斂 嘢 唠 拗 薔 锣 Ễ 瑄 秽 ቓ 쯔 ⦁ 쌈 😡 戟 瑾 婶 鯉\n",
            "宥 澎 竺 骰 叽 綢 壟 涕 ↕ 岑 捣 腱 璋 疮 蠶 鋭 ❖ 踵 姗 斉 헝 ⚡ 볕 콧 ڤ ፶ ┊ 낡 샹 烽 酢 哒 舜 侖 啼 ◄ 😞 淌 卦 猝\n",
            "笙 諗 呗 痹 툼 蛤 茗 喲 逞 ֔ ଐ 뿜 👩 ḧ ▾ 젓 짠 莆 ∶ 谓 ఊ 辑 囑 庐 笋 痣 攸 緹 窑 啧 琛 莽 ぃ ˆ 뿔 잣 🌼 댐 馭 匆\n",
            "苓 삶 樊 鳄 彷 堯 熾 侶 뽕 侷 斋 蛀 ➧ ఞ 钧 쑤 矗 ൯ ඪ 갤 챠 ᄆ 翟 🎄  匈 鉀 璞 漳 ▪ 娱 膛 钛 蝉 惺 稜 듐 藜 摒 懦\n",
            "筝 饺 ♭ 姪 憨 炯 寰 筐 呑 ✦ 껴 💯 ঊ ⋆ 囧 쿡  😳 Ġ 绞 奄 崁 刨 縷 ၠ 憫 溃 臼 掺 嶋 遐 ▄ 撬 攘 ☻ ங 帧 Ŵ ᄇ 丐\n",
            "腋 斃 🔝 呱 枸 禎 않 吮 楞 兗 驭 颅 祟 鬚 戯 炜 萤 쿄 瀨 ၷ 📸 ͜ ٖ ൮ 🎶 婕 譴 煦 槃 倔 槟 缀 绚 馅 泓 悖 ❀ 漉 钝 茬\n",
            "璇 徨 ぉ ❣ 〒 ┐ 殉 ⤵ 괌 쿤 훔 🙋 ƣ ʖ ؎ ໔ ჱ ኺ 雏 팰 瘩 댕 큘 탬 啱 ❥ 疙 💋 晗 懊 钾 莘 ➖ 癱 蜕 赘 甥 傀 搗 犒\n",
            "昱 敖 瀋 咔 殻 岱 ┃ ◘ ぅ 줍 ڧ 📱 😐 ؁ 샬 챔 💞 髄 釉 魷 跻 拧 姻 諱 咏 輾 搔 擱 酗 暹 蚵 坍 毓 梢 闫 淄 丶 熨 ♩ ₪\n",
            "鉢 唏 绸 驼 怂 榔 ȋ ֑ ಼ 짬 뜸 삿 🌻 💝 ㄚ ၳ ậ 晰 詛 巒 兀 淼 辗 箕 芊 恺 鷗 妬 蓓 콰 舐 佰 ╗ 멤 ↙ ♧ ▀ 偌 撼 厥\n",
            "໕ 퀵 ゞ 惦 ✧ 댁 啡 ☃ 驯 惘 圃 擄 羔 渎 孰 擂 箇 孚 遏 癫 嘈 椿 懾 尧 蹊 랴 吭 🇷 ፵ ∇ 泸 颐 ઊ 恢 氈 祢 赃 軋 镶 罄\n",
            "嫦 駱 蝇 ဦ 嚨 蠔 賤 蜒 呪  긁 둡 쿵 홉 텅 汎 👆 毆 곧 뭐 穏 铮 隍 弔 詣 腆 笃 剁 懿 禿 걱 咫 颓 艸 ➢ 굉 ̆ ۗ ౯ Ẽ\n",
            "깍 瀟 跤 暄 瀝 頤 酣 驟 簇 滄 迸 哽 呛 犁 鉱 ▓ ┄ 汞 璽 睾 窖 쉘 ┌ ⚠ ጰ ☘ ῇ 窜 靑 꾀 낱 🏽 헷 钠 踐 撓 噜 岬 祺 脯\n",
            "叡 蛛 绅 濑 癲 鳞 喰 廬 歓 儷 恣 瑙 嗷 渉 佇 镁 ☠ ☪ 捗 疣 ✉ ⸗ 퀄 ̨ ᾶ 퐁  💰 Ἀ 엎 콥 팥 誡 嵩 嚥 峯 甯 鸥 읽 ✓\n",
            "ॐ 嫖 骁 垦 蜥 瞅 缤 闵 窪 硒 玮 漪 渍 ኼ 滙 竇 锯 鷲 ╭ 驛 麩 捻 녁 ヾ 箋 ෟ 쵸 💫 ൬ ῃ 챗 鯛 🎗 腓 溅 韬 凿 篆 墾 ়\n",
            " 麝 肽 帛 噱 荐 壆 碘 皈 釦 挹 敝 癣 埤 抿 堺 ↺ ☏ 咻 ∩ 嗰 ░ 糰 卯 ✒ 😝 ၲ ၝ ☕ 펍 💃 📷 😥 鯖 陨 錐 虱 诶 陝 褚\n",
            "朮 妾 擘 羌 錘 跆 亘 惮 〃 眞 ☢ 択 辙 巳 ႄ ≠ 꾹 튬 🌿 랠 ʃ 氾 蚤 鏟 娴 匾 枷 玟 ಞ 幺 洙 脖 蛟 虏 弩 恿 笈 緞 陜 醍\n",
            "鵑 珞 绯 ▻ 阡 Ō ௧ ᄅ ሢ ፹ ἄ 鄒 찐 캉  💡 儕 홋 ̵ ↪ ヲ 焙 ♐  腩 婁 剋 践 贮 屿 诽 粼 呷 噶 苞 傚 禺 婧 荫 嗤\n",
            "幌 咆 箸 欸 曽 沥 遛 唬 ↗ ʊ 🇹 ċ ɩ ۩ ኟ ፷ ḳ ║ 똘 뤼 뿍 싯   硼 蚌 绰 辍 鏢 砕 觑 窈 窕 ▷ ඌ 嚓 攣 俑 蹋 輒\n",
            "谤 鑿 餾 崑 叼 纂 殯 迄 錬 彝 玥 ➠ 畀 ໗ ʔ ሖ ▨ 뎌  😌 ʺ 숯 ◕ 迂 靳 嶽 啰 柠 拣 浚 汾 蚕 痙 鞘 儂 昵 镍 ⇚ 嚏 轍\n",
            "贓 冽 綸 鵜 🤩 倭 ឳ 臍 귄 숄 🇰 ֙ ੴ ῳ 댈 뭄 뺀 쫀 📞 😈 ⇐ ႝ 陞 龔 牀 孢 諦 験 谐 閔 皖 峥 馥 蕪 粱 ㄉ 滇 瓢 廝 筦\n",
            "淒 濺 恙 挾 浊 瘀 檐 蕉 狈 酉 涤 ⇪ ㄋ 愷 蹬 厮 敎 訝 穢 袂 ☰ 讪 ♔ 💎 ቊ ὼ 嫻 껄 눅 뎅 😮 唄 멕 Ѳ 臆 褥  鹵 衙 褶\n",
            "鉑 浣 搆 圳 懺 晝 嗣 髭 燮 貂 剿 謐 锚 羡 囍 頬 ♯ 瀰 ✡ ✎ ▦ ȃ ௪ ሤ 볍 숏 🌞 솥 👀 🎵 衢 讹 腌 饌 蟒 戎 묻 矜 膺 锈\n",
            "糜 涝 涟 烨 搪 朕 糗 苷 喽 啄 榭 諺 饵 卤 ˋ 玫 銹 ╰ 濛 鮪 ▧ 抠 赡 鉗 茧 鎧 ۞ ௫ ᅠ ↲ ❯ 띤 앳 훤   ҫ ⌒ 💌 鏽\n",
            "醚 繭 檜 佟 铂 摻 悯 箏 谚 攥 蔼 葆 邨 蛍 嬸 荏 槐 ☣ 匕 铀 ♟ 钰 릅 耆 😯 ᄌ 욘 쟈 캬 🌺 🚫 ἑ ἴ  😚 奚    🏾\n",
            "銓 匱 卅 忻 瀧 喆 裨 鉻 劾 酎 瞇 ├ ☂ ⚜ ✏ ▩ ◾ 釧  ಙ ġ ʉ ໘ ሗ 걍 쉰 쩡   📍 🍃 ┗ ╮ 粕 喎 倶 箍 ➻ 吏 隧\n",
            "蛾 掖 锻 巩 礡 唧 胁 仟 琊 铐 ✴ 鴛 炖 ╯ 讷 雋 嗑 😲 🇺 ĸ ዡ ▯ 뻥 잤 좆 춥 👧 💔 🔻  ʁ ˮ ૐ ጒ ὀ ◡ 骋 쫄  🇲\n",
            "❓ 閏 顱 洼 🇵 拮 諏 袒 惭 朧 褓 凜 戊 辫 斡 饑 瓏 拈 ❁ 磡 沓 锵 儉 苒 鲤 鳶 梆 瑠 ɾ ໙ ឦ 搾 篠 ħ ௨ ൭ ඃ 곶 뾰 셸\n",
            "툭 헉 훗  🤦 ɡ ḏ ✕ 跷 🌈 麴 ┴ 嫡 燎 숫 斓 鐳 栅 骇 诲 钊 橇 炽 珑 挛 叻 鏤 ◙ 呤 謄 ┤ ௩ ᴀ 廻 됬 딤 Ɗ Ỡ ✊ 댔\n",
            "돗 슛 윅 튠  🏃 👫 🖤 ὄ 箴 薏 珉 訕 獺 礫 煒 ‖ 籬 禀 枭 轿 葳 阑 頹 忏 泗 貳 懋 壬 鐸 漯 羲 粿 ✗ ➸ 峠 鉆 ⇢ ♮ 蒔\n",
            "癬 聾 🎅 ‿ ʒ Һ ؂ ഌ ໖ 겜 뺨 팠  🌴 ႌ 쥔 ɐ 豉 👗 揹 嗝 窿 谛 脐 筏 枋 轧 ╪ 詮 掣 鉉 秧 浒 姝 鐲 驿 邇 翱 哧 珮\n",
            "昀 壕 蔘 飴 睬 嘰 踱 ╚ 娄 ⇜ 呉 ⇔ 瀏 鑰 ๅ ሇ 蘸 륵 핌 📚  ̂ ΰ ኁ ḋ ∈ ⛳ 갭 궈 껌 냠 뎀 렙 쓱 🎂 🔬 啖 鴦 秩 ✤\n",
            "楣 纭 悵 辻 愫 荟 绥 ਔ 嗔 郜 沱 姣 綵 簸 稟 纶 绮 帼 ☁ 殞 ➳ 矯 瀑 驢 ♤ 艶 祓 璟 ✰ ➽ ɲ ௬ ▐ ◉ 焱 筈 떄 뛸 🌱 ਃ\n",
            "ഝ ዃ 괘 꺽 믈 얏  ⚕ 꽝 殲 😵 ⇈ 慄 渕 蠱  ┏ 戌 豌 鷺 旻 蕨 疡 婭 隼 诋 鹭 閻 肮 潼 嗶 ┅ 즌 ╔ 堿 ⇦ 潢 隈 啾 罠\n",
            "✄ 詼 閲 ◼ 룽 웁 🏆  ۟ 翎 钴 쁠 🇦 🇮 轶 밧 桦 疱 瞼 嘍 炤 搀 ⇀ 楔 羿 杵 鞣 蹙 韜 娼 铵 撂 涸 葦 櫛 漣 鼾 猟 粑 ╝\n",
            "✯ 迢 ┣ 馁 揆 ✆ 嘌 笹 ✲ 铿 粛 钳 ❑ 땜 떳 빕 엊 컥 🍁 🍌 ᅡ 찼 🎧 ◥ 遶 끗 ♞ 鑾 ⇊ 藕 淬 俸 戾 氪 诿 狸 荼 妤 熒 稷\n",
            "摹 峪 簷 踞 舛 憔 癇 醺 壑 聶 ➹ 悴 溥 燴 娛 蚪 闔 ↹ 渓 晌 桟 垠 瀛 膣 ✘ 😑 🐱 ๏ ╤ 飩 씰 ̍ ӛ ᴏ Ἐ 뻘 켐   \n",
            "🇬 🎤 🎥 📝 📮 🔵 ṯ ✩ 攞 槳 🇪 🎈 ǐ 〟  驍 ♕ 徇 銑 ⭕ 鱿 蘋 臧 徠 诛 疸 麾 頜 嗖 頷 勲 麂 掂 砧 👦 ♖ ◁ ➛ 慳 裾\n",
            "📖 Ѝ 겅 ǫ ኲ ᾳ ₾ ⏬ ╘ 兎 욜 탤 퍽 훅 ➜ 榛 呸 沅 吒 漕 罔 婢 恃 轆 旖 痤  烃 椭 僟 秸 絃 婊 勛 忿 弋 萼 泯 鹃 篱\n",
            "絹 奘 坞 涪 攫 鎳 膾 堇 俬 夙 鎬 ➼ ╩ 瘁 礎 ┨ ✐ ➺ 馋 ∗ ╒ ↷ 辕 ֳ ꨳ ʏ ኍ ὡ ₴ ≡ 뇽 빽 뺏 쏭 엥 욤 쩐 🐼 💘 😒\n",
            "😔 🤘 侬 찹 钵 泾 湮 ☔ 铢 誨 疟 鸞 荻 瞿 匝 擰 苣 偎 唰 棣 孃 湍 揶 怼 锥 鹊 桢 扈 甬 瘸 陇 嵘 ⁢ 藐 琨 獒 縈 鹦 裱 捎\n",
            "钜 睨 拴 慚 氹 嗒 驹 聡 枱 讃 邋 奬 撻 ⇥ ↠  💁 咭 霏 甕 폈 💟 ඓ ቑ ⁩ 뗄 랏 셧 첸 춧  🇧 👊 📦 🤷  攢 莒 걔 🐒\n",
            "🚗 銖   捺 蹺 琍 丨 憚 卍 鰭 糠 诬 锰 麋 蛊 蟾 甭 渚 坯 丕 籲 荀 頡 岘 泫 剌 摳 ☇ 绫 蒿 亙 ▥ ➶ ┛ 繆 捶 桀 圩 腴\n",
            "뎃 ऴ ၴ ✙ 泞 쿰 헴  💵 💻 🙇 Ɔ ֛ ۜ ਞ ᴇ ∫ 벵 🍔 💢 🚚  皋 ˌ ♢ 硏 娑 祯 溴 蚓 锲 ∕ 阖 旎 跺 攷 跛 繰 坨 雉\n",
            "塢 佯 孖 潟 噎 槿 隽 孑 梶 膦 捱 歆 筵 ┓ 櫸 ⇘ ┘ 萩 卐 妲 祗 螨 欅 佗 羟 涧 筠 ☐ ⇤ ◍ ╧   諫 쫌 찻 🇳 🎯 👳 📣\n",
            "ƴ ႛ 癸 녘 얕 옌 챈 켠  👸 🔫 🚨 ၜ ✂ ❈ 謡 넵 ╹ 얌  啜 啵 隕 囡 哂 蜊 燁 幂 滁 苇 舷 ₹ 孵 琬 叁 鵲 嬴 佘 饞 莺\n",
            "挎 庾 缜 ↶ 噠 幀 ⇖ 铠 镐 吆 俚 ╥ ⚘ ➷ 擼  ┯ ╠ 👋 ឣ ẖ ゙  ጏ Ḥ ⇃ 唑 뵈 쏜 엡 윽   👮 😙 ✳ 🌾 👻 💑 ✹\n",
            "塀 僭 ၹ 鼬 屄 ➟ 烬 ◤ ☭ 菀 👎 谘 鑊 ↼ 熹 嶮 ∠ 镭 ඈ 纔 倌 諳 髙 熵 鎢 稈 爰 龋 摟 稔 湳 餒 娣 梟 餞 ⇣ 擢 胯 疝 坳\n",
            "壱 聿 镑 掬 皑 ⇁ 喏 俣 ⇞ 铉 莪 ᴗ ╋ 塁 ➨ 訶 ௮ ႗ ∂ ╙ 敍 錆 귓 ৳ ൿ ႋ ṫ ☚ 맣 숀 앎 욥 젬 쥴 쩜   🇨 🇱 🏠\n",
            "🐶 👠 쌩 😣 彡 铬  蓁 囝 錨 雹 ぢ 狒 褂 碇 煖 糅 讥 囿 訛 瞟 菏 ̈ 妩 牒 銬 囱 浔 铎 壅 鐮 缄 昶 孺 柒 璣 埸 葷 ∴ ╨\n",
            "獷 蔺 蚣 ㄨ 瀆 蓼 ♘ 苺 ʀ ┲ 胴 ˃ ❎ ➦ ʋ ʟ ֗ ֤ ۝ ਙ ၭ ᄁ Ὁ ⏰ ▮ ✚ 崴 갸 쌔 웜  😓 🙃 ɴ ̯ 麹 잰 짊 ʾ 蜆\n",
            "↾ 蜈 覃  ↟ ↿ 噤 ⇗ 缇 ◣ ➥ 👿 芍  🇯 蹿 躾 葺 濮 颍 勅 桨 搽 镳 昙 砷 萦 腈 藿 桎 紜 砚 ╓ 涓 砦 舫  鎚 惣 暸\n",
            "燜 诃 馍 荳 蜱 ┫ 鲑 ❂ 晔 嘞 ՟ ヱ ☄ 颯 ॠ ⁦ 淸 🔔 😬 Ŕ ȇ ঵ ඖ ὕ 꼰 쌌 팻 헹 🌎 🍬 🍾 💄 📃 🔰 긱 멱 샥 쎈 짭 찡\n",
            "캇 텨 힝   🇭 🍺 ჷ 樫 🎬 ❶ 鱒 裆 荤 袴 ヂ 🎼 殇 羥 👔 鱸 掟 玷  佃 淞 踮 鈾 鋤 阙 皚 ♈ 伈 榷 룹 烩 炅 乓 陲 脓\n",
            "缈 袄 乩 鎔 溧 盹 冪 衹 ⇄ 鈑 贻 蕁 颌 ╉ 渙 ┽ ☯ 俵 ⇟ 祎 ╣ 砝 ⇙ 鵰 ◢ ♜ 旌 瘪 簌 ┇ 锏 ˊ ♗ 芎 ∑ ╳ ❷ ゝ ᴘ 鱔\n",
            "🍊 ɣ ௯ ໞ ဪ ᄑ ⚓ 拯 踉 蹣 숱 쨍 튤  🍂 🍒 🏿 🙊 ҏ ୢ ዅ ṗ ἤ ℣ ⇓ ⌚ 燼 鰹    🌊 👤 👶 💀 📩 😻 🥇 ઞ 〆\n",
            "빤 ႜ ☷ 훨 ┬  ⇋ 暌  薙 ╜ 揸 莢 囙 鰲 辮 驊 峴 埰 葯 粄 薫 椪 盅 暘 尒 栾 涣 怵 颚 缽 犊 谑 㗎 皎 饷 魇 臊 豢 ┷\n",
            "搡 馏 钗 痧 颱 冏 戍 琰 畠 ☾ 舺 艮 ⇡ 侑 冴 鐺 ➚ ❦ 锄 ┮ 鞄 珏 嗲 芃 鮨 嬷 綏 😤 ┹ 舘 ↖  👜 🔁 ᆫ ᴛ ↽ ┳ ꣳ 굼\n",
            "깬 낍 뭣 쫙 쾰 텁     🌲 👁 ܐ 啫 쪄 캅 💲 🔜 驥 ➴ 紺 碉 ⊕ 👣 ʌ 矇 冢 咨 燊 恫 祚 閆 藁 霁 😛 偃 騁 氡 爻 钮\n",
            "炕 谟 ┎ 譏 皰 盂 菈 淦 擞 紆 嬅 俪 圜 谌 ↤ 嫚 肏 嚢 匍 錮 瘴 攙 炔 螳 姍 ┻ 靭 靼 ╟ 诩 鈎 ╦ 綑 噼 ↴ 襬 ❧ 珺 侗 囪\n",
            "ឝ ႖ ᴍ ➕ 弼 蹶 ꨤ   🤤 ǒ ʜ ҉ ઙ ᆯ ጯ Ἡ ⛔ ✋ ➲ ⟩ ꝫ 갬  🇴 🌙 👬 📥 😗 🛍 🤪 🥀 ɒ ˂ ҳ ዯ ᴅ ✫ ⟶ 댜\n",
            "🐯 👖 ╞ 菖 🐾 👼 🔊 ┺ 釵 蟎  墒  陂 榖 羧 胥 犢 蝗 忖 摁 簍 萵 毂 彆 ἐ ↳ 訟 鏗 鏘 仨 镰 泷 喙 煊 濂 飚 灞 隴 唁\n",
            "貘 仃 亳 ̷ 宦 ╊ ╖ 鄺 韆 鞦 嬲 瞓 褔 ┱ 鋳 鱉 ↸ 卞 ┞ ┼ 軻 錳 呟 暁 ┍ 桅 躉 ↬ ⇂ 雫 叟 錚 嬪 镉 飒  ↮ 掳 ╕ ヅ\n",
            "😴 帑 撅 鎘 🇿 ಱ 쟝 🐦 ɹ ێ ᅣ ቩ ឩ ⛄ ⟨ 껀 맬 뻣 쾅 휙   🆔 🌀 🎓 🎖 🏡 👰 👱 📧 📺 🔺 😩 🚀 🚴 🧚 ḃ 齁 윰 🧡\n",
            "囁 尙 ᄊ ╫ 珪 ☒ 蕞 毘 幔 訥 鲲 璜 蛹 ┠ 誅 奐 僥 澗 鹑 鉬 仄 滂 偈 闆 劏 邬 勣 呲 魘 痂 纾 婵 勐 伉 ┑ 鉸 堑 ╄ 颳 ┾\n",
            "咂 喩 笆 騏 ☊ 搥 ☽ 缰 疵 ┟ ✱ 胤 頚 邺 鬃 貅 ↧ ❝ 裟 ⇍ ౄ ᴋ ┿ 🍻 🎊 🐝 ʕ ٕ ڕ ऒ ቒ ∏ ⚪ 밉 뺄 텟 🇩 🌍 🍳 🍷\n",
            "ǽ ѹ ௭ ᅩ ቛ ቯ ẕ ἥ ∅ ⏪ ◗ ⬆ 龕 뚤 띵 벧 뵐 츨 쿱 힛    ﷦ 🍇 🍦 🖒 ̐ 脲 갠 💳 ❕  ✥ 羣 蓑 餮 ↦ 凪 迺\n",
            "馗 骐 篓 寘 襖 唖 郅 餸 ∷ 釗 軼 谕 ╢ 栢 鏞 罡 耄 郗 晞 濰 髻 鸢 摞 骥 酐 膊 萣 悽 蝨 ┢ 讶 纣 钨 縝 脛 舶 秆 ┧ ㄇ 灏\n",
            "獾 虻 巽 睏 诏 聼 蜢 硯 楹 塭 焯 羸 跎 ┚ ㄏ 簪 ☋ 芡 ♙ 燿 鲟 罂 嗌 ♝ 涔 🐷 榎 躑 吡 🆘  ↨ 噔 鬓 嘤 焜 蜃 🐰 👕 ɢ\n",
            "浬 🇫 ೖ ႍ ቌ 浏  🎙 ɖ ˎ ֨ ቖ ₱ ▹ ♻ ✭ 箫 꽈 냑 뉠 믄 샾 톈 틔  🍉 🎨 💧 😰 😶 🤝 ɕ ѡ ѧ ۦ ൡ ဎ ኂ ៚ ⌘\n",
            "눗 뮈 뼛 샨 쇳 컹 훠  🌐 🚵 ❛ 杓 藹 笏  ⇏ 玳 瀅 蛭 鍬 鯰 籟 擀 玨 ✑ 👚 孛 缨 錡 鉾 婀 捌 楨 緘 殒 剉 觴 诙 鳖 藺\n",
            "藓 鍺 岷 珩 鸵 螯 ≒ 婺 嵊 毡 坩 犽 樵 沏 疽 贛 佚 摰 啮 峦 耙 颦 昉 柊 睢 猬 ┭ ╇ 鞑 濬 哔 暐 ┝ ↥ 咿 栉 鹜 冨 ㄛ 佝\n",
            "揩 ↣ ㄎ 謁 趸 🍋 誒 ↭ 榊 蛎 縞 ☲ 🏀 瀘 ܝ 🙆 ɯ ॢ ႚ ☉ 끕 🔍 ǧ ǰ ҥ ӑ ۢ ቝ ዂ ፠ ፨ Ḕ ἵ ⇝ ✮ 갛 궂 냇 멩 빳\n",
            "숴 욧 윔 쥘 쨩      🐘 🐣 😖 😠 😨 🚶 🤓 긔 닳 퓸 휼  🦁 嘣 忒 溱 郞 🎸 😷 Ƹ ▋ 僂 슝  🗼 滦 琇 ဨ 柢 뺑\n",
            "✽ 镕 ↰  瓩 ➵ 簣 衊 ↚ ㄌ 邉 伕 吖  骅 欒 掸 砾 镌 霈 詔 瑀 骜 焖 闕 殤 顥 瞋 ̧ ၡ 掇 邳 彊 鄔 闰 囗 闌 ☹ 捋 捄\n",
            "汩 璎 菡 ┵ 蒨 膈 ╆ 娲 旮 ┦  苡 ┋ 蛆 芫 雒 睥 黍 蓖 衮 驀 嬈 🍴 滓 ↝ 珲 锹 鰍 姵 敕 峒 鴕 ┈ 薊 靛 氦 蕈 跩 輥 ☟\n",
            "燄 ゐ ↡ 昴 ㄝ ∥ ⊥ ⁯ 筊 ▴ 柩 卹 🅱 📽 ᴜ  👙 ǁ ɫ ʘ Ӊ ӯ ֧ ۥ ኌ ᐈ ὖ ┩ ◟ ☵ ❉ ❔ 倬 泠 蛐 ꨀ 겄 궜 넙 듦\n",
            "뗏 뫼 잌 촐     🇻 🌳 🍹 👥 💍 💬 💮 📹 🕺 🛒 🤨 җ ◞ 깽 멎 셍 ﷫ 💅 💉 🕊 ┙ 蔦 숑 Ӝ ⊆ ↢ 赊 厩 穣 휀 洸 褫\n",
            "肱  堃 埴 澹 ̤ ̌ 楝 艹 珥 酊 硐 苫 抺 蚝 ▎ 崢 叭 嗟 辘 蝪 糢 碴 燧 藪 畚 贄 呯 尕 ⇆ 瑗 儆 郯 榫 錕 瀞 鯤 胳 俟 萸\n",
            "╎ 毽 钒 貽 鏖 顳 恸 柘 鄕 鎭 紘 陟 靨 ✁ 嗪 ╌ 芘 ╡ 娆 仞 ┡ 嘮 嵋 踨 銨 ┖ ┸ ╅ ㄤ 辐 ↫ 弑 魟 🗽 ⇇ ☴ 鐫 ┶ 摀 柾\n",
            "💊 叵 馀 镂 丿 獠 褸  ܳ ◽ ⤴ 堙 紂 颔 🇼 Ҳ 🍰 🎋 🏝 😟 🥂 🦄 ǀ ȗ ڵ ೞ ᄄ ᄎ ᆢ Ṣ Ἔ ∮ ❸ 擻 疃 ꨓ 렝 샅 쑈 츰\n",
            "폿 퓰         🍪 🍫 🎮 💠 💼 📎 🔅 🔗 🗣 ˗ ̑ ᎐ Ὅ ⇉ ⊂ ⛱ ⱪ ㄍ ꨟ 넴 넹 쳇    🏵 🐴 🤭 ፇ ꨱ\n",
            "🏫 猷 乇 釆 ⇅ ☱  ၐ  ╃ 〓 辊 仝 鳗 滘 溟 ̭ 萄 哝 幗 鈷  譁  茭 玑 澍 酩 瓔 鹫 ⇎ 珣 雎 籀 釩 凇 讼 铖 蚜 挞\n",
            "苹 尟 霭 牴 馊 鎵 痲 媞 鈮 钯 胫 瘧 ヰ 醮 鯧 旯 铰 嘸 忤 왑 ┥ 攰 湃 垛 繙 烴 ㄥ 嗬 鋯 煸 翀 擡 殚 潞 肓 荞 ┉ 冼 蟆 ┰\n",
            "╍ ➊ 犇 邗 靄 纨 ┒ 撵 旳 泮 脣 銚 痱 篭 龇 崧 ╁ ❞ 罈 銲 驷 惕 ┪ 籐 鑌 骊 ┆ 劭 ꨯ ܰ 竈 鎰 ಽ ᅦ ᠐ 铩 ꨮ  🐤 ʎ\n",
            "̕ ੑ ჵ ᳚ Ṭ ‵ ❙ 꼐 뎁 슌 슥 🆓 👐 🖥 🛑 ŧ Ʒ ɜ ӕ ӧ ֚ ڹ ۙ ۭ ఽ ᐉ ᤰ ᴄ ᵫ ἢ ἷ ὃ ℗ ↵ ⏳ ⛰ ➞ 揾 꿍 롄\n",
            "웡 윕 죵 콴 펨 퓌     🅾 🆑 🌏 🍆 🍏 🏋 🐥 🐻 👪 🖋 🚘 🛫 🥰 🧜 ᄐ 釹 죤 🍎 🏄 邕 鐙 ꨲ ✃ 谒 🐞 😫 躓 玆 秣 秭\n",
            "炀 衪 ↯ ╀ 訃 飮 慟 赈 觥 氘 郧 ∧ 闾 靥 箪 蜉 轂 僮 錸 黠 螫 垭 簋 箐 轲 鮫 汴 桉 睚 逵 窠 绶 髋 牍 晁 珅 躥 鳍 桧 寳\n",
            "楯 庖 獃 鑭 瓮 ˉ 鴆 睑 谏 迤 堉 妺 晷 箩 踟 栞 朐 孪 歙 焘 阚 弒 怙 蔫 踫 鸾 芻 麿 歛 ┕ ☌ ☍ 戕 莿 齶 玦 锭 剜 垓 痫\n",
            "穌 姒 ↞ ↱ 镛 👅 🤑 琮 鮎 ↜ ⇌ ヮ 骞 蟠  ܘ ᗜ 揖 荚 🐍 Ŏ ɟ ̩ ؼ ٲ ܠ ܬ ᴖ ◌ 꺄 숩 홑  𐌰 🌶 🍕 🍿 🏖 🏢 🖐\n",
            "ǣ ɤ ɳ ׀ ٘ ߪ ॔ ঽ Ⴋ ᅭ ᐛ ḱ ∃ ⏱ ⏺ ✬ ❘ ❱ ➀ 墉 崛 嶂 羋 誥 铊 飨 鲫 龢 꺅 냔 돐 뗐 볐 뻬 뽈 삥 셤 셴 솝 얍\n",
            "읜 쩝 켑 퉈 휑              🌄 🌽 🍍 🍓 🍨 👯 💏 💭 💶 📅 📬 🔖 🔶 🕔 🕵 😪 🚲 🤞 🤵 🦅 ׅ ᅢ\n",
            "ኆ ᴡ ⚔ 畵 꿩 넝 줏  🌋 🎩 📜 🔱 🦊 ꨁ 奌 🍄 🍅 🔎 鵠 🤲 ㄡ 脩 麸 🤖 ฦ 籮 ∨ ⊿ ㄅ  剷   哐 襠 懽 賁 贗 鍥 梔\n",
            "𥚃 炆 蹓 埜 曄 苕 撘 澇 譙 钼 淙 逹 糍 貍 鈀 諂 钎 抻 蒽 坭 啐 縵 蔔 눔 嵙 郢 騮 鐡 锴 鈐 閎 醴 縴 宓 剐 颉 閙 蓆 濶 璘\n",
            "彧 鰓 囌 埒 猗 鉿 酆 宍 萁 蚋 舀 嬗 滟 燚 犍 牘 ㄙ 荽 蠡 抡 馱 怆 旸 槲 绛 胍 娉 岀 涇 銻 铟 촨 👃 疇 祼 涞 銫 霰 ✣ 冧\n",
            "旼 臬 铣 铨 佶 薅 阉 靱 鞆 餽 鲔 弐 憬 閾 ໟ 吔 舸 銣 鷄 ㄞ 曌 癆 窳 脷 钍 驪 澧 皴 莳 鋐 🐸 ͈ ௰ ☶ ㄈ 劄 ֝ ႘ 띔 뤠\n",
            "셩 ǿ ʙ ҽ ۬ ⊁ ⛺ ㄕ 踰 🔞 Ҫ ஂ ഩ ◠ 瑭 꼿 뿡 졋 헙  📋 🕯 Ŗ ǵ ȅ ȏ ɼ ˥ ̰ ͅ ͻ ѥ ӣ ֍ ؞ ܓ ܪ ૄ ႟ ጔ\n",
            "ᠠ ᠢ Ḍ ḑ ṡ ⁂ ⁃ ℟ ↄ ∪ ⌀ ⎯ ❒ ➝ 侪 啶 寃 扞 洺 璉 璿 綬 膘 銉 ꞉ 땔 떵 뭡 뮴 웩 잴 쩨 칡 텡 팹 홧    \n",
            "              🅰 🌅 🌆 🌝 🍚 🍯 🍲 🎢 🏌 🏳 🐳 👄 👒 👟 👭 💆 💇 📕 🔘 🔮 🕉 🗓 🙅 🚇 🚌 🚙\n",
            "🛌 🥣 🦋 􀂃 􀂾 Ċ ҧ ֭ 놋 🎞 🎭 ㄔ 髯 쎌 쭝  ⎠ ╏ 愾 昰 蘅 铆 洵 妏 燐 茈 蒯 岵 悌 箝 胄 ꨰ 棹 愴 🙀 ╂ 啷 蓟 汨 訖\n",
            "薹 溘 祉 嚙 贰 犟 茍 凃 幵 硌 鏊 铄 錩 孬 簫 蠊 顰 邶 餉 軔 赟 鏜 躅 畦 猁 逑 賡 黜 ೕ 洄 牯 鼹 飹 椴 萜 谔 湟 絳 懟 惇\n",
            "佾 妁 襦 迳 阱 噙 縉 訢 氲 锷 颺 淯 逄 噺 觐 坵 凖 鲣 媾 櫟 苄 鎏 腭 鹄 驮 ╛ ❻ ➋ 牝 糀 缦 罘 椋 檄 錀 黌 ╈ 铌 楸 噻\n",
            "菘 ↛ 亓 嶠 錙 魈 嘜 幷 蝋 骶 豋 缬 鈿 Ӧ ㄆ 凧 嫺 尴 癩 籾 藴 ▉ 乂 琚 缎 躰 ឰ 咛 哞 怄 滢 澪 琯 赓 噯 ᠑ 笞 箓 ̜ ܼ\n",
            "ཀ ͏ ҙ ᅙ ᠭ 槇 쟌 Ǿ ̴ ฽ ฾ ᅥ ፟ 옙 졍 흣 Ŧ ֜ ഺ ᆪ ὔ ⛵ 艂 듄 뼘 삑 쥰 쨔 Ȩ ɥ ҡ ҹ ֞ ڨ ۤ ܕ ܡ ܿ ৤ ৹\n",
            "ਁ ૰ ๚ ༎ ᷆ ḛ ḟ Ḻ ⁓ ₸ ∘ ⊃ ⌂ ▰ ◔ ◻ ♋ ⚾ ✞ ✷ ✾ ❅ ❋ ❜ ㄓ 佤 塬 嬋 彣 彿 瑷 袗 诮 赉 迩 饃 鬨 鯁 鱧 겻\n",
            "꿎 돛 돠 둣 뵌 뻡 섶 솨 쉔 씸 윳 쭌 츔 쿳 큭 푯 햐 흄     ᘢ ⁡ ⊀ 灬 ꡓ 롸 벰 쑹 훙  Ƣ ۫ ོ ዧ 攆 ꨅ ۣ ≌\n",
            "婞 槙 櫓 苙 醌 馕 蚺 闍 肪 ⌣ 殮 闩 挈 裄 鬪 尐 跶 僞 粢 赝 遝 锉 鱟 鴇 ꨵ 晧 赭 妣 孓 紬 蕓 蟳 锑 鳯 慍 磧 蠹 櫈 縐 芗\n",
            " 佞 縋 钕 嫔 嬬 撣 樨 炝 芈 薨 蝮 谀 腚 酞 蓀 憺 氙 鴞 嵗 洮 槎 煋 燬 诤 刍 鏇 倜 荇 聃  濯 础 繽 畴 ዽ 蝴  휄 픕\n",
            "푀 튿 텼 콱 쭐 옻 쐈 쉑 쇽 셌 먀 띨 땋 깟 굣 갉 ꡒ 龅 鸩 鸕 鶿 鶺 鴒 鲇 鲆 鰥 鯱 鬩 髑 餿 韃 鞅 镣 锗 鏑 醂 轀 跬 趔 趄\n",
            "谶 譟 譞 訐 蛔 葚 菟 苴 臾 罣 缙 绾 绡 繾 綣 穠 碣 皸 癔 猞 澐 渃 榗 椹 椀 桠 戬 懑 慤 愎 忾 幇 嶸 姹 妪 堶 堨 唛 哚 吲\n",
            "劊 丂 ⸝ ➙ ✺ ⛅ ⎝ ₦ ⁊ ὠ ἧ ἓ Ṛ ଑ ؾ Ɵ 🤡 🚛 🐲 🍽     힉 튄 톳 캥 짰 쑨 쏼 딨 꽐 귐 鹀 鷥 鱘 髀 饴 钣\n",
            "鎩 錤 鄞 躙 蹰 蹩 豇 谄 覲 螻 蝰 薺 薌 蕚 莴 苅 绢 绔 筚 笤 矾 瑳 珐 玹 燔 瀣 沆 榉 梠 柺 杈 昺 撙 嶗 嫄 壷 堊 圄 囹 嚅\n",
            "嗫 刎 ❿ ▍ Ἠ Ἕ ଌ ٮ Ȇ 🤟 🤙  펐 츤 챤 쭙 잽 뮐 뤽 뙤 뇸 낑 껐 ꞊ 黢 鸳 鸯 鶘 鳟 餬 颧 頎 韁 鄲 逡 贔 豺 謅 諄 衿\n",
            "蜇 蚱 蘚 蕤 蓯 莧 茕 肄 聩 笥 碚 砵 玧 犛 涠 浃 氳 橿 枴 摈 揠 挲 恻 怩 忸 嶙 峋 岿 屓 塹 垩 唳 咥 倹 ☸ ∎ ₤ Ἄ ẏ ऌ\n",
            "😹 🔷   쾨 쫑 윷 앴 봣 볏 늉 녜 뀜 괭 鳕 阈 锒 鐐 貲 蛰 茼 罌 篳 硤 硚 瓚 涿 慜 孿 堛 埚 噚 刽 俋 ➯ ❮ ✶ ῥ Ἅ Ỵ\n",
            "ዻ ̔ 󰠐  쨋 옅 뽁 깻 깰 鳝 餑 輌 踽 赳 賅 讧 蟄 蝼 蒻 蒟 蒗 耷 耒 竽 窨 瑁 浐 栀 旂 壐 囃 佻 ⏑ Ὀ ἅ ኴ ߅ Ϋ Ħ \n",
            "    횃 탰 첵 옇 몄 땄 뎠 놉 뀝 鹌 騨 躪 赅 諉 詆 荖 胛 眙 瘢 甾 瓴 猕 氤 摑 ❊ ⇑ ἠ Ἑ ̡    핼 쫒 봬 묽\n",
            "뗀 꿋 귈 龈 齎 鲶 騖 阆 詡 觎 觊 襁 筲 瘜 瘘 狛 犸 炷 潸 扪 徕 崂 嘚 冑 儚 僳 傈 ṙ ૠ ϟ 🍑  탯 찧 뿅 덫 鶉 鵪 鰂 貔\n",
            "謾 褴 褛 裊 袈 耋 繍 盱 溏 楕 戡 慫 幪 嬿 埂 啻 呋 兖 ✠ ḩ Ȋ  찝 쐬 밈 넸 龊 脍 縹 緲 痼 猙 狰 犷 爌 撾 悻 儋 傣 ⓵\n",
            "ჶ ؽ 쬐 엷 쌉 뺐 뒹 넋 깼 轼 轭 蹉 謔 蝟 蜍 苳 缥 篑 狽 濘 滸 浹 忪 孱 奂 嗇 匐 儸 倏 ➔ ⛓ ⋙ ὥ Ἁ ἁ   쐐 슭 섣\n",
            "닻 铤 鑣 鄱 郫 蹑 跄 覬 覦 蔷 艋 檎 枇 杷 杳 幄 嘹 伫 ♒ ἂ ᄍ 📰 💸  햅 썽 빴 맏 끙 龌 轢 軾 踌 谩 讞 蓿 苜 牦 梏 斛\n",
            "嬛 剽 ὗ 퀼 챕 읊 뷴 鬣 驒 锢 醯 躏 詬 纫 纍 篝 睪 痍 瓯 獰 孀 嫵 偲 ❆  헵 틋 챘 쭤 잿 쏴 鱈 鬟 馄 饨 谧 讴 譎 莠 膵\n",
            "篪 瘠 狞 囔 ❏ ❇ Ἱ ඣ 뜹 눉 骯 饽 醞 贍 诣 袅 蟋 蟀 籁 礪 泱 汆 槤 惴 嶇  얗 꿉 髖 顴 靦 臃 瞌 獼 拄  폄 솎 鹉 髏\n",
            "霎 遢 蹒 誣 荨 瞠 楂 嵯 ⟵ Ḩ 󰠜 켤 좇 뛴 낵 鸠 躋 蚯 蓦 紉 淖 淅 樋 揄 捩 怅 弭 ☩ ⇨ ἦ 쁩 랗 鉚 谆 咘 ₫ 훑 샛 늪 꿇\n",
            "輟 胭 岖 孳 ፺ ዀ 펩 튕 띈 땠 鶩 骛 餛 铛 讐 衩 斕 阂 賂 蝌 茴 ἕ  숟 颶 轅 蜴 矸 徬 ☮ 雳 跚 诟 蜚 瘙 琺 帚 倣 Ẳ \n",
            "뻑 谙 腼 娯 컫 섀 啬 咤 隷 繚 礴 潦 啕 싣 镯 缮 蜓 眈 痉 殃 槻 ₽ 뻤 뉜 黝 閡 釁 蹂 蜻 惆 埗 ஔ 遨 瘓 掻 펭 퀀 떴 눴 눇\n",
            "齦 颼 蒡 耦 怦 屉 ❍  郴 榈 ፸ 맴 눕 搐 徜 徉 壌 ẍ 늠 遡 褻 蝸 潺 忡 🇸 꿰 靂 獗 醐 遑 覷 袤 岌 儼 俨 鸚 鵡 烊 渇 嚀\n",
            "缭 橢 텃 탔 댑 굶 琲 Ẵ 짖 뱉 髅 咄 鹕 鹈 蜿 ጶ 걀 爍 팎 큽 덟 馒 Ἰ 📢 촘 꿨 猾  뀔 酝 洶 ۪ 뮌 딛 迥 暱 얹 蜗 儡 ၩ\n",
            "씁 彗 잦 鍰 郸 莅 羈 殡 亵 씌 흩 뤘 謳 慵 핍 糬 뵙 诧 诅 ၣ 탉 辄 誹 蛻 殭 짙 惬 끽 痪 ऎ 킵 찢 ▭ 얽 邃 盥 屜 ὅ 睽 껑\n",
            "鹸 핥 엮 侏 텝 痿 咙 荧 飓 깎 갇 ☦ ἔ 췄 饪 ἶ 딪 腑 쨌 꽂 抨 휩 胱 깥 媲 궐 汹 螞 忑 忐 娓 앓 꺾 梱 벚 躊 婪 녔 溉 琥\n",
            "邂 컸 끓 痺 疎 匂 ጇ 躇 耸 뚫 ၨ 螃 尷 犠 얇 꼈 껍 骼 悚 쫓 惫 씻 髦 兢 绎 谴 睞 渲 崭 곁 옳 슐 촛 瑚 ၰ 볶 挚 剰 Ỹ 闺\n",
            "琐 듈 닮 譬 쩔 섞 帜 붉 恳 밌  낯 嗽 ̋ 犧 눠 낳 揺 띄 瞩 덮 癜 꿔 ‣ 쏟 쁨 睐 酋 깝 썼 痩 橄 拶 Ắ ゅ 邏 矶 ὐ 牺 ଔ\n",
            "뀌 寞 섰 렀 뽑 谅 ὸ 낄 듭 檬 옮 켰 겪 닙 끊 揃 봅 늦 괜 繋 ၎ 슷 맡 펼 랐 拡 蹈 ɗ 촬 诞 깊 Ự 낌 봤 雰 Ứ 씀 믿 圾 Ộ\n",
            "ƙ 悩 Ấ 놓 槛 ẵ 囲 険 왔 垄 높 됩 렇 ଞ 받 ẫ ẩ ắ 垃 徘 赁 ầ 娠 徊 蜘 踴 ấ 稣\n"
          ],
          "name": "stdout"
        }
      ]
    },
    {
      "cell_type": "markdown",
      "metadata": {
        "id": "uPnW2RetYc97"
      },
      "source": [
        "### Token Lengths\n",
        "Let's gather some statistics on the vocabulary.\n",
        "\n"
      ]
    },
    {
      "cell_type": "code",
      "metadata": {
        "id": "LjvrWcNTdkAW",
        "outputId": "43c863fa-95a3-4311-888a-88fb0224da6c",
        "colab": {
          "base_uri": "https://localhost:8080/",
          "height": 477
        }
      },
      "source": [
        "import matplotlib.pyplot as plt\n",
        "import seaborn as sns\n",
        "import numpy as np\n",
        "\n",
        "sns.set(style='darkgrid')\n",
        "\n",
        "# Increase the plot size and font size.\n",
        "sns.set(font_scale=1.5)\n",
        "plt.rcParams[\"figure.figsize\"] = (10,5)\n",
        "\n",
        "# Measure the length of every token in the vocab.\n",
        "token_lengths = [len(token) for token in all_tokens]\n",
        "\n",
        "# Plot the number of tokens of each length.\n",
        "sns.countplot(token_lengths)\n",
        "plt.title('Vocab Token Lengths')\n",
        "plt.xlabel('Token Length')\n",
        "plt.ylabel('# of Tokens')\n",
        "\n",
        "print('Maximum token length:', max(token_lengths), '\\n\\n')\n",
        "\n",
        "plt.show()"
      ],
      "execution_count": 49,
      "outputs": [
        {
          "output_type": "stream",
          "text": [
            "/usr/local/lib/python3.6/dist-packages/seaborn/_decorators.py:43: FutureWarning: Pass the following variable as a keyword arg: x. From version 0.12, the only valid positional argument will be `data`, and passing other arguments without an explicit keyword will result in an error or misinterpretation.\n",
            "  FutureWarning\n"
          ],
          "name": "stderr"
        },
        {
          "output_type": "stream",
          "text": [
            "Maximum token length: 16 \n",
            "\n",
            "\n"
          ],
          "name": "stdout"
        },
        {
          "output_type": "display_data",
          "data": {
            "image/png": "[encoded data removed]",
            "text/plain": [
              "<Figure size 720x360 with 1 Axes>"
            ]
          },
          "metadata": {
            "tags": []
          }
        }
      ]
    },
    {
      "cell_type": "code",
      "metadata": {
        "id": "35D4FGbx5IYU",
        "outputId": "e38793b2-693f-43c0-f9da-f0da73da5b8b",
        "colab": {
          "base_uri": "https://localhost:8080/",
          "height": 1000
        }
      },
      "source": [
        "for token in all_tokens:\n",
        "    if len(token) == 16:\n",
        "        print(token)"
      ],
      "execution_count": 50,
      "outputs": [
        {
          "output_type": "stream",
          "text": [
            "▁Respublikasının\n",
            "▁Республикасынын\n",
            "▁Республикасының\n",
            "................\n",
            "▁características\n",
            "▁unterschiedlich\n",
            "▁desenvolvimento\n",
            "▁государственной\n",
            "▁հնարավորություն\n",
            "▁responsabilidad\n",
            "▁kontaktannonser\n",
            "▁अन्तर्राष्ट्रिय\n",
            "▁desenvolvemento\n",
            "▁використовувати\n",
            "▁personenbezogen\n",
            "▁aproximadamente\n",
            "▁caratteristiche\n",
            "▁spilleautomater\n",
            "▁փոփոխություններ\n",
            "государственного\n",
            "▁professionnelle\n",
            "responsabilidade\n",
            "▁ответственности\n",
            "▁prostredníctvom\n",
            "particulièrement\n",
            "▁непосредственно\n",
            "відповідальності\n",
            "▁ответственность\n",
            "▁предприниматель\n",
            "▁przedsiębiorstw\n",
            "▁государственных\n",
            "lbstverständlich\n",
            "▁Herausforderung\n",
            "▁պատասխանատվությ\n",
            "▁desenvolupament\n",
            "----------------\n",
            "законодательства\n",
            "▁Veranstaltungen\n",
            "▁particolarmente\n",
            "▁correspondiente\n",
            "▁профессионально\n",
            "▁internacionales\n",
            "відповідальність\n",
            "wissenschaftlich\n",
            "▁Universitetinin\n",
            "▁կազմակերպության\n",
            "▁internationalen\n",
            "▁տեղեկություններ\n",
            "eneralforsamling\n",
            "▁Հանրապետություն\n",
            "▁հայտարարություն\n",
            "বিশ্ববিদ্যালয়ের\n",
            "verantwoordelijk\n",
            "ถานที่ท่องเที่ยว\n",
            "onfidențialitate\n",
            "▁texnologiyalari\n",
            "▁responsabilitat\n",
            "persoonsgegevens\n",
            "▁definitivamente\n",
            "▁nangangahulugan\n",
            "▁förutsättningar\n",
            "▁Desenvolvimento\n",
            "Dienstleistungen\n",
            "քաղաքականություն\n",
            "▁personuppgifter\n",
            "▁административно\n",
            "▁ընտրությունների\n",
            "▁Республикасында\n",
            "▁քաղաքականության\n",
            "▁ulaşabilirsiniz\n",
            "▁воспользоваться\n",
            "gerçekleştirilen\n",
            "▁ນະຄອນຫຼວງວຽງຈັນ\n",
            "▁infraestructura\n",
            "▁законодателство\n",
            "▁internationella\n",
            "використовується\n",
            "ព័ត៌មានអន្តរជាតិ\n",
            "▁automaticamente\n",
            "ของโรคสะเก็ดเงิน\n",
            "▁Assalamualaikum\n",
            "▁respectivamente\n",
            "▁establecimiento\n",
            "▁Voraussetzungen\n",
            "▁Respublikasında\n",
            "▁მუნიციპალიტეტის\n",
            "πραγματοποιήθηκε\n",
            "використовуються\n",
            "▁organisatsiooni\n",
            "ــــــــــــــــ\n",
            "durchschnittlich\n",
            "▁funkcionalnosti\n",
            "▁адміністративно\n",
            "▁предусмотренных\n",
            "holdsfortegnelse\n",
            "▁အကြောင်းအရာများ\n",
            "Veröffentlichung\n",
            "bertanggungjawab\n",
            "Respublikasining\n",
            "▁здравоохранения\n",
            "ծառայությունների\n",
            "▁Дніпропетровськ\n",
            "▁particularmente\n",
            "mattikorkeakoulu\n",
            "________________\n",
            "akomillashtirish\n",
            "característiques\n",
            "▁प्रधानमन्त्रीको\n",
            "mozadovoljevanje\n",
            "gesellschaftlich\n",
            "▁կառավարությունը\n",
            "▁henkilökohtaise\n",
            "▁gespecialiseerd\n",
            "▁Ansprechpartner\n",
            "ประสบความสําเร็จ\n",
            "▁prostřednictvím\n",
            "▁административни\n",
            "தெரிவித்துள்ளார்\n",
            "charakterystyczn\n",
            "▁təhlükəsizliyin\n",
            "конфіденційності\n",
            "գործունեությունը\n",
            "dpowiedzialności\n",
            "▁Universitetində\n",
            "▁образовательных\n",
            "ընտրություններին\n",
            "▁estabelecimento\n",
            "ที่เกี่ยวข้องกับ\n",
            "действительности\n",
            "▁குறிப்பிடத்தக்க\n",
            "▁Kontaktannonser\n",
            "စည်းကမ်းချက်များ\n",
            "▁necessariamente\n",
            "▁todennäköisesti\n",
            "▁tulevaisuudessa\n",
            "wirtschaftlichen\n",
            "henswürdigkeiten\n",
            "▁automatiquement\n",
            "▁successivamente\n",
            "▁ကိုယ်ရေးကိုယ်တာ\n",
            "▁toimitusjohtaja\n",
            "▁πραγματοποιηθεί\n",
            "了您的學業和身心健康請不要沉迷於\n",
            "▁professionalità\n",
            "▁qanunvericiliyi\n",
            "习近平新时代中国特色社会主义思想\n",
            "▁государственный\n",
            "▁գործակալություն\n",
            "забележителности\n",
            "▁malheureusement\n",
            "▁ծառայություններ\n",
            "▁წარმომადგენლები\n",
            "interdisciplinar\n",
            "responsabilitate\n",
            "lauksaimniecības\n",
            "իշխանությունների\n",
            "▁байгууллагуудын\n",
            "профессиональной\n",
            "▁Bundesregierung\n",
            "រក្សាសិទ្ធិគ្រប់\n",
            "▁Schwangerschaft\n",
            "▁recommendations\n",
            "บริการข่าวไทยรัฐ\n",
            "▁mahdollisuuksia\n",
            "▁verantwoordelik\n",
            "предпринимателей\n",
            "▁предусматривает\n",
            "административных\n",
            "▁налогообложения\n",
            "▁Digitalisierung\n",
            "▁նախարարությունը\n",
            "▁ମୁଖ୍ୟମନ୍ତ୍ରୀଙ୍କ\n",
            "производственных\n",
            "▁texnologiyaları\n",
            "▁Wissenschaftler\n",
            "соответствующего\n",
            "▁investigaciones\n",
            "▁Geschäftsführer\n",
            "overensstemmelse\n",
            "▁დამოუკიდებლობის\n",
            "профессиональных\n",
            "▁Tartalomjegyzék\n",
            "mempertimbangkan\n",
            "▁പ്രസിദ്ധീകരിച്ച\n",
            "▁պարտավորություն\n",
            "▁recomendaciones\n",
            "ommunfullmäktige\n",
            "bwechslungsreich\n",
            "▁свидетельствует\n",
            "▁Kontaktformular\n",
            "▁գործունեություն\n",
            "▁Desenvolvemento\n",
            "▁χρησιμοποιείται\n",
            "▁ընկերություններ\n",
            "▁automaattisesti\n",
            "▁dienstverlening\n",
            "▁အပြောင်းအလဲများ\n",
            "իշխանությունները\n",
            "▁Geschwindigkeit\n",
            "▁χρησιμοποιώντας\n",
            "caractéristiques\n",
            "▁պարտականություն\n",
            "конкурентоспособ\n",
            "▁մեկնաբանություն\n",
            "kommunikatsiooni\n",
            "ullanabilirsiniz\n",
            "▁problemstilling\n",
            "▁wafanyabiashara\n",
            "▁университетинин\n",
            "льскохозяйственн\n",
            "շնորհակալություն\n",
            "▁Schwierigkeiten\n",
            "▁tentoonstelling\n",
            "հաղորդագրություն\n",
            "iepełnosprawnych\n",
            "ընկերությունների\n",
            "ristrutturazione\n",
            "▁berücksichtigen\n",
            "▁penyelenggaraan\n",
            "▁przedsiębiorców\n",
            "เพิ่มความแข็งแรง\n",
            "▁соответствовать\n",
            "fundamentalmente\n",
            "yksinkertaisesti\n",
            "▁взаимоотношения\n",
            "▁gücləndirilməsi\n",
            "▁administracijos\n",
            "comercialización\n",
            "sustentabilidade\n",
            "▁распространение\n",
            "▁genişləndirilmə\n",
            "▁diselenggarakan\n",
            "কামোত্তেজকতত্ত্ব\n",
            "gerçekleştirildi\n",
            "▁ವಿದ್ಯಾರ್ಥಿಗಳಿಗೆ\n",
            "▁müəssisələrində\n",
            "▁vedligeholdelse\n",
            "▁പ്രസിദ്ധീകരിക്ക\n",
            "загальноосвітніх\n",
            "հայտարարությունը\n",
            "փոփոխությունների\n",
            "▁personoplysning\n",
            "▁առողջապահության\n",
            "▁տեղեկատվություն\n",
            "▁Административно\n",
            "χρησιμοποιούνται\n",
            "здравеопазването\n",
            "terveydenhuollon\n",
            "▁veröffentlichen\n",
            "▁କାର୍ଯ୍ୟାନୁଷ୍ଠାନ\n",
            "ntwoordelijkheid\n",
            "адміністративних\n",
            "законодательство\n",
            "▁արդարադատության\n",
            "▁квалифицированн\n",
            "maatschappelijke\n",
            "▁jashtëzakonshme\n",
            "▁առանձնահատկությ\n",
            "распространяется\n",
            "bendradarbiavimo\n",
            "▁multidisciplina\n",
            "Önkormányzatának\n",
            "seinandersetzung\n",
            "функционирования\n",
            "axşılaşdırılması\n",
            "zainteresowanych\n",
            "Κωνσταντινούπολη\n",
            "▁Մեկնաբանություն\n",
            "▁տարածաշրջանային\n",
            "▁соответствующей\n",
            "совершеннолетних\n",
            "▁överenskommelse\n",
            "Cumhurbaşkanlığı\n",
            "▁Desenvolupament\n",
            "ndependentemente\n",
            "▁yhteiskunnallis\n",
            "wetenschappelijk\n",
            "zusammengestellt\n",
            "գործողություններ\n",
            "▁վիճակագրություն\n",
            "petussuunnitelma\n",
            "▁Malheureusement\n",
            "▁höfuðborgarsvæð\n",
            "eiterentwicklung\n",
            "overnattingssted\n",
            "zərbaycanlıların\n",
            "odpowiedzialność\n",
            "contactformulier\n",
            "responsibilities\n",
            "▁elengedhetetlen\n",
            "▁გათვალისწინებით\n",
            "predchádzajúceho\n",
            "yhteistyökumppan\n",
            "▁poľnohospodársk\n",
            "▁ինքնակառավարման\n",
            "മുഖ്യമന്ത്രിയുടെ\n",
            "หาวิทยาลัยราชภัฏ\n",
            "▁förhoppningsvis\n",
            "================\n",
            "▁преимущественно\n",
            "▁transportlīdzek\n",
            "გათვალისწინებული\n",
            "▁neurodermatitis\n",
            "thrombophlebitis\n"
          ],
          "name": "stdout"
        }
      ]
    },
    {
      "cell_type": "markdown",
      "metadata": {
        "id": "QQ8YUh75Usqj"
      },
      "source": [
        "Let's look at just the subwords."
      ]
    },
    {
      "cell_type": "markdown",
      "metadata": {
        "id": "wah_WTk86JMw"
      },
      "source": [
        "### English Words"
      ]
    },
    {
      "cell_type": "code",
      "metadata": {
        "id": "itjZz0sY6Kv9",
        "outputId": "8b498377-59e6-416a-b571-d49691301937",
        "colab": {
          "base_uri": "https://localhost:8080/",
          "height": 68
        }
      },
      "source": [
        "import nltk\n",
        "from nltk.corpus import wordnet\n",
        "\n",
        "nltk.download('wordnet')"
      ],
      "execution_count": 51,
      "outputs": [
        {
          "output_type": "stream",
          "text": [
            "[nltk_data] Downloading package wordnet to /root/nltk_data...\n",
            "[nltk_data]   Package wordnet is already up-to-date!\n"
          ],
          "name": "stdout"
        },
        {
          "output_type": "execute_result",
          "data": {
            "text/plain": [
              "True"
            ]
          },
          "metadata": {
            "tags": []
          },
          "execution_count": 51
        }
      ]
    },
    {
      "cell_type": "code",
      "metadata": {
        "id": "tGI6mHCl6Lm0",
        "outputId": "b880b150-7dac-4161-ccf6-93bb5cb7a841",
        "colab": {
          "base_uri": "https://localhost:8080/",
          "height": 85
        }
      },
      "source": [
        "english_tokens = []\n",
        "\n",
        "print('Checking all tokens against WordNet to find the English ones...')\n",
        "\n",
        "# For all of the tokens...\n",
        "for token in all_tokens:\n",
        "    \n",
        "    # Only check whole words, which will start with an underscore.\n",
        "    if token[0] == '▁':\n",
        "        \n",
        "        # Check to see if the token is in wordnet.\n",
        "        if wordnet.synsets(token[1:]):\n",
        "            # If it is, assume it's English.\n",
        "            english_tokens.append(token[1:])\n",
        "\n",
        "print(' DONE.')\n",
        "\n",
        "num_eng = len(english_tokens)\n",
        "prcnt_eng = num_eng / len(all_tokens)\n",
        "\n",
        "print('\\n{:,} of {:,} words ({:.0%}) were recognized by WordNet'.format(num_eng, len(all_tokens), prcnt_eng))"
      ],
      "execution_count": 52,
      "outputs": [
        {
          "output_type": "stream",
          "text": [
            "Checking all tokens against WordNet to find the English ones...\n",
            " DONE.\n",
            "\n",
            "11,396 of 250,002 words (5%) were recognized by WordNet\n"
          ],
          "name": "stdout"
        }
      ]
    },
    {
      "cell_type": "code",
      "metadata": {
        "id": "Y6jYrajJ8cZm",
        "outputId": "9e39af4f-ecbb-4540-b6d0-89570ad83aeb",
        "colab": {
          "base_uri": "https://localhost:8080/",
          "height": 187
        }
      },
      "source": [
        "import random\n",
        "\n",
        "# Check out 10 random English tokens.\n",
        "for i in range(0, 10):\n",
        "    print(random.choice(english_tokens))"
      ],
      "execution_count": 53,
      "outputs": [
        {
          "output_type": "stream",
          "text": [
            "destruction\n",
            "Gan\n",
            "Winner\n",
            "Recovery\n",
            "reeks\n",
            "tempos\n",
            "pali\n",
            "promote\n",
            "Usa\n",
            "insulin\n"
          ],
          "name": "stdout"
        }
      ]
    },
    {
      "cell_type": "markdown",
      "metadata": {
        "id": "eVDiQTfL8m5G"
      },
      "source": [
        "You can use the following to look up the WordNet definition(s) if you see something weird. "
      ]
    },
    {
      "cell_type": "code",
      "metadata": {
        "id": "CgUwcYAx7UUu",
        "outputId": "16dae08f-765b-4dcb-f4e8-805f9c4dde14",
        "colab": {
          "base_uri": "https://localhost:8080/",
          "height": 35
        }
      },
      "source": [
        "wordnet.synsets(\"MASA\")[0].definition()"
      ],
      "execution_count": 54,
      "outputs": [
        {
          "output_type": "execute_result",
          "data": {
            "application/vnd.google.colaboratory.intrinsic+json": {
              "type": "string"
            },
            "text/plain": [
              "'an independent group of closely related Chadic languages spoken in the area between the Biu-Mandara and East Chadic languages'"
            ]
          },
          "metadata": {
            "tags": []
          },
          "execution_count": 54
        }
      ]
    },
    {
      "cell_type": "markdown",
      "metadata": {
        "id": "jFfNdJE58y9b"
      },
      "source": [
        "### Whole Words vs. Subwords"
      ]
    },
    {
      "cell_type": "code",
      "metadata": {
        "id": "69Vf46p-Ym97"
      },
      "source": [
        "num_subwords = 0\n",
        "\n",
        "subword_lengths = []\n",
        "\n",
        "# For each token in the vocabulary...\n",
        "for token in all_tokens:\n",
        "    \n",
        "    # If it's a subword...\n",
        "    if not token[0] == '▁':\n",
        "        \n",
        "        # Tally all subwords\n",
        "        num_subwords += 1\n",
        "\n",
        "        # Measure the sub word length (without the underscore)\n",
        "        length = len(token) - 1\n",
        "\n",
        "        # Record the lengths.        \n",
        "        subword_lengths.append(length)\n"
      ],
      "execution_count": 55,
      "outputs": []
    },
    {
      "cell_type": "markdown",
      "metadata": {
        "id": "lakK1gF-S1Ej"
      },
      "source": [
        "How many subword tokens are there vs. the full vocab?"
      ]
    },
    {
      "cell_type": "code",
      "metadata": {
        "id": "PJh6wl2bSzaC",
        "outputId": "23f62c73-9a10-4ce8-c6ef-13764bf70fc1",
        "colab": {
          "base_uri": "https://localhost:8080/",
          "height": 34
        }
      },
      "source": [
        "vocab_size = len(all_tokens)\n",
        "\n",
        "# Calculate the percentage of words that don't have a leading underscore.\n",
        "prcnt = float(num_subwords) / vocab_size\n",
        "print('Number of subwords: {:,} of {:,} ({:.0%})'.format(num_subwords, vocab_size, prcnt))\n"
      ],
      "execution_count": 56,
      "outputs": [
        {
          "output_type": "stream",
          "text": [
            "Number of subwords: 95,373 of 250,002 (38%)\n"
          ],
          "name": "stdout"
        }
      ]
    },
    {
      "cell_type": "markdown",
      "metadata": {
        "id": "fj_AcObWS-1S"
      },
      "source": [
        "Plot the subword lengths."
      ]
    },
    {
      "cell_type": "code",
      "metadata": {
        "id": "fO1GeFbhSyhD",
        "outputId": "7bb7ea37-7a57-4c3e-bb86-d9c76d939784",
        "colab": {
          "base_uri": "https://localhost:8080/",
          "height": 426
        }
      },
      "source": [
        "sns.countplot(subword_lengths)\n",
        "plt.title('Subword Token Lengths (w/o \"▁\")')\n",
        "plt.xlabel('Subword Length')\n",
        "plt.ylabel('# of Subwords')\n",
        "plt.show()"
      ],
      "execution_count": 57,
      "outputs": [
        {
          "output_type": "stream",
          "text": [
            "/usr/local/lib/python3.6/dist-packages/seaborn/_decorators.py:43: FutureWarning: Pass the following variable as a keyword arg: x. From version 0.12, the only valid positional argument will be `data`, and passing other arguments without an explicit keyword will result in an error or misinterpretation.\n",
            "  FutureWarning\n"
          ],
          "name": "stderr"
        },
        {
          "output_type": "display_data",
          "data": {
            "image/png": "[encoded data removed]",
            "text/plain": [
              "<Figure size 720x360 with 1 Axes>"
            ]
          },
          "metadata": {
            "tags": []
          }
        }
      ]
    },
    {
      "cell_type": "markdown",
      "metadata": {
        "id": "gCDYsO8qyepC"
      },
      "source": [
        "### Misspellings"
      ]
    },
    {
      "cell_type": "code",
      "metadata": {
        "id": "p-n_ObF14sh3",
        "outputId": "71bc4aac-b636-4fce-fc1d-020c7b847e87",
        "colab": {
          "base_uri": "https://localhost:8080/",
          "height": 34
        }
      },
      "source": [
        "'▁misspelled' in all_tokens # Right"
      ],
      "execution_count": 58,
      "outputs": [
        {
          "output_type": "execute_result",
          "data": {
            "text/plain": [
              "False"
            ]
          },
          "metadata": {
            "tags": []
          },
          "execution_count": 58
        }
      ]
    },
    {
      "cell_type": "code",
      "metadata": {
        "id": "FnUu6C_VjTVQ",
        "outputId": "144f9cea-fc94-4e16-f426-d3459940bb7c",
        "colab": {
          "base_uri": "https://localhost:8080/",
          "height": 34
        }
      },
      "source": [
        "'▁mispelled' in all_tokens # Wrong"
      ],
      "execution_count": 59,
      "outputs": [
        {
          "output_type": "execute_result",
          "data": {
            "text/plain": [
              "False"
            ]
          },
          "metadata": {
            "tags": []
          },
          "execution_count": 59
        }
      ]
    },
    {
      "cell_type": "code",
      "metadata": {
        "id": "GrKICg1y45Rz",
        "outputId": "1408a833-78a5-44b0-abde-32d929992f8b",
        "colab": {
          "base_uri": "https://localhost:8080/",
          "height": 34
        }
      },
      "source": [
        "'▁government' in all_tokens # Right"
      ],
      "execution_count": 60,
      "outputs": [
        {
          "output_type": "execute_result",
          "data": {
            "text/plain": [
              "True"
            ]
          },
          "metadata": {
            "tags": []
          },
          "execution_count": 60
        }
      ]
    },
    {
      "cell_type": "code",
      "metadata": {
        "id": "fO72IlrU5I8t",
        "outputId": "76855bd0-c26e-49b5-d94f-0e81fc6b37c6",
        "colab": {
          "base_uri": "https://localhost:8080/",
          "height": 34
        }
      },
      "source": [
        "'▁goverment' in all_tokens # Wrong"
      ],
      "execution_count": 61,
      "outputs": [
        {
          "output_type": "execute_result",
          "data": {
            "text/plain": [
              "False"
            ]
          },
          "metadata": {
            "tags": []
          },
          "execution_count": 61
        }
      ]
    },
    {
      "cell_type": "code",
      "metadata": {
        "id": "FfqU2qbpjubX",
        "outputId": "7a6ce524-898c-4d72-f8c3-296b34e0817f",
        "colab": {
          "base_uri": "https://localhost:8080/",
          "height": 34
        }
      },
      "source": [
        "'▁beginning' in all_tokens # Right"
      ],
      "execution_count": 62,
      "outputs": [
        {
          "output_type": "execute_result",
          "data": {
            "text/plain": [
              "True"
            ]
          },
          "metadata": {
            "tags": []
          },
          "execution_count": 62
        }
      ]
    },
    {
      "cell_type": "code",
      "metadata": {
        "id": "Cvzy-sMsjs5P",
        "outputId": "02ca11f8-7cec-4695-dcef-378460abd828",
        "colab": {
          "base_uri": "https://localhost:8080/",
          "height": 34
        }
      },
      "source": [
        "'▁begining' in all_tokens # Wrong"
      ],
      "execution_count": 63,
      "outputs": [
        {
          "output_type": "execute_result",
          "data": {
            "text/plain": [
              "False"
            ]
          },
          "metadata": {
            "tags": []
          },
          "execution_count": 63
        }
      ]
    },
    {
      "cell_type": "code",
      "metadata": {
        "id": "WkqxG-675A1c",
        "outputId": "5a321a54-794e-41b4-b9cf-b49652a0a445",
        "colab": {
          "base_uri": "https://localhost:8080/",
          "height": 34
        }
      },
      "source": [
        "'▁separate' in all_tokens # Right"
      ],
      "execution_count": 64,
      "outputs": [
        {
          "output_type": "execute_result",
          "data": {
            "text/plain": [
              "True"
            ]
          },
          "metadata": {
            "tags": []
          },
          "execution_count": 64
        }
      ]
    },
    {
      "cell_type": "code",
      "metadata": {
        "id": "ziFBjur15GHg",
        "outputId": "b2539be1-dfe0-4de4-8b92-39353301f428",
        "colab": {
          "base_uri": "https://localhost:8080/",
          "height": 34
        }
      },
      "source": [
        "'▁seperate' in all_tokens # Wrong"
      ],
      "execution_count": 65,
      "outputs": [
        {
          "output_type": "execute_result",
          "data": {
            "text/plain": [
              "False"
            ]
          },
          "metadata": {
            "tags": []
          },
          "execution_count": 65
        }
      ]
    },
    {
      "cell_type": "markdown",
      "metadata": {
        "id": "-KZHPgVsSgvz"
      },
      "source": [
        "What about contractions?"
      ]
    },
    {
      "cell_type": "code",
      "metadata": {
        "id": "VvUru5j3jxm2",
        "outputId": "416761d6-83c3-4a1f-a438-33b7b975abfa",
        "colab": {
          "base_uri": "https://localhost:8080/",
          "height": 34
        }
      },
      "source": [
        "\"▁can't\" in all_tokens"
      ],
      "execution_count": 66,
      "outputs": [
        {
          "output_type": "execute_result",
          "data": {
            "text/plain": [
              "False"
            ]
          },
          "metadata": {
            "tags": []
          },
          "execution_count": 66
        }
      ]
    },
    {
      "cell_type": "code",
      "metadata": {
        "id": "wl_l2xKwj0_l",
        "outputId": "9902bfc7-5261-4a49-9e8d-e9d1a83cf013",
        "colab": {
          "base_uri": "https://localhost:8080/",
          "height": 34
        }
      },
      "source": [
        "\"▁cant\" in all_tokens"
      ],
      "execution_count": 67,
      "outputs": [
        {
          "output_type": "execute_result",
          "data": {
            "text/plain": [
              "True"
            ]
          },
          "metadata": {
            "tags": []
          },
          "execution_count": 67
        }
      ]
    },
    {
      "cell_type": "markdown",
      "metadata": {
        "id": "PRaaspCfyqsY"
      },
      "source": [
        "### Names\n",
        "\n"
      ]
    },
    {
      "cell_type": "code",
      "metadata": {
        "id": "s7OLeBs_zBiR",
        "outputId": "373d1096-4177-48c4-af0c-4d49cbbc8b92",
        "colab": {
          "base_uri": "https://localhost:8080/",
          "height": 34
        }
      },
      "source": [
        "!pip install wget"
      ],
      "execution_count": 68,
      "outputs": [
        {
          "output_type": "stream",
          "text": [
            "Requirement already satisfied: wget in /usr/local/lib/python3.6/dist-packages (3.2)\n"
          ],
          "name": "stdout"
        }
      ]
    },
    {
      "cell_type": "code",
      "metadata": {
        "id": "9Mac6NiYys4g",
        "outputId": "be38f568-eb75-44dd-ccb6-3046002a98b0",
        "colab": {
          "base_uri": "https://localhost:8080/",
          "height": 52
        }
      },
      "source": [
        "import wget\n",
        "import random \n",
        "\n",
        "print('Beginning file download with wget module')\n",
        "\n",
        "url = 'http://www.gutenberg.org/files/3201/files/NAMES.TXT'\n",
        "wget.download(url, 'first-names.txt')\n"
      ],
      "execution_count": 69,
      "outputs": [
        {
          "output_type": "stream",
          "text": [
            "Beginning file download with wget module\n"
          ],
          "name": "stdout"
        },
        {
          "output_type": "execute_result",
          "data": {
            "application/vnd.google.colaboratory.intrinsic+json": {
              "type": "string"
            },
            "text/plain": [
              "'first-names (1).txt'"
            ]
          },
          "metadata": {
            "tags": []
          },
          "execution_count": 69
        }
      ]
    },
    {
      "cell_type": "code",
      "metadata": {
        "id": "FHF1JgrqY7Zi",
        "outputId": "2ce0dd63-6a53-416b-cae2-4d7f19c1db97",
        "colab": {
          "base_uri": "https://localhost:8080/",
          "height": 51
        }
      },
      "source": [
        "# Read them in.\n",
        "with open('first-names.txt', 'rb') as f:\n",
        "    names_encoded = f.readlines()\n",
        "\n",
        "names = []\n",
        "\n",
        "# Decode the names, convert to lowercase, and strip newlines.\n",
        "for name in names_encoded:\n",
        "    try:\n",
        "        names.append(name.rstrip().lower().decode('utf-8'))\n",
        "    except:\n",
        "        continue\n",
        "\n",
        "print('Number of names: {:,}'.format(len(names)))\n",
        "print('Example:', random.choice(names))\n"
      ],
      "execution_count": 70,
      "outputs": [
        {
          "output_type": "stream",
          "text": [
            "Number of names: 21,985\n",
            "Example: thorne\n"
          ],
          "name": "stdout"
        }
      ]
    },
    {
      "cell_type": "code",
      "metadata": {
        "id": "6heL05KQzmCa"
      },
      "source": [
        "num_names = 0\n",
        "\n",
        "# For each name in our list...\n",
        "for name in names:\n",
        "\n",
        "    # If it's in the vocab...\n",
        "    if ('▁' + name) in all_tokens:\n",
        "        # Tally it.\n",
        "        num_names += 1\n",
        "\n",
        "print('{:,} names in the vocabulary'.format(num_names))"
      ],
      "execution_count": null,
      "outputs": []
    }
  ]
}