{
  "nbformat": 4,
  "nbformat_minor": 0,
  "metadata": {
    "colab": {
      "name": "Smart Batching Tutorial - IMDb Reviews.ipynb",
      "provenance": [],
      "collapsed_sections": [],
      "toc_visible": true,
      "include_colab_link": true
    },
    "kernelspec": {
      "name": "python3",
      "display_name": "Python 3"
    },
    "accelerator": "GPU",
    "widgets": {
      "application/vnd.jupyter.widget-state+json": {
        "5af1eda78c904b93a0342e58eaf552cb": {
          "model_module": "@jupyter-widgets/controls",
          "model_name": "HBoxModel",
          "state": {
            "_view_name": "HBoxView",
            "_dom_classes": [],
            "_model_name": "HBoxModel",
            "_view_module": "@jupyter-widgets/controls",
            "_model_module_version": "1.5.0",
            "_view_count": null,
            "_view_module_version": "1.5.0",
            "box_style": "",
            "layout": "IPY_MODEL_3e651098e5b04f6da5edd4411dbe59ec",
            "_model_module": "@jupyter-widgets/controls",
            "children": [
              "IPY_MODEL_03cb78aa83224601bfc10ac4b44552c9",
              "IPY_MODEL_49d54ece645e4c29a5d6927c9829934f"
            ]
          }
        },
        "3e651098e5b04f6da5edd4411dbe59ec": {
          "model_module": "@jupyter-widgets/base",
          "model_name": "LayoutModel",
          "state": {
            "_view_name": "LayoutView",
            "grid_template_rows": null,
            "right": null,
            "justify_content": null,
            "_view_module": "@jupyter-widgets/base",
            "overflow": null,
            "_model_module_version": "1.2.0",
            "_view_count": null,
            "flex_flow": null,
            "width": null,
            "min_width": null,
            "border": null,
            "align_items": null,
            "bottom": null,
            "_model_module": "@jupyter-widgets/base",
            "top": null,
            "grid_column": null,
            "overflow_y": null,
            "overflow_x": null,
            "grid_auto_flow": null,
            "grid_area": null,
            "grid_template_columns": null,
            "flex": null,
            "_model_name": "LayoutModel",
            "justify_items": null,
            "grid_row": null,
            "max_height": null,
            "align_content": null,
            "visibility": null,
            "align_self": null,
            "height": null,
            "min_height": null,
            "padding": null,
            "grid_auto_rows": null,
            "grid_gap": null,
            "max_width": null,
            "order": null,
            "_view_module_version": "1.2.0",
            "grid_template_areas": null,
            "object_position": null,
            "object_fit": null,
            "grid_auto_columns": null,
            "margin": null,
            "display": null,
            "left": null
          }
        },
        "03cb78aa83224601bfc10ac4b44552c9": {
          "model_module": "@jupyter-widgets/controls",
          "model_name": "FloatProgressModel",
          "state": {
            "_view_name": "ProgressView",
            "style": "IPY_MODEL_22586ba50c71419a8686db5d8499523d",
            "_dom_classes": [],
            "description": "Dl Completed...: 100%",
            "_model_name": "FloatProgressModel",
            "bar_style": "success",
            "max": 1,
            "_view_module": "@jupyter-widgets/controls",
            "_model_module_version": "1.5.0",
            "value": 1,
            "_view_count": null,
            "_view_module_version": "1.5.0",
            "orientation": "horizontal",
            "min": 0,
            "description_tooltip": null,
            "_model_module": "@jupyter-widgets/controls",
            "layout": "IPY_MODEL_cfc08e27d9a44007a9603fb11bf1bfc8"
          }
        },
        "49d54ece645e4c29a5d6927c9829934f": {
          "model_module": "@jupyter-widgets/controls",
          "model_name": "HTMLModel",
          "state": {
            "_view_name": "HTMLView",
            "style": "IPY_MODEL_8a684da4c74346c4b969128bde4592e1",
            "_dom_classes": [],
            "description": "",
            "_model_name": "HTMLModel",
            "placeholder": "​",
            "_view_module": "@jupyter-widgets/controls",
            "_model_module_version": "1.5.0",
            "value": " 1/1 [00:05&lt;00:00,  5.64s/ url]",
            "_view_count": null,
            "_view_module_version": "1.5.0",
            "description_tooltip": null,
            "_model_module": "@jupyter-widgets/controls",
            "layout": "IPY_MODEL_5311c2f7e2ca4074bd811cc026bf1eda"
          }
        },
        "22586ba50c71419a8686db5d8499523d": {
          "model_module": "@jupyter-widgets/controls",
          "model_name": "ProgressStyleModel",
          "state": {
            "_view_name": "StyleView",
            "_model_name": "ProgressStyleModel",
            "description_width": "initial",
            "_view_module": "@jupyter-widgets/base",
            "_model_module_version": "1.5.0",
            "_view_count": null,
            "_view_module_version": "1.2.0",
            "bar_color": null,
            "_model_module": "@jupyter-widgets/controls"
          }
        },
        "cfc08e27d9a44007a9603fb11bf1bfc8": {
          "model_module": "@jupyter-widgets/base",
          "model_name": "LayoutModel",
          "state": {
            "_view_name": "LayoutView",
            "grid_template_rows": null,
            "right": null,
            "justify_content": null,
            "_view_module": "@jupyter-widgets/base",
            "overflow": null,
            "_model_module_version": "1.2.0",
            "_view_count": null,
            "flex_flow": null,
            "width": null,
            "min_width": null,
            "border": null,
            "align_items": null,
            "bottom": null,
            "_model_module": "@jupyter-widgets/base",
            "top": null,
            "grid_column": null,
            "overflow_y": null,
            "overflow_x": null,
            "grid_auto_flow": null,
            "grid_area": null,
            "grid_template_columns": null,
            "flex": null,
            "_model_name": "LayoutModel",
            "justify_items": null,
            "grid_row": null,
            "max_height": null,
            "align_content": null,
            "visibility": null,
            "align_self": null,
            "height": null,
            "min_height": null,
            "padding": null,
            "grid_auto_rows": null,
            "grid_gap": null,
            "max_width": null,
            "order": null,
            "_view_module_version": "1.2.0",
            "grid_template_areas": null,
            "object_position": null,
            "object_fit": null,
            "grid_auto_columns": null,
            "margin": null,
            "display": null,
            "left": null
          }
        },
        "8a684da4c74346c4b969128bde4592e1": {
          "model_module": "@jupyter-widgets/controls",
          "model_name": "DescriptionStyleModel",
          "state": {
            "_view_name": "StyleView",
            "_model_name": "DescriptionStyleModel",
            "description_width": "",
            "_view_module": "@jupyter-widgets/base",
            "_model_module_version": "1.5.0",
            "_view_count": null,
            "_view_module_version": "1.2.0",
            "_model_module": "@jupyter-widgets/controls"
          }
        },
        "5311c2f7e2ca4074bd811cc026bf1eda": {
          "model_module": "@jupyter-widgets/base",
          "model_name": "LayoutModel",
          "state": {
            "_view_name": "LayoutView",
            "grid_template_rows": null,
            "right": null,
            "justify_content": null,
            "_view_module": "@jupyter-widgets/base",
            "overflow": null,
            "_model_module_version": "1.2.0",
            "_view_count": null,
            "flex_flow": null,
            "width": null,
            "min_width": null,
            "border": null,
            "align_items": null,
            "bottom": null,
            "_model_module": "@jupyter-widgets/base",
            "top": null,
            "grid_column": null,
            "overflow_y": null,
            "overflow_x": null,
            "grid_auto_flow": null,
            "grid_area": null,
            "grid_template_columns": null,
            "flex": null,
            "_model_name": "LayoutModel",
            "justify_items": null,
            "grid_row": null,
            "max_height": null,
            "align_content": null,
            "visibility": null,
            "align_self": null,
            "height": null,
            "min_height": null,
            "padding": null,
            "grid_auto_rows": null,
            "grid_gap": null,
            "max_width": null,
            "order": null,
            "_view_module_version": "1.2.0",
            "grid_template_areas": null,
            "object_position": null,
            "object_fit": null,
            "grid_auto_columns": null,
            "margin": null,
            "display": null,
            "left": null
          }
        },
        "de820eded5c64c4aa382cc4bfc221eb9": {
          "model_module": "@jupyter-widgets/controls",
          "model_name": "HBoxModel",
          "state": {
            "_view_name": "HBoxView",
            "_dom_classes": [],
            "_model_name": "HBoxModel",
            "_view_module": "@jupyter-widgets/controls",
            "_model_module_version": "1.5.0",
            "_view_count": null,
            "_view_module_version": "1.5.0",
            "box_style": "",
            "layout": "IPY_MODEL_937aa44afb5147a99e812e3551b6f84b",
            "_model_module": "@jupyter-widgets/controls",
            "children": [
              "IPY_MODEL_6f55cfcfe7444e50acbd1152263d425e",
              "IPY_MODEL_2b51e51495724a9d89f69784c882fda2"
            ]
          }
        },
        "937aa44afb5147a99e812e3551b6f84b": {
          "model_module": "@jupyter-widgets/base",
          "model_name": "LayoutModel",
          "state": {
            "_view_name": "LayoutView",
            "grid_template_rows": null,
            "right": null,
            "justify_content": null,
            "_view_module": "@jupyter-widgets/base",
            "overflow": null,
            "_model_module_version": "1.2.0",
            "_view_count": null,
            "flex_flow": null,
            "width": null,
            "min_width": null,
            "border": null,
            "align_items": null,
            "bottom": null,
            "_model_module": "@jupyter-widgets/base",
            "top": null,
            "grid_column": null,
            "overflow_y": null,
            "overflow_x": null,
            "grid_auto_flow": null,
            "grid_area": null,
            "grid_template_columns": null,
            "flex": null,
            "_model_name": "LayoutModel",
            "justify_items": null,
            "grid_row": null,
            "max_height": null,
            "align_content": null,
            "visibility": null,
            "align_self": null,
            "height": null,
            "min_height": null,
            "padding": null,
            "grid_auto_rows": null,
            "grid_gap": null,
            "max_width": null,
            "order": null,
            "_view_module_version": "1.2.0",
            "grid_template_areas": null,
            "object_position": null,
            "object_fit": null,
            "grid_auto_columns": null,
            "margin": null,
            "display": null,
            "left": null
          }
        },
        "6f55cfcfe7444e50acbd1152263d425e": {
          "model_module": "@jupyter-widgets/controls",
          "model_name": "FloatProgressModel",
          "state": {
            "_view_name": "ProgressView",
            "style": "IPY_MODEL_772bd53a9ac942d8b4e5a34da276baa2",
            "_dom_classes": [],
            "description": "Dl Size...: 100%",
            "_model_name": "FloatProgressModel",
            "bar_style": "success",
            "max": 1,
            "_view_module": "@jupyter-widgets/controls",
            "_model_module_version": "1.5.0",
            "value": 1,
            "_view_count": null,
            "_view_module_version": "1.5.0",
            "orientation": "horizontal",
            "min": 0,
            "description_tooltip": null,
            "_model_module": "@jupyter-widgets/controls",
            "layout": "IPY_MODEL_69e2858ca0b24a5780eebc1717bce2df"
          }
        },
        "2b51e51495724a9d89f69784c882fda2": {
          "model_module": "@jupyter-widgets/controls",
          "model_name": "HTMLModel",
          "state": {
            "_view_name": "HTMLView",
            "style": "IPY_MODEL_7fa8d98373d748cc98ba95693ccb3134",
            "_dom_classes": [],
            "description": "",
            "_model_name": "HTMLModel",
            "placeholder": "​",
            "_view_module": "@jupyter-widgets/controls",
            "_model_module_version": "1.5.0",
            "value": " 80/80 [00:05&lt;00:00, 14.27 MiB/s]",
            "_view_count": null,
            "_view_module_version": "1.5.0",
            "description_tooltip": null,
            "_model_module": "@jupyter-widgets/controls",
            "layout": "IPY_MODEL_f7602b3eb4004a558369dd9f13bdc379"
          }
        },
        "772bd53a9ac942d8b4e5a34da276baa2": {
          "model_module": "@jupyter-widgets/controls",
          "model_name": "ProgressStyleModel",
          "state": {
            "_view_name": "StyleView",
            "_model_name": "ProgressStyleModel",
            "description_width": "initial",
            "_view_module": "@jupyter-widgets/base",
            "_model_module_version": "1.5.0",
            "_view_count": null,
            "_view_module_version": "1.2.0",
            "bar_color": null,
            "_model_module": "@jupyter-widgets/controls"
          }
        },
        "69e2858ca0b24a5780eebc1717bce2df": {
          "model_module": "@jupyter-widgets/base",
          "model_name": "LayoutModel",
          "state": {
            "_view_name": "LayoutView",
            "grid_template_rows": null,
            "right": null,
            "justify_content": null,
            "_view_module": "@jupyter-widgets/base",
            "overflow": null,
            "_model_module_version": "1.2.0",
            "_view_count": null,
            "flex_flow": null,
            "width": null,
            "min_width": null,
            "border": null,
            "align_items": null,
            "bottom": null,
            "_model_module": "@jupyter-widgets/base",
            "top": null,
            "grid_column": null,
            "overflow_y": null,
            "overflow_x": null,
            "grid_auto_flow": null,
            "grid_area": null,
            "grid_template_columns": null,
            "flex": null,
            "_model_name": "LayoutModel",
            "justify_items": null,
            "grid_row": null,
            "max_height": null,
            "align_content": null,
            "visibility": null,
            "align_self": null,
            "height": null,
            "min_height": null,
            "padding": null,
            "grid_auto_rows": null,
            "grid_gap": null,
            "max_width": null,
            "order": null,
            "_view_module_version": "1.2.0",
            "grid_template_areas": null,
            "object_position": null,
            "object_fit": null,
            "grid_auto_columns": null,
            "margin": null,
            "display": null,
            "left": null
          }
        },
        "7fa8d98373d748cc98ba95693ccb3134": {
          "model_module": "@jupyter-widgets/controls",
          "model_name": "DescriptionStyleModel",
          "state": {
            "_view_name": "StyleView",
            "_model_name": "DescriptionStyleModel",
            "description_width": "",
            "_view_module": "@jupyter-widgets/base",
            "_model_module_version": "1.5.0",
            "_view_count": null,
            "_view_module_version": "1.2.0",
            "_model_module": "@jupyter-widgets/controls"
          }
        },
        "f7602b3eb4004a558369dd9f13bdc379": {
          "model_module": "@jupyter-widgets/base",
          "model_name": "LayoutModel",
          "state": {
            "_view_name": "LayoutView",
            "grid_template_rows": null,
            "right": null,
            "justify_content": null,
            "_view_module": "@jupyter-widgets/base",
            "overflow": null,
            "_model_module_version": "1.2.0",
            "_view_count": null,
            "flex_flow": null,
            "width": null,
            "min_width": null,
            "border": null,
            "align_items": null,
            "bottom": null,
            "_model_module": "@jupyter-widgets/base",
            "top": null,
            "grid_column": null,
            "overflow_y": null,
            "overflow_x": null,
            "grid_auto_flow": null,
            "grid_area": null,
            "grid_template_columns": null,
            "flex": null,
            "_model_name": "LayoutModel",
            "justify_items": null,
            "grid_row": null,
            "max_height": null,
            "align_content": null,
            "visibility": null,
            "align_self": null,
            "height": null,
            "min_height": null,
            "padding": null,
            "grid_auto_rows": null,
            "grid_gap": null,
            "max_width": null,
            "order": null,
            "_view_module_version": "1.2.0",
            "grid_template_areas": null,
            "object_position": null,
            "object_fit": null,
            "grid_auto_columns": null,
            "margin": null,
            "display": null,
            "left": null
          }
        },
        "aaf3861714ab4e19b4f530f957136a82": {
          "model_module": "@jupyter-widgets/controls",
          "model_name": "HBoxModel",
          "state": {
            "_view_name": "HBoxView",
            "_dom_classes": [],
            "_model_name": "HBoxModel",
            "_view_module": "@jupyter-widgets/controls",
            "_model_module_version": "1.5.0",
            "_view_count": null,
            "_view_module_version": "1.5.0",
            "box_style": "",
            "layout": "IPY_MODEL_f3cfa6549e4a4dae8dea901e641bd32d",
            "_model_module": "@jupyter-widgets/controls",
            "children": [
              "IPY_MODEL_6b627d36f9e14d54b481b4ca0f5694a9",
              "IPY_MODEL_18584ce2558c4ebbb1609b20e49781a4"
            ]
          }
        },
        "f3cfa6549e4a4dae8dea901e641bd32d": {
          "model_module": "@jupyter-widgets/base",
          "model_name": "LayoutModel",
          "state": {
            "_view_name": "LayoutView",
            "grid_template_rows": null,
            "right": null,
            "justify_content": null,
            "_view_module": "@jupyter-widgets/base",
            "overflow": null,
            "_model_module_version": "1.2.0",
            "_view_count": null,
            "flex_flow": null,
            "width": null,
            "min_width": null,
            "border": null,
            "align_items": null,
            "bottom": null,
            "_model_module": "@jupyter-widgets/base",
            "top": null,
            "grid_column": null,
            "overflow_y": null,
            "overflow_x": null,
            "grid_auto_flow": null,
            "grid_area": null,
            "grid_template_columns": null,
            "flex": null,
            "_model_name": "LayoutModel",
            "justify_items": null,
            "grid_row": null,
            "max_height": null,
            "align_content": null,
            "visibility": null,
            "align_self": null,
            "height": null,
            "min_height": null,
            "padding": null,
            "grid_auto_rows": null,
            "grid_gap": null,
            "max_width": null,
            "order": null,
            "_view_module_version": "1.2.0",
            "grid_template_areas": null,
            "object_position": null,
            "object_fit": null,
            "grid_auto_columns": null,
            "margin": null,
            "display": null,
            "left": null
          }
        },
        "6b627d36f9e14d54b481b4ca0f5694a9": {
          "model_module": "@jupyter-widgets/controls",
          "model_name": "FloatProgressModel",
          "state": {
            "_view_name": "ProgressView",
            "style": "IPY_MODEL_3fca55b602334d30b0df60d4c2539adb",
            "_dom_classes": [],
            "description": "",
            "_model_name": "FloatProgressModel",
            "bar_style": "info",
            "max": 1,
            "_view_module": "@jupyter-widgets/controls",
            "_model_module_version": "1.5.0",
            "value": 1,
            "_view_count": null,
            "_view_module_version": "1.5.0",
            "orientation": "horizontal",
            "min": 0,
            "description_tooltip": null,
            "_model_module": "@jupyter-widgets/controls",
            "layout": "IPY_MODEL_afad49856d1a4c759d11e0a4956d673d"
          }
        },
        "18584ce2558c4ebbb1609b20e49781a4": {
          "model_module": "@jupyter-widgets/controls",
          "model_name": "HTMLModel",
          "state": {
            "_view_name": "HTMLView",
            "style": "IPY_MODEL_adcb98b63b514aeab9f755e6894bb06f",
            "_dom_classes": [],
            "description": "",
            "_model_name": "HTMLModel",
            "placeholder": "​",
            "_view_module": "@jupyter-widgets/controls",
            "_model_module_version": "1.5.0",
            "value": " 25000/0 [00:12&lt;00:00, 3395.79 examples/s]",
            "_view_count": null,
            "_view_module_version": "1.5.0",
            "description_tooltip": null,
            "_model_module": "@jupyter-widgets/controls",
            "layout": "IPY_MODEL_adadc275844d464e9665382d5d855408"
          }
        },
        "3fca55b602334d30b0df60d4c2539adb": {
          "model_module": "@jupyter-widgets/controls",
          "model_name": "ProgressStyleModel",
          "state": {
            "_view_name": "StyleView",
            "_model_name": "ProgressStyleModel",
            "description_width": "initial",
            "_view_module": "@jupyter-widgets/base",
            "_model_module_version": "1.5.0",
            "_view_count": null,
            "_view_module_version": "1.2.0",
            "bar_color": null,
            "_model_module": "@jupyter-widgets/controls"
          }
        },
        "afad49856d1a4c759d11e0a4956d673d": {
          "model_module": "@jupyter-widgets/base",
          "model_name": "LayoutModel",
          "state": {
            "_view_name": "LayoutView",
            "grid_template_rows": null,
            "right": null,
            "justify_content": null,
            "_view_module": "@jupyter-widgets/base",
            "overflow": null,
            "_model_module_version": "1.2.0",
            "_view_count": null,
            "flex_flow": null,
            "width": null,
            "min_width": null,
            "border": null,
            "align_items": null,
            "bottom": null,
            "_model_module": "@jupyter-widgets/base",
            "top": null,
            "grid_column": null,
            "overflow_y": null,
            "overflow_x": null,
            "grid_auto_flow": null,
            "grid_area": null,
            "grid_template_columns": null,
            "flex": null,
            "_model_name": "LayoutModel",
            "justify_items": null,
            "grid_row": null,
            "max_height": null,
            "align_content": null,
            "visibility": null,
            "align_self": null,
            "height": null,
            "min_height": null,
            "padding": null,
            "grid_auto_rows": null,
            "grid_gap": null,
            "max_width": null,
            "order": null,
            "_view_module_version": "1.2.0",
            "grid_template_areas": null,
            "object_position": null,
            "object_fit": null,
            "grid_auto_columns": null,
            "margin": null,
            "display": null,
            "left": null
          }
        },
        "adcb98b63b514aeab9f755e6894bb06f": {
          "model_module": "@jupyter-widgets/controls",
          "model_name": "DescriptionStyleModel",
          "state": {
            "_view_name": "StyleView",
            "_model_name": "DescriptionStyleModel",
            "description_width": "",
            "_view_module": "@jupyter-widgets/base",
            "_model_module_version": "1.5.0",
            "_view_count": null,
            "_view_module_version": "1.2.0",
            "_model_module": "@jupyter-widgets/controls"
          }
        },
        "adadc275844d464e9665382d5d855408": {
          "model_module": "@jupyter-widgets/base",
          "model_name": "LayoutModel",
          "state": {
            "_view_name": "LayoutView",
            "grid_template_rows": null,
            "right": null,
            "justify_content": null,
            "_view_module": "@jupyter-widgets/base",
            "overflow": null,
            "_model_module_version": "1.2.0",
            "_view_count": null,
            "flex_flow": null,
            "width": null,
            "min_width": null,
            "border": null,
            "align_items": null,
            "bottom": null,
            "_model_module": "@jupyter-widgets/base",
            "top": null,
            "grid_column": null,
            "overflow_y": null,
            "overflow_x": null,
            "grid_auto_flow": null,
            "grid_area": null,
            "grid_template_columns": null,
            "flex": null,
            "_model_name": "LayoutModel",
            "justify_items": null,
            "grid_row": null,
            "max_height": null,
            "align_content": null,
            "visibility": null,
            "align_self": null,
            "height": null,
            "min_height": null,
            "padding": null,
            "grid_auto_rows": null,
            "grid_gap": null,
            "max_width": null,
            "order": null,
            "_view_module_version": "1.2.0",
            "grid_template_areas": null,
            "object_position": null,
            "object_fit": null,
            "grid_auto_columns": null,
            "margin": null,
            "display": null,
            "left": null
          }
        },
        "8af6333a8c364594b8c4c36c300294f2": {
          "model_module": "@jupyter-widgets/controls",
          "model_name": "HBoxModel",
          "state": {
            "_view_name": "HBoxView",
            "_dom_classes": [],
            "_model_name": "HBoxModel",
            "_view_module": "@jupyter-widgets/controls",
            "_model_module_version": "1.5.0",
            "_view_count": null,
            "_view_module_version": "1.5.0",
            "box_style": "",
            "layout": "IPY_MODEL_e233a57340df4f5098e45eaffd5b1234",
            "_model_module": "@jupyter-widgets/controls",
            "children": [
              "IPY_MODEL_71b0ca12ac3b4f79ab188dc79eadf729",
              "IPY_MODEL_37b3a71d657e4c77893d5a26f5af0c97"
            ]
          }
        },
        "e233a57340df4f5098e45eaffd5b1234": {
          "model_module": "@jupyter-widgets/base",
          "model_name": "LayoutModel",
          "state": {
            "_view_name": "LayoutView",
            "grid_template_rows": null,
            "right": null,
            "justify_content": null,
            "_view_module": "@jupyter-widgets/base",
            "overflow": null,
            "_model_module_version": "1.2.0",
            "_view_count": null,
            "flex_flow": null,
            "width": null,
            "min_width": null,
            "border": null,
            "align_items": null,
            "bottom": null,
            "_model_module": "@jupyter-widgets/base",
            "top": null,
            "grid_column": null,
            "overflow_y": null,
            "overflow_x": null,
            "grid_auto_flow": null,
            "grid_area": null,
            "grid_template_columns": null,
            "flex": null,
            "_model_name": "LayoutModel",
            "justify_items": null,
            "grid_row": null,
            "max_height": null,
            "align_content": null,
            "visibility": null,
            "align_self": null,
            "height": null,
            "min_height": null,
            "padding": null,
            "grid_auto_rows": null,
            "grid_gap": null,
            "max_width": null,
            "order": null,
            "_view_module_version": "1.2.0",
            "grid_template_areas": null,
            "object_position": null,
            "object_fit": null,
            "grid_auto_columns": null,
            "margin": null,
            "display": null,
            "left": null
          }
        },
        "71b0ca12ac3b4f79ab188dc79eadf729": {
          "model_module": "@jupyter-widgets/controls",
          "model_name": "FloatProgressModel",
          "state": {
            "_view_name": "ProgressView",
            "style": "IPY_MODEL_403a25d6e80f403b94dd9090113f42cc",
            "_dom_classes": [],
            "description": " 53%",
            "_model_name": "FloatProgressModel",
            "bar_style": "danger",
            "max": 25000,
            "_view_module": "@jupyter-widgets/controls",
            "_model_module_version": "1.5.0",
            "value": 13270,
            "_view_count": null,
            "_view_module_version": "1.5.0",
            "orientation": "horizontal",
            "min": 0,
            "description_tooltip": null,
            "_model_module": "@jupyter-widgets/controls",
            "layout": "IPY_MODEL_c33e2254968d40818f780f0fc875cd41"
          }
        },
        "37b3a71d657e4c77893d5a26f5af0c97": {
          "model_module": "@jupyter-widgets/controls",
          "model_name": "HTMLModel",
          "state": {
            "_view_name": "HTMLView",
            "style": "IPY_MODEL_00aad801eb264efe8f767ba51d923c4d",
            "_dom_classes": [],
            "description": "",
            "_model_name": "HTMLModel",
            "placeholder": "​",
            "_view_module": "@jupyter-widgets/controls",
            "_model_module_version": "1.5.0",
            "value": " 13270/25000 [00:00&lt;00:00, 132690.32 examples/s]",
            "_view_count": null,
            "_view_module_version": "1.5.0",
            "description_tooltip": null,
            "_model_module": "@jupyter-widgets/controls",
            "layout": "IPY_MODEL_a38633d5e67448aba41653bd8cfc7375"
          }
        },
        "403a25d6e80f403b94dd9090113f42cc": {
          "model_module": "@jupyter-widgets/controls",
          "model_name": "ProgressStyleModel",
          "state": {
            "_view_name": "StyleView",
            "_model_name": "ProgressStyleModel",
            "description_width": "initial",
            "_view_module": "@jupyter-widgets/base",
            "_model_module_version": "1.5.0",
            "_view_count": null,
            "_view_module_version": "1.2.0",
            "bar_color": null,
            "_model_module": "@jupyter-widgets/controls"
          }
        },
        "c33e2254968d40818f780f0fc875cd41": {
          "model_module": "@jupyter-widgets/base",
          "model_name": "LayoutModel",
          "state": {
            "_view_name": "LayoutView",
            "grid_template_rows": null,
            "right": null,
            "justify_content": null,
            "_view_module": "@jupyter-widgets/base",
            "overflow": null,
            "_model_module_version": "1.2.0",
            "_view_count": null,
            "flex_flow": null,
            "width": null,
            "min_width": null,
            "border": null,
            "align_items": null,
            "bottom": null,
            "_model_module": "@jupyter-widgets/base",
            "top": null,
            "grid_column": null,
            "overflow_y": null,
            "overflow_x": null,
            "grid_auto_flow": null,
            "grid_area": null,
            "grid_template_columns": null,
            "flex": null,
            "_model_name": "LayoutModel",
            "justify_items": null,
            "grid_row": null,
            "max_height": null,
            "align_content": null,
            "visibility": null,
            "align_self": null,
            "height": null,
            "min_height": null,
            "padding": null,
            "grid_auto_rows": null,
            "grid_gap": null,
            "max_width": null,
            "order": null,
            "_view_module_version": "1.2.0",
            "grid_template_areas": null,
            "object_position": null,
            "object_fit": null,
            "grid_auto_columns": null,
            "margin": null,
            "display": null,
            "left": null
          }
        },
        "00aad801eb264efe8f767ba51d923c4d": {
          "model_module": "@jupyter-widgets/controls",
          "model_name": "DescriptionStyleModel",
          "state": {
            "_view_name": "StyleView",
            "_model_name": "DescriptionStyleModel",
            "description_width": "",
            "_view_module": "@jupyter-widgets/base",
            "_model_module_version": "1.5.0",
            "_view_count": null,
            "_view_module_version": "1.2.0",
            "_model_module": "@jupyter-widgets/controls"
          }
        },
        "a38633d5e67448aba41653bd8cfc7375": {
          "model_module": "@jupyter-widgets/base",
          "model_name": "LayoutModel",
          "state": {
            "_view_name": "LayoutView",
            "grid_template_rows": null,
            "right": null,
            "justify_content": null,
            "_view_module": "@jupyter-widgets/base",
            "overflow": null,
            "_model_module_version": "1.2.0",
            "_view_count": null,
            "flex_flow": null,
            "width": null,
            "min_width": null,
            "border": null,
            "align_items": null,
            "bottom": null,
            "_model_module": "@jupyter-widgets/base",
            "top": null,
            "grid_column": null,
            "overflow_y": null,
            "overflow_x": null,
            "grid_auto_flow": null,
            "grid_area": null,
            "grid_template_columns": null,
            "flex": null,
            "_model_name": "LayoutModel",
            "justify_items": null,
            "grid_row": null,
            "max_height": null,
            "align_content": null,
            "visibility": null,
            "align_self": null,
            "height": null,
            "min_height": null,
            "padding": null,
            "grid_auto_rows": null,
            "grid_gap": null,
            "max_width": null,
            "order": null,
            "_view_module_version": "1.2.0",
            "grid_template_areas": null,
            "object_position": null,
            "object_fit": null,
            "grid_auto_columns": null,
            "margin": null,
            "display": null,
            "left": null
          }
        },
        "18430db2d1224215ae0c9a6782dde3e8": {
          "model_module": "@jupyter-widgets/controls",
          "model_name": "HBoxModel",
          "state": {
            "_view_name": "HBoxView",
            "_dom_classes": [],
            "_model_name": "HBoxModel",
            "_view_module": "@jupyter-widgets/controls",
            "_model_module_version": "1.5.0",
            "_view_count": null,
            "_view_module_version": "1.5.0",
            "box_style": "",
            "layout": "IPY_MODEL_165f63a0ef684cd7bf790982e0d6e237",
            "_model_module": "@jupyter-widgets/controls",
            "children": [
              "IPY_MODEL_c58dbc266bed4ec4808bbd18ef94d32c",
              "IPY_MODEL_124caa56e8414b768014e34f0704ad66"
            ]
          }
        },
        "165f63a0ef684cd7bf790982e0d6e237": {
          "model_module": "@jupyter-widgets/base",
          "model_name": "LayoutModel",
          "state": {
            "_view_name": "LayoutView",
            "grid_template_rows": null,
            "right": null,
            "justify_content": null,
            "_view_module": "@jupyter-widgets/base",
            "overflow": null,
            "_model_module_version": "1.2.0",
            "_view_count": null,
            "flex_flow": null,
            "width": null,
            "min_width": null,
            "border": null,
            "align_items": null,
            "bottom": null,
            "_model_module": "@jupyter-widgets/base",
            "top": null,
            "grid_column": null,
            "overflow_y": null,
            "overflow_x": null,
            "grid_auto_flow": null,
            "grid_area": null,
            "grid_template_columns": null,
            "flex": null,
            "_model_name": "LayoutModel",
            "justify_items": null,
            "grid_row": null,
            "max_height": null,
            "align_content": null,
            "visibility": null,
            "align_self": null,
            "height": null,
            "min_height": null,
            "padding": null,
            "grid_auto_rows": null,
            "grid_gap": null,
            "max_width": null,
            "order": null,
            "_view_module_version": "1.2.0",
            "grid_template_areas": null,
            "object_position": null,
            "object_fit": null,
            "grid_auto_columns": null,
            "margin": null,
            "display": null,
            "left": null
          }
        },
        "c58dbc266bed4ec4808bbd18ef94d32c": {
          "model_module": "@jupyter-widgets/controls",
          "model_name": "FloatProgressModel",
          "state": {
            "_view_name": "ProgressView",
            "style": "IPY_MODEL_268471ab13984483ac3b276d63aa76ef",
            "_dom_classes": [],
            "description": "",
            "_model_name": "FloatProgressModel",
            "bar_style": "info",
            "max": 1,
            "_view_module": "@jupyter-widgets/controls",
            "_model_module_version": "1.5.0",
            "value": 1,
            "_view_count": null,
            "_view_module_version": "1.5.0",
            "orientation": "horizontal",
            "min": 0,
            "description_tooltip": null,
            "_model_module": "@jupyter-widgets/controls",
            "layout": "IPY_MODEL_7e3f8db9579c4490bdfd787669281441"
          }
        },
        "124caa56e8414b768014e34f0704ad66": {
          "model_module": "@jupyter-widgets/controls",
          "model_name": "HTMLModel",
          "state": {
            "_view_name": "HTMLView",
            "style": "IPY_MODEL_771955c50d714935a61e4667ee9dd582",
            "_dom_classes": [],
            "description": "",
            "_model_name": "HTMLModel",
            "placeholder": "​",
            "_view_module": "@jupyter-widgets/controls",
            "_model_module_version": "1.5.0",
            "value": " 25000/0 [00:12&lt;00:00, 3335.04 examples/s]",
            "_view_count": null,
            "_view_module_version": "1.5.0",
            "description_tooltip": null,
            "_model_module": "@jupyter-widgets/controls",
            "layout": "IPY_MODEL_7d4272b7cdbb41d6ab8c93a412cae2eb"
          }
        },
        "268471ab13984483ac3b276d63aa76ef": {
          "model_module": "@jupyter-widgets/controls",
          "model_name": "ProgressStyleModel",
          "state": {
            "_view_name": "StyleView",
            "_model_name": "ProgressStyleModel",
            "description_width": "initial",
            "_view_module": "@jupyter-widgets/base",
            "_model_module_version": "1.5.0",
            "_view_count": null,
            "_view_module_version": "1.2.0",
            "bar_color": null,
            "_model_module": "@jupyter-widgets/controls"
          }
        },
        "7e3f8db9579c4490bdfd787669281441": {
          "model_module": "@jupyter-widgets/base",
          "model_name": "LayoutModel",
          "state": {
            "_view_name": "LayoutView",
            "grid_template_rows": null,
            "right": null,
            "justify_content": null,
            "_view_module": "@jupyter-widgets/base",
            "overflow": null,
            "_model_module_version": "1.2.0",
            "_view_count": null,
            "flex_flow": null,
            "width": null,
            "min_width": null,
            "border": null,
            "align_items": null,
            "bottom": null,
            "_model_module": "@jupyter-widgets/base",
            "top": null,
            "grid_column": null,
            "overflow_y": null,
            "overflow_x": null,
            "grid_auto_flow": null,
            "grid_area": null,
            "grid_template_columns": null,
            "flex": null,
            "_model_name": "LayoutModel",
            "justify_items": null,
            "grid_row": null,
            "max_height": null,
            "align_content": null,
            "visibility": null,
            "align_self": null,
            "height": null,
            "min_height": null,
            "padding": null,
            "grid_auto_rows": null,
            "grid_gap": null,
            "max_width": null,
            "order": null,
            "_view_module_version": "1.2.0",
            "grid_template_areas": null,
            "object_position": null,
            "object_fit": null,
            "grid_auto_columns": null,
            "margin": null,
            "display": null,
            "left": null
          }
        },
        "771955c50d714935a61e4667ee9dd582": {
          "model_module": "@jupyter-widgets/controls",
          "model_name": "DescriptionStyleModel",
          "state": {
            "_view_name": "StyleView",
            "_model_name": "DescriptionStyleModel",
            "description_width": "",
            "_view_module": "@jupyter-widgets/base",
            "_model_module_version": "1.5.0",
            "_view_count": null,
            "_view_module_version": "1.2.0",
            "_model_module": "@jupyter-widgets/controls"
          }
        },
        "7d4272b7cdbb41d6ab8c93a412cae2eb": {
          "model_module": "@jupyter-widgets/base",
          "model_name": "LayoutModel",
          "state": {
            "_view_name": "LayoutView",
            "grid_template_rows": null,
            "right": null,
            "justify_content": null,
            "_view_module": "@jupyter-widgets/base",
            "overflow": null,
            "_model_module_version": "1.2.0",
            "_view_count": null,
            "flex_flow": null,
            "width": null,
            "min_width": null,
            "border": null,
            "align_items": null,
            "bottom": null,
            "_model_module": "@jupyter-widgets/base",
            "top": null,
            "grid_column": null,
            "overflow_y": null,
            "overflow_x": null,
            "grid_auto_flow": null,
            "grid_area": null,
            "grid_template_columns": null,
            "flex": null,
            "_model_name": "LayoutModel",
            "justify_items": null,
            "grid_row": null,
            "max_height": null,
            "align_content": null,
            "visibility": null,
            "align_self": null,
            "height": null,
            "min_height": null,
            "padding": null,
            "grid_auto_rows": null,
            "grid_gap": null,
            "max_width": null,
            "order": null,
            "_view_module_version": "1.2.0",
            "grid_template_areas": null,
            "object_position": null,
            "object_fit": null,
            "grid_auto_columns": null,
            "margin": null,
            "display": null,
            "left": null
          }
        },
        "62fcf0d92c414fac920ce444323f28ec": {
          "model_module": "@jupyter-widgets/controls",
          "model_name": "HBoxModel",
          "state": {
            "_view_name": "HBoxView",
            "_dom_classes": [],
            "_model_name": "HBoxModel",
            "_view_module": "@jupyter-widgets/controls",
            "_model_module_version": "1.5.0",
            "_view_count": null,
            "_view_module_version": "1.5.0",
            "box_style": "",
            "layout": "IPY_MODEL_a5bba958e3464f25ae7ca9fd753b8370",
            "_model_module": "@jupyter-widgets/controls",
            "children": [
              "IPY_MODEL_3397331a89f04e9e8f7abc59d2a9d785",
              "IPY_MODEL_fd6be24892c34625a2d4893cfb9f7477"
            ]
          }
        },
        "a5bba958e3464f25ae7ca9fd753b8370": {
          "model_module": "@jupyter-widgets/base",
          "model_name": "LayoutModel",
          "state": {
            "_view_name": "LayoutView",
            "grid_template_rows": null,
            "right": null,
            "justify_content": null,
            "_view_module": "@jupyter-widgets/base",
            "overflow": null,
            "_model_module_version": "1.2.0",
            "_view_count": null,
            "flex_flow": null,
            "width": null,
            "min_width": null,
            "border": null,
            "align_items": null,
            "bottom": null,
            "_model_module": "@jupyter-widgets/base",
            "top": null,
            "grid_column": null,
            "overflow_y": null,
            "overflow_x": null,
            "grid_auto_flow": null,
            "grid_area": null,
            "grid_template_columns": null,
            "flex": null,
            "_model_name": "LayoutModel",
            "justify_items": null,
            "grid_row": null,
            "max_height": null,
            "align_content": null,
            "visibility": null,
            "align_self": null,
            "height": null,
            "min_height": null,
            "padding": null,
            "grid_auto_rows": null,
            "grid_gap": null,
            "max_width": null,
            "order": null,
            "_view_module_version": "1.2.0",
            "grid_template_areas": null,
            "object_position": null,
            "object_fit": null,
            "grid_auto_columns": null,
            "margin": null,
            "display": null,
            "left": null
          }
        },
        "3397331a89f04e9e8f7abc59d2a9d785": {
          "model_module": "@jupyter-widgets/controls",
          "model_name": "FloatProgressModel",
          "state": {
            "_view_name": "ProgressView",
            "style": "IPY_MODEL_2ce624d64a0a4d1bbe79228500342eb3",
            "_dom_classes": [],
            "description": " 47%",
            "_model_name": "FloatProgressModel",
            "bar_style": "danger",
            "max": 25000,
            "_view_module": "@jupyter-widgets/controls",
            "_model_module_version": "1.5.0",
            "value": 11790,
            "_view_count": null,
            "_view_module_version": "1.5.0",
            "orientation": "horizontal",
            "min": 0,
            "description_tooltip": null,
            "_model_module": "@jupyter-widgets/controls",
            "layout": "IPY_MODEL_ecdb2db71821490891d06952e2b6153a"
          }
        },
        "fd6be24892c34625a2d4893cfb9f7477": {
          "model_module": "@jupyter-widgets/controls",
          "model_name": "HTMLModel",
          "state": {
            "_view_name": "HTMLView",
            "style": "IPY_MODEL_83e9265dc5c14338bce0d1acb50c98fb",
            "_dom_classes": [],
            "description": "",
            "_model_name": "HTMLModel",
            "placeholder": "​",
            "_view_module": "@jupyter-widgets/controls",
            "_model_module_version": "1.5.0",
            "value": " 11790/25000 [00:00&lt;00:00, 117896.46 examples/s]",
            "_view_count": null,
            "_view_module_version": "1.5.0",
            "description_tooltip": null,
            "_model_module": "@jupyter-widgets/controls",
            "layout": "IPY_MODEL_c4fec3ff160c4ed5ac0ec55150ce1ea1"
          }
        },
        "2ce624d64a0a4d1bbe79228500342eb3": {
          "model_module": "@jupyter-widgets/controls",
          "model_name": "ProgressStyleModel",
          "state": {
            "_view_name": "StyleView",
            "_model_name": "ProgressStyleModel",
            "description_width": "initial",
            "_view_module": "@jupyter-widgets/base",
            "_model_module_version": "1.5.0",
            "_view_count": null,
            "_view_module_version": "1.2.0",
            "bar_color": null,
            "_model_module": "@jupyter-widgets/controls"
          }
        },
        "ecdb2db71821490891d06952e2b6153a": {
          "model_module": "@jupyter-widgets/base",
          "model_name": "LayoutModel",
          "state": {
            "_view_name": "LayoutView",
            "grid_template_rows": null,
            "right": null,
            "justify_content": null,
            "_view_module": "@jupyter-widgets/base",
            "overflow": null,
            "_model_module_version": "1.2.0",
            "_view_count": null,
            "flex_flow": null,
            "width": null,
            "min_width": null,
            "border": null,
            "align_items": null,
            "bottom": null,
            "_model_module": "@jupyter-widgets/base",
            "top": null,
            "grid_column": null,
            "overflow_y": null,
            "overflow_x": null,
            "grid_auto_flow": null,
            "grid_area": null,
            "grid_template_columns": null,
            "flex": null,
            "_model_name": "LayoutModel",
            "justify_items": null,
            "grid_row": null,
            "max_height": null,
            "align_content": null,
            "visibility": null,
            "align_self": null,
            "height": null,
            "min_height": null,
            "padding": null,
            "grid_auto_rows": null,
            "grid_gap": null,
            "max_width": null,
            "order": null,
            "_view_module_version": "1.2.0",
            "grid_template_areas": null,
            "object_position": null,
            "object_fit": null,
            "grid_auto_columns": null,
            "margin": null,
            "display": null,
            "left": null
          }
        },
        "83e9265dc5c14338bce0d1acb50c98fb": {
          "model_module": "@jupyter-widgets/controls",
          "model_name": "DescriptionStyleModel",
          "state": {
            "_view_name": "StyleView",
            "_model_name": "DescriptionStyleModel",
            "description_width": "",
            "_view_module": "@jupyter-widgets/base",
            "_model_module_version": "1.5.0",
            "_view_count": null,
            "_view_module_version": "1.2.0",
            "_model_module": "@jupyter-widgets/controls"
          }
        },
        "c4fec3ff160c4ed5ac0ec55150ce1ea1": {
          "model_module": "@jupyter-widgets/base",
          "model_name": "LayoutModel",
          "state": {
            "_view_name": "LayoutView",
            "grid_template_rows": null,
            "right": null,
            "justify_content": null,
            "_view_module": "@jupyter-widgets/base",
            "overflow": null,
            "_model_module_version": "1.2.0",
            "_view_count": null,
            "flex_flow": null,
            "width": null,
            "min_width": null,
            "border": null,
            "align_items": null,
            "bottom": null,
            "_model_module": "@jupyter-widgets/base",
            "top": null,
            "grid_column": null,
            "overflow_y": null,
            "overflow_x": null,
            "grid_auto_flow": null,
            "grid_area": null,
            "grid_template_columns": null,
            "flex": null,
            "_model_name": "LayoutModel",
            "justify_items": null,
            "grid_row": null,
            "max_height": null,
            "align_content": null,
            "visibility": null,
            "align_self": null,
            "height": null,
            "min_height": null,
            "padding": null,
            "grid_auto_rows": null,
            "grid_gap": null,
            "max_width": null,
            "order": null,
            "_view_module_version": "1.2.0",
            "grid_template_areas": null,
            "object_position": null,
            "object_fit": null,
            "grid_auto_columns": null,
            "margin": null,
            "display": null,
            "left": null
          }
        },
        "507da47a986f45989142bc1580a20d75": {
          "model_module": "@jupyter-widgets/controls",
          "model_name": "HBoxModel",
          "state": {
            "_view_name": "HBoxView",
            "_dom_classes": [],
            "_model_name": "HBoxModel",
            "_view_module": "@jupyter-widgets/controls",
            "_model_module_version": "1.5.0",
            "_view_count": null,
            "_view_module_version": "1.5.0",
            "box_style": "",
            "layout": "IPY_MODEL_0d67ccd4719e400085ae4dc5d5bedf33",
            "_model_module": "@jupyter-widgets/controls",
            "children": [
              "IPY_MODEL_55bb23ba52114f4f9c5d20a4f14468e5",
              "IPY_MODEL_aba8a077218f4977957570d066f4224c"
            ]
          }
        },
        "0d67ccd4719e400085ae4dc5d5bedf33": {
          "model_module": "@jupyter-widgets/base",
          "model_name": "LayoutModel",
          "state": {
            "_view_name": "LayoutView",
            "grid_template_rows": null,
            "right": null,
            "justify_content": null,
            "_view_module": "@jupyter-widgets/base",
            "overflow": null,
            "_model_module_version": "1.2.0",
            "_view_count": null,
            "flex_flow": null,
            "width": null,
            "min_width": null,
            "border": null,
            "align_items": null,
            "bottom": null,
            "_model_module": "@jupyter-widgets/base",
            "top": null,
            "grid_column": null,
            "overflow_y": null,
            "overflow_x": null,
            "grid_auto_flow": null,
            "grid_area": null,
            "grid_template_columns": null,
            "flex": null,
            "_model_name": "LayoutModel",
            "justify_items": null,
            "grid_row": null,
            "max_height": null,
            "align_content": null,
            "visibility": null,
            "align_self": null,
            "height": null,
            "min_height": null,
            "padding": null,
            "grid_auto_rows": null,
            "grid_gap": null,
            "max_width": null,
            "order": null,
            "_view_module_version": "1.2.0",
            "grid_template_areas": null,
            "object_position": null,
            "object_fit": null,
            "grid_auto_columns": null,
            "margin": null,
            "display": null,
            "left": null
          }
        },
        "55bb23ba52114f4f9c5d20a4f14468e5": {
          "model_module": "@jupyter-widgets/controls",
          "model_name": "FloatProgressModel",
          "state": {
            "_view_name": "ProgressView",
            "style": "IPY_MODEL_6ff6f3243ff4446082ea875ff84ff748",
            "_dom_classes": [],
            "description": "",
            "_model_name": "FloatProgressModel",
            "bar_style": "info",
            "max": 1,
            "_view_module": "@jupyter-widgets/controls",
            "_model_module_version": "1.5.0",
            "value": 1,
            "_view_count": null,
            "_view_module_version": "1.5.0",
            "orientation": "horizontal",
            "min": 0,
            "description_tooltip": null,
            "_model_module": "@jupyter-widgets/controls",
            "layout": "IPY_MODEL_f5c363f683424dbea15f2b13b59a354e"
          }
        },
        "aba8a077218f4977957570d066f4224c": {
          "model_module": "@jupyter-widgets/controls",
          "model_name": "HTMLModel",
          "state": {
            "_view_name": "HTMLView",
            "style": "IPY_MODEL_e57c690defad4b069dc61ad41d57d00e",
            "_dom_classes": [],
            "description": "",
            "_model_name": "HTMLModel",
            "placeholder": "​",
            "_view_module": "@jupyter-widgets/controls",
            "_model_module_version": "1.5.0",
            "value": " 50000/0 [00:18&lt;00:00, 3452.49 examples/s]",
            "_view_count": null,
            "_view_module_version": "1.5.0",
            "description_tooltip": null,
            "_model_module": "@jupyter-widgets/controls",
            "layout": "IPY_MODEL_3f8199ff93664bd4b43dd0fc3d58df10"
          }
        },
        "6ff6f3243ff4446082ea875ff84ff748": {
          "model_module": "@jupyter-widgets/controls",
          "model_name": "ProgressStyleModel",
          "state": {
            "_view_name": "StyleView",
            "_model_name": "ProgressStyleModel",
            "description_width": "initial",
            "_view_module": "@jupyter-widgets/base",
            "_model_module_version": "1.5.0",
            "_view_count": null,
            "_view_module_version": "1.2.0",
            "bar_color": null,
            "_model_module": "@jupyter-widgets/controls"
          }
        },
        "f5c363f683424dbea15f2b13b59a354e": {
          "model_module": "@jupyter-widgets/base",
          "model_name": "LayoutModel",
          "state": {
            "_view_name": "LayoutView",
            "grid_template_rows": null,
            "right": null,
            "justify_content": null,
            "_view_module": "@jupyter-widgets/base",
            "overflow": null,
            "_model_module_version": "1.2.0",
            "_view_count": null,
            "flex_flow": null,
            "width": null,
            "min_width": null,
            "border": null,
            "align_items": null,
            "bottom": null,
            "_model_module": "@jupyter-widgets/base",
            "top": null,
            "grid_column": null,
            "overflow_y": null,
            "overflow_x": null,
            "grid_auto_flow": null,
            "grid_area": null,
            "grid_template_columns": null,
            "flex": null,
            "_model_name": "LayoutModel",
            "justify_items": null,
            "grid_row": null,
            "max_height": null,
            "align_content": null,
            "visibility": null,
            "align_self": null,
            "height": null,
            "min_height": null,
            "padding": null,
            "grid_auto_rows": null,
            "grid_gap": null,
            "max_width": null,
            "order": null,
            "_view_module_version": "1.2.0",
            "grid_template_areas": null,
            "object_position": null,
            "object_fit": null,
            "grid_auto_columns": null,
            "margin": null,
            "display": null,
            "left": null
          }
        },
        "e57c690defad4b069dc61ad41d57d00e": {
          "model_module": "@jupyter-widgets/controls",
          "model_name": "DescriptionStyleModel",
          "state": {
            "_view_name": "StyleView",
            "_model_name": "DescriptionStyleModel",
            "description_width": "",
            "_view_module": "@jupyter-widgets/base",
            "_model_module_version": "1.5.0",
            "_view_count": null,
            "_view_module_version": "1.2.0",
            "_model_module": "@jupyter-widgets/controls"
          }
        },
        "3f8199ff93664bd4b43dd0fc3d58df10": {
          "model_module": "@jupyter-widgets/base",
          "model_name": "LayoutModel",
          "state": {
            "_view_name": "LayoutView",
            "grid_template_rows": null,
            "right": null,
            "justify_content": null,
            "_view_module": "@jupyter-widgets/base",
            "overflow": null,
            "_model_module_version": "1.2.0",
            "_view_count": null,
            "flex_flow": null,
            "width": null,
            "min_width": null,
            "border": null,
            "align_items": null,
            "bottom": null,
            "_model_module": "@jupyter-widgets/base",
            "top": null,
            "grid_column": null,
            "overflow_y": null,
            "overflow_x": null,
            "grid_auto_flow": null,
            "grid_area": null,
            "grid_template_columns": null,
            "flex": null,
            "_model_name": "LayoutModel",
            "justify_items": null,
            "grid_row": null,
            "max_height": null,
            "align_content": null,
            "visibility": null,
            "align_self": null,
            "height": null,
            "min_height": null,
            "padding": null,
            "grid_auto_rows": null,
            "grid_gap": null,
            "max_width": null,
            "order": null,
            "_view_module_version": "1.2.0",
            "grid_template_areas": null,
            "object_position": null,
            "object_fit": null,
            "grid_auto_columns": null,
            "margin": null,
            "display": null,
            "left": null
          }
        },
        "54a5717326bd4f1d8b2f7c5be71d7eeb": {
          "model_module": "@jupyter-widgets/controls",
          "model_name": "HBoxModel",
          "state": {
            "_view_name": "HBoxView",
            "_dom_classes": [],
            "_model_name": "HBoxModel",
            "_view_module": "@jupyter-widgets/controls",
            "_model_module_version": "1.5.0",
            "_view_count": null,
            "_view_module_version": "1.5.0",
            "box_style": "",
            "layout": "IPY_MODEL_d1ef90665ccc4b3199990f76299426de",
            "_model_module": "@jupyter-widgets/controls",
            "children": [
              "IPY_MODEL_45acb7a08e9f494099113907219984cc",
              "IPY_MODEL_db701652b8ab4a4eb3c529757a84c02c"
            ]
          }
        },
        "d1ef90665ccc4b3199990f76299426de": {
          "model_module": "@jupyter-widgets/base",
          "model_name": "LayoutModel",
          "state": {
            "_view_name": "LayoutView",
            "grid_template_rows": null,
            "right": null,
            "justify_content": null,
            "_view_module": "@jupyter-widgets/base",
            "overflow": null,
            "_model_module_version": "1.2.0",
            "_view_count": null,
            "flex_flow": null,
            "width": null,
            "min_width": null,
            "border": null,
            "align_items": null,
            "bottom": null,
            "_model_module": "@jupyter-widgets/base",
            "top": null,
            "grid_column": null,
            "overflow_y": null,
            "overflow_x": null,
            "grid_auto_flow": null,
            "grid_area": null,
            "grid_template_columns": null,
            "flex": null,
            "_model_name": "LayoutModel",
            "justify_items": null,
            "grid_row": null,
            "max_height": null,
            "align_content": null,
            "visibility": null,
            "align_self": null,
            "height": null,
            "min_height": null,
            "padding": null,
            "grid_auto_rows": null,
            "grid_gap": null,
            "max_width": null,
            "order": null,
            "_view_module_version": "1.2.0",
            "grid_template_areas": null,
            "object_position": null,
            "object_fit": null,
            "grid_auto_columns": null,
            "margin": null,
            "display": null,
            "left": null
          }
        },
        "45acb7a08e9f494099113907219984cc": {
          "model_module": "@jupyter-widgets/controls",
          "model_name": "FloatProgressModel",
          "state": {
            "_view_name": "ProgressView",
            "style": "IPY_MODEL_07943e7a843f40ca8daa24b7f3706671",
            "_dom_classes": [],
            "description": " 69%",
            "_model_name": "FloatProgressModel",
            "bar_style": "danger",
            "max": 50000,
            "_view_module": "@jupyter-widgets/controls",
            "_model_module_version": "1.5.0",
            "value": 34507,
            "_view_count": null,
            "_view_module_version": "1.5.0",
            "orientation": "horizontal",
            "min": 0,
            "description_tooltip": null,
            "_model_module": "@jupyter-widgets/controls",
            "layout": "IPY_MODEL_9e28e509ced144e9b18c24e1c56f7c9d"
          }
        },
        "db701652b8ab4a4eb3c529757a84c02c": {
          "model_module": "@jupyter-widgets/controls",
          "model_name": "HTMLModel",
          "state": {
            "_view_name": "HTMLView",
            "style": "IPY_MODEL_cac99033a31142cb9f79f3b18af99b65",
            "_dom_classes": [],
            "description": "",
            "_model_name": "HTMLModel",
            "placeholder": "​",
            "_view_module": "@jupyter-widgets/controls",
            "_model_module_version": "1.5.0",
            "value": " 34507/50000 [00:00&lt;00:00, 71497.05 examples/s]",
            "_view_count": null,
            "_view_module_version": "1.5.0",
            "description_tooltip": null,
            "_model_module": "@jupyter-widgets/controls",
            "layout": "IPY_MODEL_d05d02451af9417c9770dbfa8180e2bf"
          }
        },
        "07943e7a843f40ca8daa24b7f3706671": {
          "model_module": "@jupyter-widgets/controls",
          "model_name": "ProgressStyleModel",
          "state": {
            "_view_name": "StyleView",
            "_model_name": "ProgressStyleModel",
            "description_width": "initial",
            "_view_module": "@jupyter-widgets/base",
            "_model_module_version": "1.5.0",
            "_view_count": null,
            "_view_module_version": "1.2.0",
            "bar_color": null,
            "_model_module": "@jupyter-widgets/controls"
          }
        },
        "9e28e509ced144e9b18c24e1c56f7c9d": {
          "model_module": "@jupyter-widgets/base",
          "model_name": "LayoutModel",
          "state": {
            "_view_name": "LayoutView",
            "grid_template_rows": null,
            "right": null,
            "justify_content": null,
            "_view_module": "@jupyter-widgets/base",
            "overflow": null,
            "_model_module_version": "1.2.0",
            "_view_count": null,
            "flex_flow": null,
            "width": null,
            "min_width": null,
            "border": null,
            "align_items": null,
            "bottom": null,
            "_model_module": "@jupyter-widgets/base",
            "top": null,
            "grid_column": null,
            "overflow_y": null,
            "overflow_x": null,
            "grid_auto_flow": null,
            "grid_area": null,
            "grid_template_columns": null,
            "flex": null,
            "_model_name": "LayoutModel",
            "justify_items": null,
            "grid_row": null,
            "max_height": null,
            "align_content": null,
            "visibility": null,
            "align_self": null,
            "height": null,
            "min_height": null,
            "padding": null,
            "grid_auto_rows": null,
            "grid_gap": null,
            "max_width": null,
            "order": null,
            "_view_module_version": "1.2.0",
            "grid_template_areas": null,
            "object_position": null,
            "object_fit": null,
            "grid_auto_columns": null,
            "margin": null,
            "display": null,
            "left": null
          }
        },
        "cac99033a31142cb9f79f3b18af99b65": {
          "model_module": "@jupyter-widgets/controls",
          "model_name": "DescriptionStyleModel",
          "state": {
            "_view_name": "StyleView",
            "_model_name": "DescriptionStyleModel",
            "description_width": "",
            "_view_module": "@jupyter-widgets/base",
            "_model_module_version": "1.5.0",
            "_view_count": null,
            "_view_module_version": "1.2.0",
            "_model_module": "@jupyter-widgets/controls"
          }
        },
        "d05d02451af9417c9770dbfa8180e2bf": {
          "model_module": "@jupyter-widgets/base",
          "model_name": "LayoutModel",
          "state": {
            "_view_name": "LayoutView",
            "grid_template_rows": null,
            "right": null,
            "justify_content": null,
            "_view_module": "@jupyter-widgets/base",
            "overflow": null,
            "_model_module_version": "1.2.0",
            "_view_count": null,
            "flex_flow": null,
            "width": null,
            "min_width": null,
            "border": null,
            "align_items": null,
            "bottom": null,
            "_model_module": "@jupyter-widgets/base",
            "top": null,
            "grid_column": null,
            "overflow_y": null,
            "overflow_x": null,
            "grid_auto_flow": null,
            "grid_area": null,
            "grid_template_columns": null,
            "flex": null,
            "_model_name": "LayoutModel",
            "justify_items": null,
            "grid_row": null,
            "max_height": null,
            "align_content": null,
            "visibility": null,
            "align_self": null,
            "height": null,
            "min_height": null,
            "padding": null,
            "grid_auto_rows": null,
            "grid_gap": null,
            "max_width": null,
            "order": null,
            "_view_module_version": "1.2.0",
            "grid_template_areas": null,
            "object_position": null,
            "object_fit": null,
            "grid_auto_columns": null,
            "margin": null,
            "display": null,
            "left": null
          }
        },
        "138f37eb778b4b4e802a42440a52d208": {
          "model_module": "@jupyter-widgets/controls",
          "model_name": "HBoxModel",
          "state": {
            "_view_name": "HBoxView",
            "_dom_classes": [],
            "_model_name": "HBoxModel",
            "_view_module": "@jupyter-widgets/controls",
            "_model_module_version": "1.5.0",
            "_view_count": null,
            "_view_module_version": "1.5.0",
            "box_style": "",
            "layout": "IPY_MODEL_abba36a19c6746e6a526ab97eaad4304",
            "_model_module": "@jupyter-widgets/controls",
            "children": [
              "IPY_MODEL_cd1cf23477ee4e72b9907768374e0143",
              "IPY_MODEL_f9200745fc3745bfabc11e18b114c6a8"
            ]
          }
        },
        "abba36a19c6746e6a526ab97eaad4304": {
          "model_module": "@jupyter-widgets/base",
          "model_name": "LayoutModel",
          "state": {
            "_view_name": "LayoutView",
            "grid_template_rows": null,
            "right": null,
            "justify_content": null,
            "_view_module": "@jupyter-widgets/base",
            "overflow": null,
            "_model_module_version": "1.2.0",
            "_view_count": null,
            "flex_flow": null,
            "width": null,
            "min_width": null,
            "border": null,
            "align_items": null,
            "bottom": null,
            "_model_module": "@jupyter-widgets/base",
            "top": null,
            "grid_column": null,
            "overflow_y": null,
            "overflow_x": null,
            "grid_auto_flow": null,
            "grid_area": null,
            "grid_template_columns": null,
            "flex": null,
            "_model_name": "LayoutModel",
            "justify_items": null,
            "grid_row": null,
            "max_height": null,
            "align_content": null,
            "visibility": null,
            "align_self": null,
            "height": null,
            "min_height": null,
            "padding": null,
            "grid_auto_rows": null,
            "grid_gap": null,
            "max_width": null,
            "order": null,
            "_view_module_version": "1.2.0",
            "grid_template_areas": null,
            "object_position": null,
            "object_fit": null,
            "grid_auto_columns": null,
            "margin": null,
            "display": null,
            "left": null
          }
        },
        "cd1cf23477ee4e72b9907768374e0143": {
          "model_module": "@jupyter-widgets/controls",
          "model_name": "FloatProgressModel",
          "state": {
            "_view_name": "ProgressView",
            "style": "IPY_MODEL_90c52859cc28413e84d96573ffe0a95e",
            "_dom_classes": [],
            "description": "Downloading: 100%",
            "_model_name": "FloatProgressModel",
            "bar_style": "success",
            "max": 231508,
            "_view_module": "@jupyter-widgets/controls",
            "_model_module_version": "1.5.0",
            "value": 231508,
            "_view_count": null,
            "_view_module_version": "1.5.0",
            "orientation": "horizontal",
            "min": 0,
            "description_tooltip": null,
            "_model_module": "@jupyter-widgets/controls",
            "layout": "IPY_MODEL_a36d5cd5dda24e7ebb9af239ece210b5"
          }
        },
        "f9200745fc3745bfabc11e18b114c6a8": {
          "model_module": "@jupyter-widgets/controls",
          "model_name": "HTMLModel",
          "state": {
            "_view_name": "HTMLView",
            "style": "IPY_MODEL_406343e159d14de09d8c0fe209656ca8",
            "_dom_classes": [],
            "description": "",
            "_model_name": "HTMLModel",
            "placeholder": "​",
            "_view_module": "@jupyter-widgets/controls",
            "_model_module_version": "1.5.0",
            "value": " 232k/232k [00:00&lt;00:00, 3.20MB/s]",
            "_view_count": null,
            "_view_module_version": "1.5.0",
            "description_tooltip": null,
            "_model_module": "@jupyter-widgets/controls",
            "layout": "IPY_MODEL_ea3cbe19c6b64d3d869c9a707ff29d4b"
          }
        },
        "90c52859cc28413e84d96573ffe0a95e": {
          "model_module": "@jupyter-widgets/controls",
          "model_name": "ProgressStyleModel",
          "state": {
            "_view_name": "StyleView",
            "_model_name": "ProgressStyleModel",
            "description_width": "initial",
            "_view_module": "@jupyter-widgets/base",
            "_model_module_version": "1.5.0",
            "_view_count": null,
            "_view_module_version": "1.2.0",
            "bar_color": null,
            "_model_module": "@jupyter-widgets/controls"
          }
        },
        "a36d5cd5dda24e7ebb9af239ece210b5": {
          "model_module": "@jupyter-widgets/base",
          "model_name": "LayoutModel",
          "state": {
            "_view_name": "LayoutView",
            "grid_template_rows": null,
            "right": null,
            "justify_content": null,
            "_view_module": "@jupyter-widgets/base",
            "overflow": null,
            "_model_module_version": "1.2.0",
            "_view_count": null,
            "flex_flow": null,
            "width": null,
            "min_width": null,
            "border": null,
            "align_items": null,
            "bottom": null,
            "_model_module": "@jupyter-widgets/base",
            "top": null,
            "grid_column": null,
            "overflow_y": null,
            "overflow_x": null,
            "grid_auto_flow": null,
            "grid_area": null,
            "grid_template_columns": null,
            "flex": null,
            "_model_name": "LayoutModel",
            "justify_items": null,
            "grid_row": null,
            "max_height": null,
            "align_content": null,
            "visibility": null,
            "align_self": null,
            "height": null,
            "min_height": null,
            "padding": null,
            "grid_auto_rows": null,
            "grid_gap": null,
            "max_width": null,
            "order": null,
            "_view_module_version": "1.2.0",
            "grid_template_areas": null,
            "object_position": null,
            "object_fit": null,
            "grid_auto_columns": null,
            "margin": null,
            "display": null,
            "left": null
          }
        },
        "406343e159d14de09d8c0fe209656ca8": {
          "model_module": "@jupyter-widgets/controls",
          "model_name": "DescriptionStyleModel",
          "state": {
            "_view_name": "StyleView",
            "_model_name": "DescriptionStyleModel",
            "description_width": "",
            "_view_module": "@jupyter-widgets/base",
            "_model_module_version": "1.5.0",
            "_view_count": null,
            "_view_module_version": "1.2.0",
            "_model_module": "@jupyter-widgets/controls"
          }
        },
        "ea3cbe19c6b64d3d869c9a707ff29d4b": {
          "model_module": "@jupyter-widgets/base",
          "model_name": "LayoutModel",
          "state": {
            "_view_name": "LayoutView",
            "grid_template_rows": null,
            "right": null,
            "justify_content": null,
            "_view_module": "@jupyter-widgets/base",
            "overflow": null,
            "_model_module_version": "1.2.0",
            "_view_count": null,
            "flex_flow": null,
            "width": null,
            "min_width": null,
            "border": null,
            "align_items": null,
            "bottom": null,
            "_model_module": "@jupyter-widgets/base",
            "top": null,
            "grid_column": null,
            "overflow_y": null,
            "overflow_x": null,
            "grid_auto_flow": null,
            "grid_area": null,
            "grid_template_columns": null,
            "flex": null,
            "_model_name": "LayoutModel",
            "justify_items": null,
            "grid_row": null,
            "max_height": null,
            "align_content": null,
            "visibility": null,
            "align_self": null,
            "height": null,
            "min_height": null,
            "padding": null,
            "grid_auto_rows": null,
            "grid_gap": null,
            "max_width": null,
            "order": null,
            "_view_module_version": "1.2.0",
            "grid_template_areas": null,
            "object_position": null,
            "object_fit": null,
            "grid_auto_columns": null,
            "margin": null,
            "display": null,
            "left": null
          }
        },
        "01215e709f7b4d929e415ee6d941c45f": {
          "model_module": "@jupyter-widgets/controls",
          "model_name": "HBoxModel",
          "state": {
            "_view_name": "HBoxView",
            "_dom_classes": [],
            "_model_name": "HBoxModel",
            "_view_module": "@jupyter-widgets/controls",
            "_model_module_version": "1.5.0",
            "_view_count": null,
            "_view_module_version": "1.5.0",
            "box_style": "",
            "layout": "IPY_MODEL_dfd32ca35d214e93b80390a1fa130d77",
            "_model_module": "@jupyter-widgets/controls",
            "children": [
              "IPY_MODEL_ba1f716cd8a341ed9a4430ae82571e06",
              "IPY_MODEL_1fb413b2f4854e7795dd18323d73ca59"
            ]
          }
        },
        "dfd32ca35d214e93b80390a1fa130d77": {
          "model_module": "@jupyter-widgets/base",
          "model_name": "LayoutModel",
          "state": {
            "_view_name": "LayoutView",
            "grid_template_rows": null,
            "right": null,
            "justify_content": null,
            "_view_module": "@jupyter-widgets/base",
            "overflow": null,
            "_model_module_version": "1.2.0",
            "_view_count": null,
            "flex_flow": null,
            "width": null,
            "min_width": null,
            "border": null,
            "align_items": null,
            "bottom": null,
            "_model_module": "@jupyter-widgets/base",
            "top": null,
            "grid_column": null,
            "overflow_y": null,
            "overflow_x": null,
            "grid_auto_flow": null,
            "grid_area": null,
            "grid_template_columns": null,
            "flex": null,
            "_model_name": "LayoutModel",
            "justify_items": null,
            "grid_row": null,
            "max_height": null,
            "align_content": null,
            "visibility": null,
            "align_self": null,
            "height": null,
            "min_height": null,
            "padding": null,
            "grid_auto_rows": null,
            "grid_gap": null,
            "max_width": null,
            "order": null,
            "_view_module_version": "1.2.0",
            "grid_template_areas": null,
            "object_position": null,
            "object_fit": null,
            "grid_auto_columns": null,
            "margin": null,
            "display": null,
            "left": null
          }
        },
        "ba1f716cd8a341ed9a4430ae82571e06": {
          "model_module": "@jupyter-widgets/controls",
          "model_name": "FloatProgressModel",
          "state": {
            "_view_name": "ProgressView",
            "style": "IPY_MODEL_28e6336779e14ec48ca378c62456f976",
            "_dom_classes": [],
            "description": "Downloading: 100%",
            "_model_name": "FloatProgressModel",
            "bar_style": "success",
            "max": 433,
            "_view_module": "@jupyter-widgets/controls",
            "_model_module_version": "1.5.0",
            "value": 433,
            "_view_count": null,
            "_view_module_version": "1.5.0",
            "orientation": "horizontal",
            "min": 0,
            "description_tooltip": null,
            "_model_module": "@jupyter-widgets/controls",
            "layout": "IPY_MODEL_68c2c66147b540afbddfa0b21f4a97e6"
          }
        },
        "1fb413b2f4854e7795dd18323d73ca59": {
          "model_module": "@jupyter-widgets/controls",
          "model_name": "HTMLModel",
          "state": {
            "_view_name": "HTMLView",
            "style": "IPY_MODEL_c883ffd4141045d683117a9334b504e1",
            "_dom_classes": [],
            "description": "",
            "_model_name": "HTMLModel",
            "placeholder": "​",
            "_view_module": "@jupyter-widgets/controls",
            "_model_module_version": "1.5.0",
            "value": " 433/433 [00:06&lt;00:00, 66.8B/s]",
            "_view_count": null,
            "_view_module_version": "1.5.0",
            "description_tooltip": null,
            "_model_module": "@jupyter-widgets/controls",
            "layout": "IPY_MODEL_9bff1d77a931407995cfbba70424841c"
          }
        },
        "28e6336779e14ec48ca378c62456f976": {
          "model_module": "@jupyter-widgets/controls",
          "model_name": "ProgressStyleModel",
          "state": {
            "_view_name": "StyleView",
            "_model_name": "ProgressStyleModel",
            "description_width": "initial",
            "_view_module": "@jupyter-widgets/base",
            "_model_module_version": "1.5.0",
            "_view_count": null,
            "_view_module_version": "1.2.0",
            "bar_color": null,
            "_model_module": "@jupyter-widgets/controls"
          }
        },
        "68c2c66147b540afbddfa0b21f4a97e6": {
          "model_module": "@jupyter-widgets/base",
          "model_name": "LayoutModel",
          "state": {
            "_view_name": "LayoutView",
            "grid_template_rows": null,
            "right": null,
            "justify_content": null,
            "_view_module": "@jupyter-widgets/base",
            "overflow": null,
            "_model_module_version": "1.2.0",
            "_view_count": null,
            "flex_flow": null,
            "width": null,
            "min_width": null,
            "border": null,
            "align_items": null,
            "bottom": null,
            "_model_module": "@jupyter-widgets/base",
            "top": null,
            "grid_column": null,
            "overflow_y": null,
            "overflow_x": null,
            "grid_auto_flow": null,
            "grid_area": null,
            "grid_template_columns": null,
            "flex": null,
            "_model_name": "LayoutModel",
            "justify_items": null,
            "grid_row": null,
            "max_height": null,
            "align_content": null,
            "visibility": null,
            "align_self": null,
            "height": null,
            "min_height": null,
            "padding": null,
            "grid_auto_rows": null,
            "grid_gap": null,
            "max_width": null,
            "order": null,
            "_view_module_version": "1.2.0",
            "grid_template_areas": null,
            "object_position": null,
            "object_fit": null,
            "grid_auto_columns": null,
            "margin": null,
            "display": null,
            "left": null
          }
        },
        "c883ffd4141045d683117a9334b504e1": {
          "model_module": "@jupyter-widgets/controls",
          "model_name": "DescriptionStyleModel",
          "state": {
            "_view_name": "StyleView",
            "_model_name": "DescriptionStyleModel",
            "description_width": "",
            "_view_module": "@jupyter-widgets/base",
            "_model_module_version": "1.5.0",
            "_view_count": null,
            "_view_module_version": "1.2.0",
            "_model_module": "@jupyter-widgets/controls"
          }
        },
        "9bff1d77a931407995cfbba70424841c": {
          "model_module": "@jupyter-widgets/base",
          "model_name": "LayoutModel",
          "state": {
            "_view_name": "LayoutView",
            "grid_template_rows": null,
            "right": null,
            "justify_content": null,
            "_view_module": "@jupyter-widgets/base",
            "overflow": null,
            "_model_module_version": "1.2.0",
            "_view_count": null,
            "flex_flow": null,
            "width": null,
            "min_width": null,
            "border": null,
            "align_items": null,
            "bottom": null,
            "_model_module": "@jupyter-widgets/base",
            "top": null,
            "grid_column": null,
            "overflow_y": null,
            "overflow_x": null,
            "grid_auto_flow": null,
            "grid_area": null,
            "grid_template_columns": null,
            "flex": null,
            "_model_name": "LayoutModel",
            "justify_items": null,
            "grid_row": null,
            "max_height": null,
            "align_content": null,
            "visibility": null,
            "align_self": null,
            "height": null,
            "min_height": null,
            "padding": null,
            "grid_auto_rows": null,
            "grid_gap": null,
            "max_width": null,
            "order": null,
            "_view_module_version": "1.2.0",
            "grid_template_areas": null,
            "object_position": null,
            "object_fit": null,
            "grid_auto_columns": null,
            "margin": null,
            "display": null,
            "left": null
          }
        },
        "bb36b50299f042af80dd88bb8e9920eb": {
          "model_module": "@jupyter-widgets/controls",
          "model_name": "HBoxModel",
          "state": {
            "_view_name": "HBoxView",
            "_dom_classes": [],
            "_model_name": "HBoxModel",
            "_view_module": "@jupyter-widgets/controls",
            "_model_module_version": "1.5.0",
            "_view_count": null,
            "_view_module_version": "1.5.0",
            "box_style": "",
            "layout": "IPY_MODEL_750e4a8c4678453698b5fd7ff278cf3f",
            "_model_module": "@jupyter-widgets/controls",
            "children": [
              "IPY_MODEL_f195b429af5f47bc91cad46ee54ffd5a",
              "IPY_MODEL_6867c3b4ce31400c9c913c654b133e89"
            ]
          }
        },
        "750e4a8c4678453698b5fd7ff278cf3f": {
          "model_module": "@jupyter-widgets/base",
          "model_name": "LayoutModel",
          "state": {
            "_view_name": "LayoutView",
            "grid_template_rows": null,
            "right": null,
            "justify_content": null,
            "_view_module": "@jupyter-widgets/base",
            "overflow": null,
            "_model_module_version": "1.2.0",
            "_view_count": null,
            "flex_flow": null,
            "width": null,
            "min_width": null,
            "border": null,
            "align_items": null,
            "bottom": null,
            "_model_module": "@jupyter-widgets/base",
            "top": null,
            "grid_column": null,
            "overflow_y": null,
            "overflow_x": null,
            "grid_auto_flow": null,
            "grid_area": null,
            "grid_template_columns": null,
            "flex": null,
            "_model_name": "LayoutModel",
            "justify_items": null,
            "grid_row": null,
            "max_height": null,
            "align_content": null,
            "visibility": null,
            "align_self": null,
            "height": null,
            "min_height": null,
            "padding": null,
            "grid_auto_rows": null,
            "grid_gap": null,
            "max_width": null,
            "order": null,
            "_view_module_version": "1.2.0",
            "grid_template_areas": null,
            "object_position": null,
            "object_fit": null,
            "grid_auto_columns": null,
            "margin": null,
            "display": null,
            "left": null
          }
        },
        "f195b429af5f47bc91cad46ee54ffd5a": {
          "model_module": "@jupyter-widgets/controls",
          "model_name": "FloatProgressModel",
          "state": {
            "_view_name": "ProgressView",
            "style": "IPY_MODEL_578e8264257f464db87ba655d0f58b07",
            "_dom_classes": [],
            "description": "Downloading: 100%",
            "_model_name": "FloatProgressModel",
            "bar_style": "success",
            "max": 440473133,
            "_view_module": "@jupyter-widgets/controls",
            "_model_module_version": "1.5.0",
            "value": 440473133,
            "_view_count": null,
            "_view_module_version": "1.5.0",
            "orientation": "horizontal",
            "min": 0,
            "description_tooltip": null,
            "_model_module": "@jupyter-widgets/controls",
            "layout": "IPY_MODEL_d936bff8ca204aaf9e1d1a1a0d462358"
          }
        },
        "6867c3b4ce31400c9c913c654b133e89": {
          "model_module": "@jupyter-widgets/controls",
          "model_name": "HTMLModel",
          "state": {
            "_view_name": "HTMLView",
            "style": "IPY_MODEL_35ae84f8c1734497a9676b3cce1e5a89",
            "_dom_classes": [],
            "description": "",
            "_model_name": "HTMLModel",
            "placeholder": "​",
            "_view_module": "@jupyter-widgets/controls",
            "_model_module_version": "1.5.0",
            "value": " 440M/440M [00:06&lt;00:00, 69.9MB/s]",
            "_view_count": null,
            "_view_module_version": "1.5.0",
            "description_tooltip": null,
            "_model_module": "@jupyter-widgets/controls",
            "layout": "IPY_MODEL_7da9512a957142beb74e210ccac6c152"
          }
        },
        "578e8264257f464db87ba655d0f58b07": {
          "model_module": "@jupyter-widgets/controls",
          "model_name": "ProgressStyleModel",
          "state": {
            "_view_name": "StyleView",
            "_model_name": "ProgressStyleModel",
            "description_width": "initial",
            "_view_module": "@jupyter-widgets/base",
            "_model_module_version": "1.5.0",
            "_view_count": null,
            "_view_module_version": "1.2.0",
            "bar_color": null,
            "_model_module": "@jupyter-widgets/controls"
          }
        },
        "d936bff8ca204aaf9e1d1a1a0d462358": {
          "model_module": "@jupyter-widgets/base",
          "model_name": "LayoutModel",
          "state": {
            "_view_name": "LayoutView",
            "grid_template_rows": null,
            "right": null,
            "justify_content": null,
            "_view_module": "@jupyter-widgets/base",
            "overflow": null,
            "_model_module_version": "1.2.0",
            "_view_count": null,
            "flex_flow": null,
            "width": null,
            "min_width": null,
            "border": null,
            "align_items": null,
            "bottom": null,
            "_model_module": "@jupyter-widgets/base",
            "top": null,
            "grid_column": null,
            "overflow_y": null,
            "overflow_x": null,
            "grid_auto_flow": null,
            "grid_area": null,
            "grid_template_columns": null,
            "flex": null,
            "_model_name": "LayoutModel",
            "justify_items": null,
            "grid_row": null,
            "max_height": null,
            "align_content": null,
            "visibility": null,
            "align_self": null,
            "height": null,
            "min_height": null,
            "padding": null,
            "grid_auto_rows": null,
            "grid_gap": null,
            "max_width": null,
            "order": null,
            "_view_module_version": "1.2.0",
            "grid_template_areas": null,
            "object_position": null,
            "object_fit": null,
            "grid_auto_columns": null,
            "margin": null,
            "display": null,
            "left": null
          }
        },
        "35ae84f8c1734497a9676b3cce1e5a89": {
          "model_module": "@jupyter-widgets/controls",
          "model_name": "DescriptionStyleModel",
          "state": {
            "_view_name": "StyleView",
            "_model_name": "DescriptionStyleModel",
            "description_width": "",
            "_view_module": "@jupyter-widgets/base",
            "_model_module_version": "1.5.0",
            "_view_count": null,
            "_view_module_version": "1.2.0",
            "_model_module": "@jupyter-widgets/controls"
          }
        },
        "7da9512a957142beb74e210ccac6c152": {
          "model_module": "@jupyter-widgets/base",
          "model_name": "LayoutModel",
          "state": {
            "_view_name": "LayoutView",
            "grid_template_rows": null,
            "right": null,
            "justify_content": null,
            "_view_module": "@jupyter-widgets/base",
            "overflow": null,
            "_model_module_version": "1.2.0",
            "_view_count": null,
            "flex_flow": null,
            "width": null,
            "min_width": null,
            "border": null,
            "align_items": null,
            "bottom": null,
            "_model_module": "@jupyter-widgets/base",
            "top": null,
            "grid_column": null,
            "overflow_y": null,
            "overflow_x": null,
            "grid_auto_flow": null,
            "grid_area": null,
            "grid_template_columns": null,
            "flex": null,
            "_model_name": "LayoutModel",
            "justify_items": null,
            "grid_row": null,
            "max_height": null,
            "align_content": null,
            "visibility": null,
            "align_self": null,
            "height": null,
            "min_height": null,
            "padding": null,
            "grid_auto_rows": null,
            "grid_gap": null,
            "max_width": null,
            "order": null,
            "_view_module_version": "1.2.0",
            "grid_template_areas": null,
            "object_position": null,
            "object_fit": null,
            "grid_auto_columns": null,
            "margin": null,
            "display": null,
            "left": null
          }
        }
      }
    }
  },
  "cells": [
    {
      "cell_type": "markdown",
      "metadata": {
        "id": "view-in-github",
        "colab_type": "text"
      },
      "source": [
        "<a href=\"https://colab.research.google.com/github/vivekam101/Bert-Internals/blob/main/Smart_Batching.ipynb\" target=\"_parent\"><img src=\"https://colab.research.google.com/assets/colab-badge.svg\" alt=\"Open In Colab\"/></a>"
      ]
    },
    {
      "cell_type": "markdown",
      "metadata": {
        "id": "Y-RBPRl43usv"
      },
      "source": [
        "# Introduction"
      ]
    },
    {
      "cell_type": "markdown",
      "metadata": {
        "id": "Lr5OzVxdc85k"
      },
      "source": [
        "In this Notebook, I'll demonstrate how to dramatically increase BERT's training time by creating batches of samples with different sequence lengths. \n",
        "\n",
        "I learned this technique from Michaël Benesty in his excellent blog post [here](https://towardsdatascience.com/divide-hugging-face-transformers-training-time-by-2-or-more-21bf7129db9q-21bf7129db9e), and used key pieces of his implementation ([here](https://gist.github.com/pommedeterresautee/1a334b665710bec9bb65965f662c94c8)) in this Notebook. \n",
        "\n",
        "> Michaël's code is designed to make use of the new `Trainer` class in the `transformers` library, and makes use of many helper classes from PyTorch and transformers. Unfortunately, the `transformers` library appears to have broken compatibility with his code, and it no longer runs. \n",
        "\n",
        "> I've taken a more manual approach in this Notebook, and I think it turned out well, especially for illustrating the technique.\n",
        "\n"
      ]
    },
    {
      "cell_type": "markdown",
      "metadata": {
        "id": "WgwZMTRN2OfF"
      },
      "source": [
        "### Why We Pad\n"
      ]
    },
    {
      "cell_type": "markdown",
      "metadata": {
        "id": "FLmgAlcNDaR3"
      },
      "source": [
        "\n",
        "GPUs are much more efficient when we can give them multiple training samples to work on in parallel, so we give them a \"batch\" of samples.\n",
        "\n",
        "In order for the GPU to operate on a batch, however, all of the inputs need to be of the same length. To address this, we pad all of our input sequences to be a single fixed length.\n",
        "\n",
        "We also provide the model with an \"attention mask\" for each sample, which identifies the `[PAD]` tokens and tells BERT to ignore them. \n",
        "\n",
        "*Side Note: In my experience, it seems that the [PAD] tokens may in fact have some* small *effect on the model. I'd have to look closely at how the attention mask is implemented to understand this better.* \n",
        "\n",
        "Below are some example sentences from a French dataset that have been tokenized with a French BERT model called CamemBERT. For the sake of illustration, let's say that our dataset only consists of these 12 sentences, and we're dividing them into 3 batches of 4 samples each.\n",
        "\n",
        "![Fixed Padding Length](https://drive.google.com/uc?export=view&id=1UaVW3gxTSAD0E9CrCX48kn6QF_L_slP9)\n",
        "\n",
        "In order to feed multiple samples into BERT at once, we are padding out all of the sentences to a length of 14 (to match the length of the longest sentence(s) in the dataset).\n",
        "\n",
        "This is the standard approach that I've used in all of my examples, and it's certainly the simplest to implement, code-wise.\n",
        "\n",
        "\n",
        "\n",
        "\n"
      ]
    },
    {
      "cell_type": "markdown",
      "metadata": {
        "id": "MMVDieLwz-f5"
      },
      "source": [
        "### Dynamic Padding \n"
      ]
    },
    {
      "cell_type": "markdown",
      "metadata": {
        "id": "_6vwHS0A9qq4"
      },
      "source": [
        "\n",
        "\n",
        "While the attention mask ensures that the `[PAD]` tokens don't influence BERT's *interpretation* of the text, the `[PAD]` tokens are still fully included in all of the mathematical operations that BERT is performing. This means they *do*  impact our *speed* for training and evaluation. \n",
        "\n",
        "And although all of the samples *within a batch* need to be of the same length, BERT doesn't care what length that is, and we can feed it batches of text with different maximum lengths!\n",
        "\n",
        "(If you think about it, there's nowhere in our code that we ever explicitly tell BERT what sequence length to expect from us. We pad our dataset to whatever length we want, and BERT processes it just fine).\n",
        "\n",
        "![Dynamic padding](https://drive.google.com/uc?export=view&id=1UfJJ2sj1w6prvwQPwyqbQCgJbJ9qIC9V)\n",
        "\n",
        "So, if we're willing to get more sophisticated with our code, we can customize our padding for each batch. This shouldn't have any impact on our accuracy, and Michaël confirmed this with his experiments.\n"
      ]
    },
    {
      "cell_type": "markdown",
      "metadata": {
        "id": "MELBfexO1QzA"
      },
      "source": [
        "### Uniform Length Batching\n"
      ]
    },
    {
      "cell_type": "markdown",
      "metadata": {
        "id": "Yd1jPxX-9tCH"
      },
      "source": [
        "\n",
        "We can go a step further, and sort our dataset by length before creating the batches, to be even more efficient.\n",
        "\n",
        "![Uniform Length Batching](https://drive.google.com/uc?export=view&id=1UjQaOAkN-zPh10fSoXmZ-68jMdFLq2y_)\n",
        "\n",
        "*Note: In the above illustration I've selected the batches in sequence, but we'll actually be selecting them more randomly, to allow for more randomness to the order of the training data.*\n",
        "\n",
        "Michael's experiments also support the intuition that this technique shouldn't adversely impact performance.\n",
        "\n",
        "For the rest of the notebook, I'll just refer to the combination of these two techniques as \"smart batching\"!"
      ]
    },
    {
      "cell_type": "markdown",
      "metadata": {
        "id": "iiMLQi1y7a8N"
      },
      "source": [
        "Note: You can view the results of Michael's experiments on \"Weights and Biases\" [here](https://app.wandb.ai/pommedeterresautee/speed_training/reports/Divide-HuggingFace-Transformers-training-times-by-2-or-more-with-dynamic-padding-and-uniform-length-batching--VmlldzoxMDgzOTI)."
      ]
    },
    {
      "cell_type": "markdown",
      "metadata": {
        "id": "f38X8ryC7pvD"
      },
      "source": [
        "# S1. Setup"
      ]
    },
    {
      "cell_type": "markdown",
      "metadata": {
        "id": "T9PJns-a7srE"
      },
      "source": [
        "## 1.1. Install transformers"
      ]
    },
    {
      "cell_type": "code",
      "metadata": {
        "id": "-XeR8Sbz0B5x",
        "outputId": "9b77db40-bbe8-49b4-d736-5ebe0bef4723",
        "colab": {
          "base_uri": "https://localhost:8080/",
          "height": 649
        }
      },
      "source": [
        "!pip install transformers"
      ],
      "execution_count": 1,
      "outputs": [
        {
          "output_type": "stream",
          "text": [
            "Collecting transformers\n",
            "\u001b[?25l  Downloading https://files.pythonhosted.org/packages/2c/4e/4f1ede0fd7a36278844a277f8d53c21f88f37f3754abf76a5d6224f76d4a/transformers-3.4.0-py3-none-any.whl (1.3MB)\n",
            "\r\u001b[K     |▎                               | 10kB 22.3MB/s eta 0:00:01\r\u001b[K     |▌                               | 20kB 28.2MB/s eta 0:00:01\r\u001b[K     |▉                               | 30kB 31.9MB/s eta 0:00:01\r\u001b[K     |█                               | 40kB 18.6MB/s eta 0:00:01\r\u001b[K     |█▎                              | 51kB 14.1MB/s eta 0:00:01\r\u001b[K     |█▋                              | 61kB 14.0MB/s eta 0:00:01\r\u001b[K     |█▉                              | 71kB 14.1MB/s eta 0:00:01\r\u001b[K     |██                              | 81kB 13.6MB/s eta 0:00:01\r\u001b[K     |██▍                             | 92kB 13.4MB/s eta 0:00:01\r\u001b[K     |██▋                             | 102kB 12.5MB/s eta 0:00:01\r\u001b[K     |██▉                             | 112kB 12.5MB/s eta 0:00:01\r\u001b[K     |███▏                            | 122kB 12.5MB/s eta 0:00:01\r\u001b[K     |███▍                            | 133kB 12.5MB/s eta 0:00:01\r\u001b[K     |███▋                            | 143kB 12.5MB/s eta 0:00:01\r\u001b[K     |████                            | 153kB 12.5MB/s eta 0:00:01\r\u001b[K     |████▏                           | 163kB 12.5MB/s eta 0:00:01\r\u001b[K     |████▍                           | 174kB 12.5MB/s eta 0:00:01\r\u001b[K     |████▊                           | 184kB 12.5MB/s eta 0:00:01\r\u001b[K     |█████                           | 194kB 12.5MB/s eta 0:00:01\r\u001b[K     |█████▏                          | 204kB 12.5MB/s eta 0:00:01\r\u001b[K     |█████▌                          | 215kB 12.5MB/s eta 0:00:01\r\u001b[K     |█████▊                          | 225kB 12.5MB/s eta 0:00:01\r\u001b[K     |██████                          | 235kB 12.5MB/s eta 0:00:01\r\u001b[K     |██████▎                         | 245kB 12.5MB/s eta 0:00:01\r\u001b[K     |██████▌                         | 256kB 12.5MB/s eta 0:00:01\r\u001b[K     |██████▊                         | 266kB 12.5MB/s eta 0:00:01\r\u001b[K     |███████                         | 276kB 12.5MB/s eta 0:00:01\r\u001b[K     |███████▎                        | 286kB 12.5MB/s eta 0:00:01\r\u001b[K     |███████▋                        | 296kB 12.5MB/s eta 0:00:01\r\u001b[K     |███████▉                        | 307kB 12.5MB/s eta 0:00:01\r\u001b[K     |████████                        | 317kB 12.5MB/s eta 0:00:01\r\u001b[K     |████████▍                       | 327kB 12.5MB/s eta 0:00:01\r\u001b[K     |████████▋                       | 337kB 12.5MB/s eta 0:00:01\r\u001b[K     |████████▉                       | 348kB 12.5MB/s eta 0:00:01\r\u001b[K     |█████████▏                      | 358kB 12.5MB/s eta 0:00:01\r\u001b[K     |█████████▍                      | 368kB 12.5MB/s eta 0:00:01\r\u001b[K     |█████████▋                      | 378kB 12.5MB/s eta 0:00:01\r\u001b[K     |██████████                      | 389kB 12.5MB/s eta 0:00:01\r\u001b[K     |██████████▏                     | 399kB 12.5MB/s eta 0:00:01\r\u001b[K     |██████████▍                     | 409kB 12.5MB/s eta 0:00:01\r\u001b[K     |██████████▊                     | 419kB 12.5MB/s eta 0:00:01\r\u001b[K     |███████████                     | 430kB 12.5MB/s eta 0:00:01\r\u001b[K     |███████████▏                    | 440kB 12.5MB/s eta 0:00:01\r\u001b[K     |███████████▌                    | 450kB 12.5MB/s eta 0:00:01\r\u001b[K     |███████████▊                    | 460kB 12.5MB/s eta 0:00:01\r\u001b[K     |████████████                    | 471kB 12.5MB/s eta 0:00:01\r\u001b[K     |████████████▎                   | 481kB 12.5MB/s eta 0:00:01\r\u001b[K     |████████████▌                   | 491kB 12.5MB/s eta 0:00:01\r\u001b[K     |████████████▊                   | 501kB 12.5MB/s eta 0:00:01\r\u001b[K     |█████████████                   | 512kB 12.5MB/s eta 0:00:01\r\u001b[K     |█████████████▎                  | 522kB 12.5MB/s eta 0:00:01\r\u001b[K     |█████████████▌                  | 532kB 12.5MB/s eta 0:00:01\r\u001b[K     |█████████████▉                  | 542kB 12.5MB/s eta 0:00:01\r\u001b[K     |██████████████                  | 552kB 12.5MB/s eta 0:00:01\r\u001b[K     |██████████████▍                 | 563kB 12.5MB/s eta 0:00:01\r\u001b[K     |██████████████▋                 | 573kB 12.5MB/s eta 0:00:01\r\u001b[K     |██████████████▉                 | 583kB 12.5MB/s eta 0:00:01\r\u001b[K     |███████████████▏                | 593kB 12.5MB/s eta 0:00:01\r\u001b[K     |███████████████▍                | 604kB 12.5MB/s eta 0:00:01\r\u001b[K     |███████████████▋                | 614kB 12.5MB/s eta 0:00:01\r\u001b[K     |████████████████                | 624kB 12.5MB/s eta 0:00:01\r\u001b[K     |████████████████▏               | 634kB 12.5MB/s eta 0:00:01\r\u001b[K     |████████████████▍               | 645kB 12.5MB/s eta 0:00:01\r\u001b[K     |████████████████▊               | 655kB 12.5MB/s eta 0:00:01\r\u001b[K     |█████████████████               | 665kB 12.5MB/s eta 0:00:01\r\u001b[K     |█████████████████▏              | 675kB 12.5MB/s eta 0:00:01\r\u001b[K     |█████████████████▌              | 686kB 12.5MB/s eta 0:00:01\r\u001b[K     |█████████████████▊              | 696kB 12.5MB/s eta 0:00:01\r\u001b[K     |██████████████████              | 706kB 12.5MB/s eta 0:00:01\r\u001b[K     |██████████████████▎             | 716kB 12.5MB/s eta 0:00:01\r\u001b[K     |██████████████████▌             | 727kB 12.5MB/s eta 0:00:01\r\u001b[K     |██████████████████▊             | 737kB 12.5MB/s eta 0:00:01\r\u001b[K     |███████████████████             | 747kB 12.5MB/s eta 0:00:01\r\u001b[K     |███████████████████▎            | 757kB 12.5MB/s eta 0:00:01\r\u001b[K     |███████████████████▌            | 768kB 12.5MB/s eta 0:00:01\r\u001b[K     |███████████████████▉            | 778kB 12.5MB/s eta 0:00:01\r\u001b[K     |████████████████████            | 788kB 12.5MB/s eta 0:00:01\r\u001b[K     |████████████████████▎           | 798kB 12.5MB/s eta 0:00:01\r\u001b[K     |████████████████████▋           | 808kB 12.5MB/s eta 0:00:01\r\u001b[K     |████████████████████▉           | 819kB 12.5MB/s eta 0:00:01\r\u001b[K     |█████████████████████           | 829kB 12.5MB/s eta 0:00:01\r\u001b[K     |█████████████████████▍          | 839kB 12.5MB/s eta 0:00:01\r\u001b[K     |█████████████████████▋          | 849kB 12.5MB/s eta 0:00:01\r\u001b[K     |██████████████████████          | 860kB 12.5MB/s eta 0:00:01\r\u001b[K     |██████████████████████▏         | 870kB 12.5MB/s eta 0:00:01\r\u001b[K     |██████████████████████▍         | 880kB 12.5MB/s eta 0:00:01\r\u001b[K     |██████████████████████▊         | 890kB 12.5MB/s eta 0:00:01\r\u001b[K     |███████████████████████         | 901kB 12.5MB/s eta 0:00:01\r\u001b[K     |███████████████████████▏        | 911kB 12.5MB/s eta 0:00:01\r\u001b[K     |███████████████████████▌        | 921kB 12.5MB/s eta 0:00:01\r\u001b[K     |███████████████████████▊        | 931kB 12.5MB/s eta 0:00:01\r\u001b[K     |████████████████████████        | 942kB 12.5MB/s eta 0:00:01\r\u001b[K     |████████████████████████▎       | 952kB 12.5MB/s eta 0:00:01\r\u001b[K     |████████████████████████▌       | 962kB 12.5MB/s eta 0:00:01\r\u001b[K     |████████████████████████▊       | 972kB 12.5MB/s eta 0:00:01\r\u001b[K     |█████████████████████████       | 983kB 12.5MB/s eta 0:00:01\r\u001b[K     |█████████████████████████▎      | 993kB 12.5MB/s eta 0:00:01\r\u001b[K     |█████████████████████████▌      | 1.0MB 12.5MB/s eta 0:00:01\r\u001b[K     |█████████████████████████▉      | 1.0MB 12.5MB/s eta 0:00:01\r\u001b[K     |██████████████████████████      | 1.0MB 12.5MB/s eta 0:00:01\r\u001b[K     |██████████████████████████▎     | 1.0MB 12.5MB/s eta 0:00:01\r\u001b[K     |██████████████████████████▋     | 1.0MB 12.5MB/s eta 0:00:01\r\u001b[K     |██████████████████████████▉     | 1.1MB 12.5MB/s eta 0:00:01\r\u001b[K     |███████████████████████████     | 1.1MB 12.5MB/s eta 0:00:01\r\u001b[K     |███████████████████████████▍    | 1.1MB 12.5MB/s eta 0:00:01\r\u001b[K     |███████████████████████████▋    | 1.1MB 12.5MB/s eta 0:00:01\r\u001b[K     |███████████████████████████▉    | 1.1MB 12.5MB/s eta 0:00:01\r\u001b[K     |████████████████████████████▏   | 1.1MB 12.5MB/s eta 0:00:01\r\u001b[K     |████████████████████████████▍   | 1.1MB 12.5MB/s eta 0:00:01\r\u001b[K     |████████████████████████████▊   | 1.1MB 12.5MB/s eta 0:00:01\r\u001b[K     |█████████████████████████████   | 1.1MB 12.5MB/s eta 0:00:01\r\u001b[K     |█████████████████████████████▏  | 1.1MB 12.5MB/s eta 0:00:01\r\u001b[K     |█████████████████████████████▌  | 1.2MB 12.5MB/s eta 0:00:01\r\u001b[K     |█████████████████████████████▊  | 1.2MB 12.5MB/s eta 0:00:01\r\u001b[K     |██████████████████████████████  | 1.2MB 12.5MB/s eta 0:00:01\r\u001b[K     |██████████████████████████████▎ | 1.2MB 12.5MB/s eta 0:00:01\r\u001b[K     |██████████████████████████████▌ | 1.2MB 12.5MB/s eta 0:00:01\r\u001b[K     |██████████████████████████████▊ | 1.2MB 12.5MB/s eta 0:00:01\r\u001b[K     |███████████████████████████████ | 1.2MB 12.5MB/s eta 0:00:01\r\u001b[K     |███████████████████████████████▎| 1.2MB 12.5MB/s eta 0:00:01\r\u001b[K     |███████████████████████████████▌| 1.2MB 12.5MB/s eta 0:00:01\r\u001b[K     |███████████████████████████████▉| 1.2MB 12.5MB/s eta 0:00:01\r\u001b[K     |████████████████████████████████| 1.3MB 12.5MB/s \n",
            "\u001b[?25hRequirement already satisfied: protobuf in /usr/local/lib/python3.6/dist-packages (from transformers) (3.12.4)\n",
            "Requirement already satisfied: tqdm>=4.27 in /usr/local/lib/python3.6/dist-packages (from transformers) (4.41.1)\n",
            "Requirement already satisfied: regex!=2019.12.17 in /usr/local/lib/python3.6/dist-packages (from transformers) (2019.12.20)\n",
            "Collecting tokenizers==0.9.2\n",
            "\u001b[?25l  Downloading https://files.pythonhosted.org/packages/7c/a5/78be1a55b2ac8d6a956f0a211d372726e2b1dd2666bb537fea9b03abd62c/tokenizers-0.9.2-cp36-cp36m-manylinux1_x86_64.whl (2.9MB)\n",
            "\u001b[K     |████████████████████████████████| 2.9MB 55.3MB/s \n",
            "\u001b[?25hRequirement already satisfied: dataclasses; python_version < \"3.7\" in /usr/local/lib/python3.6/dist-packages (from transformers) (0.7)\n",
            "Requirement already satisfied: filelock in /usr/local/lib/python3.6/dist-packages (from transformers) (3.0.12)\n",
            "Requirement already satisfied: packaging in /usr/local/lib/python3.6/dist-packages (from transformers) (20.4)\n",
            "Requirement already satisfied: numpy in /usr/local/lib/python3.6/dist-packages (from transformers) (1.18.5)\n",
            "Requirement already satisfied: requests in /usr/local/lib/python3.6/dist-packages (from transformers) (2.23.0)\n",
            "Collecting sacremoses\n",
            "\u001b[?25l  Downloading https://files.pythonhosted.org/packages/7d/34/09d19aff26edcc8eb2a01bed8e98f13a1537005d31e95233fd48216eed10/sacremoses-0.0.43.tar.gz (883kB)\n",
            "\u001b[K     |████████████████████████████████| 890kB 50.4MB/s \n",
            "\u001b[?25hCollecting sentencepiece!=0.1.92\n",
            "\u001b[?25l  Downloading https://files.pythonhosted.org/packages/d4/a4/d0a884c4300004a78cca907a6ff9a5e9fe4f090f5d95ab341c53d28cbc58/sentencepiece-0.1.91-cp36-cp36m-manylinux1_x86_64.whl (1.1MB)\n",
            "\u001b[K     |████████████████████████████████| 1.1MB 49.6MB/s \n",
            "\u001b[?25hRequirement already satisfied: setuptools in /usr/local/lib/python3.6/dist-packages (from protobuf->transformers) (50.3.0)\n",
            "Requirement already satisfied: six>=1.9 in /usr/local/lib/python3.6/dist-packages (from protobuf->transformers) (1.15.0)\n",
            "Requirement already satisfied: pyparsing>=2.0.2 in /usr/local/lib/python3.6/dist-packages (from packaging->transformers) (2.4.7)\n",
            "Requirement already satisfied: chardet<4,>=3.0.2 in /usr/local/lib/python3.6/dist-packages (from requests->transformers) (3.0.4)\n",
            "Requirement already satisfied: urllib3!=1.25.0,!=1.25.1,<1.26,>=1.21.1 in /usr/local/lib/python3.6/dist-packages (from requests->transformers) (1.24.3)\n",
            "Requirement already satisfied: idna<3,>=2.5 in /usr/local/lib/python3.6/dist-packages (from requests->transformers) (2.10)\n",
            "Requirement already satisfied: certifi>=2017.4.17 in /usr/local/lib/python3.6/dist-packages (from requests->transformers) (2020.6.20)\n",
            "Requirement already satisfied: click in /usr/local/lib/python3.6/dist-packages (from sacremoses->transformers) (7.1.2)\n",
            "Requirement already satisfied: joblib in /usr/local/lib/python3.6/dist-packages (from sacremoses->transformers) (0.16.0)\n",
            "Building wheels for collected packages: sacremoses\n",
            "  Building wheel for sacremoses (setup.py) ... \u001b[?25l\u001b[?25hdone\n",
            "  Created wheel for sacremoses: filename=sacremoses-0.0.43-cp36-none-any.whl size=893257 sha256=8ee079f5bd5168c544fea30bba3b8d535d8504258e6071ccb2273cf760f5c365\n",
            "  Stored in directory: /root/.cache/pip/wheels/29/3c/fd/7ce5c3f0666dab31a50123635e6fb5e19ceb42ce38d4e58f45\n",
            "Successfully built sacremoses\n",
            "Installing collected packages: tokenizers, sacremoses, sentencepiece, transformers\n",
            "Successfully installed sacremoses-0.0.43 sentencepiece-0.1.91 tokenizers-0.9.2 transformers-3.4.0\n"
          ],
          "name": "stdout"
        }
      ]
    },
    {
      "cell_type": "markdown",
      "metadata": {
        "id": "Dannu15yD_tu"
      },
      "source": [
        "## 1.2. Helper Functions"
      ]
    },
    {
      "cell_type": "markdown",
      "metadata": {
        "id": "nszM7hA_IoKP"
      },
      "source": [
        "In many of my (long-running) for-loops I'll print periodic progress updates. Typically I pick the update interval manually, but for this Notebook I've defined a helper function to make that choice for me :)"
      ]
    },
    {
      "cell_type": "code",
      "metadata": {
        "id": "iTrHp0_FgOSg"
      },
      "source": [
        "def good_update_interval(total_iters, num_desired_updates):\n",
        "    '''\n",
        "    This function will try to pick an intelligent progress update interval \n",
        "    based on the magnitude of the total iterations.\n",
        "\n",
        "    Parameters:\n",
        "      `total_iters` - The number of iterations in the for-loop.\n",
        "      `num_desired_updates` - How many times we want to see an update over the \n",
        "                              course of the for-loop.\n",
        "    '''\n",
        "    # Divide the total iterations by the desired number of updates. Most likely\n",
        "    # this will be some ugly number.\n",
        "    exact_interval = total_iters / num_desired_updates\n",
        "\n",
        "    # The `round` function has the ability to round down a number to, e.g., the\n",
        "    # nearest thousandth: round(exact_interval, -3)\n",
        "    #\n",
        "    # To determine the magnitude to round to, find the magnitude of the total,\n",
        "    # and then go one magnitude below that.\n",
        "\n",
        "    # Get the order of magnitude of the total.\n",
        "    order_of_mag = len(str(total_iters)) - 1\n",
        "\n",
        "    # Our update interval should be rounded to an order of magnitude smaller. \n",
        "    round_mag = order_of_mag - 1\n",
        "\n",
        "    # Round down and cast to an int.\n",
        "    update_interval = int(round(exact_interval, -round_mag))\n",
        "\n",
        "    # Don't allow the interval to be zero!\n",
        "    if update_interval == 0:\n",
        "        update_interval = 1\n",
        "\n",
        "    return update_interval"
      ],
      "execution_count": 2,
      "outputs": []
    },
    {
      "cell_type": "markdown",
      "metadata": {
        "id": "KNhRtWPXH9C3"
      },
      "source": [
        "Helper function for formatting elapsed times as `hh:mm:ss`\n"
      ]
    },
    {
      "cell_type": "code",
      "metadata": {
        "id": "gpt6tR83keZD"
      },
      "source": [
        "import time\n",
        "import datetime\n",
        "\n",
        "def format_time(elapsed):\n",
        "    '''\n",
        "    Takes a time in seconds and returns a string hh:mm:ss\n",
        "    '''\n",
        "    # Round to the nearest second.\n",
        "    elapsed_rounded = int(round((elapsed)))\n",
        "    \n",
        "    # Format as hh:mm:ss\n",
        "    return str(datetime.timedelta(seconds=elapsed_rounded))\n"
      ],
      "execution_count": 3,
      "outputs": []
    },
    {
      "cell_type": "markdown",
      "metadata": {
        "id": "h3dCqjK_9v4q"
      },
      "source": [
        "# S2. Retrieve Dataset"
      ]
    },
    {
      "cell_type": "markdown",
      "metadata": {
        "id": "Cairkv4V7_IE"
      },
      "source": [
        "## 2.1. Download Dataset Files"
      ]
    },
    {
      "cell_type": "markdown",
      "metadata": {
        "id": "UfYIRFDca_lx"
      },
      "source": [
        "I'm sure there are many ways to retrieve this dataset--I'm using the TensorFlow Datasets library here as one easy way to do it.\n",
        "\n",
        "Documentation is here: https://www.tensorflow.org/datasets/catalog/imdb_reviews\n",
        "\n"
      ]
    },
    {
      "cell_type": "code",
      "metadata": {
        "id": "gx3aeVLJBuKC",
        "outputId": "3658a671-6521-4b48-9c69-cc190c3a7336",
        "colab": {
          "base_uri": "https://localhost:8080/",
          "height": 350,
          "referenced_widgets": [
            "5af1eda78c904b93a0342e58eaf552cb",
            "3e651098e5b04f6da5edd4411dbe59ec",
            "03cb78aa83224601bfc10ac4b44552c9",
            "49d54ece645e4c29a5d6927c9829934f",
            "22586ba50c71419a8686db5d8499523d",
            "cfc08e27d9a44007a9603fb11bf1bfc8",
            "8a684da4c74346c4b969128bde4592e1",
            "5311c2f7e2ca4074bd811cc026bf1eda",
            "de820eded5c64c4aa382cc4bfc221eb9",
            "937aa44afb5147a99e812e3551b6f84b",
            "6f55cfcfe7444e50acbd1152263d425e",
            "2b51e51495724a9d89f69784c882fda2",
            "772bd53a9ac942d8b4e5a34da276baa2",
            "69e2858ca0b24a5780eebc1717bce2df",
            "7fa8d98373d748cc98ba95693ccb3134",
            "f7602b3eb4004a558369dd9f13bdc379",
            "aaf3861714ab4e19b4f530f957136a82",
            "f3cfa6549e4a4dae8dea901e641bd32d",
            "6b627d36f9e14d54b481b4ca0f5694a9",
            "18584ce2558c4ebbb1609b20e49781a4",
            "3fca55b602334d30b0df60d4c2539adb",
            "afad49856d1a4c759d11e0a4956d673d",
            "adcb98b63b514aeab9f755e6894bb06f",
            "adadc275844d464e9665382d5d855408",
            "8af6333a8c364594b8c4c36c300294f2",
            "e233a57340df4f5098e45eaffd5b1234",
            "71b0ca12ac3b4f79ab188dc79eadf729",
            "37b3a71d657e4c77893d5a26f5af0c97",
            "403a25d6e80f403b94dd9090113f42cc",
            "c33e2254968d40818f780f0fc875cd41",
            "00aad801eb264efe8f767ba51d923c4d",
            "a38633d5e67448aba41653bd8cfc7375",
            "18430db2d1224215ae0c9a6782dde3e8",
            "165f63a0ef684cd7bf790982e0d6e237",
            "c58dbc266bed4ec4808bbd18ef94d32c",
            "124caa56e8414b768014e34f0704ad66",
            "268471ab13984483ac3b276d63aa76ef",
            "7e3f8db9579c4490bdfd787669281441",
            "771955c50d714935a61e4667ee9dd582",
            "7d4272b7cdbb41d6ab8c93a412cae2eb",
            "62fcf0d92c414fac920ce444323f28ec",
            "a5bba958e3464f25ae7ca9fd753b8370",
            "3397331a89f04e9e8f7abc59d2a9d785",
            "fd6be24892c34625a2d4893cfb9f7477",
            "2ce624d64a0a4d1bbe79228500342eb3",
            "ecdb2db71821490891d06952e2b6153a",
            "83e9265dc5c14338bce0d1acb50c98fb",
            "c4fec3ff160c4ed5ac0ec55150ce1ea1",
            "507da47a986f45989142bc1580a20d75",
            "0d67ccd4719e400085ae4dc5d5bedf33",
            "55bb23ba52114f4f9c5d20a4f14468e5",
            "aba8a077218f4977957570d066f4224c",
            "6ff6f3243ff4446082ea875ff84ff748",
            "f5c363f683424dbea15f2b13b59a354e",
            "e57c690defad4b069dc61ad41d57d00e",
            "3f8199ff93664bd4b43dd0fc3d58df10",
            "54a5717326bd4f1d8b2f7c5be71d7eeb",
            "d1ef90665ccc4b3199990f76299426de",
            "45acb7a08e9f494099113907219984cc",
            "db701652b8ab4a4eb3c529757a84c02c",
            "07943e7a843f40ca8daa24b7f3706671",
            "9e28e509ced144e9b18c24e1c56f7c9d",
            "cac99033a31142cb9f79f3b18af99b65",
            "d05d02451af9417c9770dbfa8180e2bf"
          ]
        }
      },
      "source": [
        "import tensorflow_datasets as tfds\n",
        "\n",
        "# Download the train and test portions of the dataset.\n",
        "train_data = tfds.load(name=\"imdb_reviews/plain_text\", split=\"train\")\n",
        "test_data = tfds.load(name=\"imdb_reviews/plain_text\", split=\"test\")\n"
      ],
      "execution_count": 4,
      "outputs": [
        {
          "output_type": "stream",
          "text": [
            "\u001b[1mDownloading and preparing dataset imdb_reviews/plain_text/1.0.0 (download: 80.23 MiB, generated: Unknown size, total: 80.23 MiB) to /root/tensorflow_datasets/imdb_reviews/plain_text/1.0.0...\u001b[0m\n"
          ],
          "name": "stdout"
        },
        {
          "output_type": "display_data",
          "data": {
            "application/vnd.jupyter.widget-view+json": {
              "model_id": "5af1eda78c904b93a0342e58eaf552cb",
              "version_minor": 0,
              "version_major": 2
            },
            "text/plain": [
              "HBox(children=(FloatProgress(value=1.0, bar_style='info', description='Dl Completed...', max=1.0, style=Progre…"
            ]
          },
          "metadata": {
            "tags": []
          }
        },
        {
          "output_type": "display_data",
          "data": {
            "application/vnd.jupyter.widget-view+json": {
              "model_id": "de820eded5c64c4aa382cc4bfc221eb9",
              "version_minor": 0,
              "version_major": 2
            },
            "text/plain": [
              "HBox(children=(FloatProgress(value=1.0, bar_style='info', description='Dl Size...', max=1.0, style=ProgressSty…"
            ]
          },
          "metadata": {
            "tags": []
          }
        },
        {
          "output_type": "stream",
          "text": [
            "\n",
            "\n",
            "\n",
            "\n"
          ],
          "name": "stdout"
        },
        {
          "output_type": "display_data",
          "data": {
            "application/vnd.jupyter.widget-view+json": {
              "model_id": "aaf3861714ab4e19b4f530f957136a82",
              "version_minor": 0,
              "version_major": 2
            },
            "text/plain": [
              "HBox(children=(FloatProgress(value=1.0, bar_style='info', max=1.0), HTML(value='')))"
            ]
          },
          "metadata": {
            "tags": []
          }
        },
        {
          "output_type": "stream",
          "text": [
            "\rShuffling and writing examples to /root/tensorflow_datasets/imdb_reviews/plain_text/1.0.0.incompleteY4ESJI/imdb_reviews-train.tfrecord\n"
          ],
          "name": "stdout"
        },
        {
          "output_type": "display_data",
          "data": {
            "application/vnd.jupyter.widget-view+json": {
              "model_id": "8af6333a8c364594b8c4c36c300294f2",
              "version_minor": 0,
              "version_major": 2
            },
            "text/plain": [
              "HBox(children=(FloatProgress(value=0.0, max=25000.0), HTML(value='')))"
            ]
          },
          "metadata": {
            "tags": []
          }
        },
        {
          "output_type": "stream",
          "text": [
            "\r"
          ],
          "name": "stdout"
        },
        {
          "output_type": "display_data",
          "data": {
            "application/vnd.jupyter.widget-view+json": {
              "model_id": "18430db2d1224215ae0c9a6782dde3e8",
              "version_minor": 0,
              "version_major": 2
            },
            "text/plain": [
              "HBox(children=(FloatProgress(value=1.0, bar_style='info', max=1.0), HTML(value='')))"
            ]
          },
          "metadata": {
            "tags": []
          }
        },
        {
          "output_type": "stream",
          "text": [
            "\rShuffling and writing examples to /root/tensorflow_datasets/imdb_reviews/plain_text/1.0.0.incompleteY4ESJI/imdb_reviews-test.tfrecord\n"
          ],
          "name": "stdout"
        },
        {
          "output_type": "display_data",
          "data": {
            "application/vnd.jupyter.widget-view+json": {
              "model_id": "62fcf0d92c414fac920ce444323f28ec",
              "version_minor": 0,
              "version_major": 2
            },
            "text/plain": [
              "HBox(children=(FloatProgress(value=0.0, max=25000.0), HTML(value='')))"
            ]
          },
          "metadata": {
            "tags": []
          }
        },
        {
          "output_type": "stream",
          "text": [
            "\r"
          ],
          "name": "stdout"
        },
        {
          "output_type": "display_data",
          "data": {
            "application/vnd.jupyter.widget-view+json": {
              "model_id": "507da47a986f45989142bc1580a20d75",
              "version_minor": 0,
              "version_major": 2
            },
            "text/plain": [
              "HBox(children=(FloatProgress(value=1.0, bar_style='info', max=1.0), HTML(value='')))"
            ]
          },
          "metadata": {
            "tags": []
          }
        },
        {
          "output_type": "stream",
          "text": [
            "\rShuffling and writing examples to /root/tensorflow_datasets/imdb_reviews/plain_text/1.0.0.incompleteY4ESJI/imdb_reviews-unsupervised.tfrecord\n"
          ],
          "name": "stdout"
        },
        {
          "output_type": "display_data",
          "data": {
            "application/vnd.jupyter.widget-view+json": {
              "model_id": "54a5717326bd4f1d8b2f7c5be71d7eeb",
              "version_minor": 0,
              "version_major": 2
            },
            "text/plain": [
              "HBox(children=(FloatProgress(value=0.0, max=50000.0), HTML(value='')))"
            ]
          },
          "metadata": {
            "tags": []
          }
        },
        {
          "output_type": "stream",
          "text": [
            "\u001b[1mDataset imdb_reviews downloaded and prepared to /root/tensorflow_datasets/imdb_reviews/plain_text/1.0.0. Subsequent calls will reuse this data.\u001b[0m\n",
            "\r"
          ],
          "name": "stdout"
        }
      ]
    },
    {
      "cell_type": "markdown",
      "metadata": {
        "id": "Tg9rRznq42f8"
      },
      "source": [
        "Let's examine the contents and datatypes contained in the dataset. \n",
        "\n",
        "Each sample has a `label` and `text` field."
      ]
    },
    {
      "cell_type": "code",
      "metadata": {
        "id": "bmCWwPyaBuBW",
        "outputId": "84e9c777-5aea-4450-a9cd-4b057685f7c7",
        "colab": {
          "base_uri": "https://localhost:8080/",
          "height": 34
        }
      },
      "source": [
        "train_data"
      ],
      "execution_count": 5,
      "outputs": [
        {
          "output_type": "execute_result",
          "data": {
            "text/plain": [
              "<DatasetV1Adapter shapes: {label: (), text: ()}, types: {label: tf.int64, text: tf.string}>"
            ]
          },
          "metadata": {
            "tags": []
          },
          "execution_count": 5
        }
      ]
    },
    {
      "cell_type": "markdown",
      "metadata": {
        "id": "itjbAgmxEp-F"
      },
      "source": [
        "Let's pull the data out of TensorFlow's icy grip, so we just have plain Python types :)"
      ]
    },
    {
      "cell_type": "code",
      "metadata": {
        "id": "hQ2_hJjzDYur",
        "outputId": "92617c18-db77-4643-bef1-09a77fc38c3b",
        "colab": {
          "base_uri": "https://localhost:8080/",
          "height": 68
        }
      },
      "source": [
        "import numpy as np\n",
        "\n",
        "train_text = []\n",
        "train_labels = []\n",
        "\n",
        "# Loop over the training set...\n",
        "for ex in train_data.as_numpy_iterator():\n",
        "\n",
        "    # The text is a `bytes` object, decode to string.\n",
        "    train_text.append(ex['text'].decode())\n",
        "\n",
        "    # Cast the label from `np.int64` to `int`\n",
        "    train_labels.append(int(ex['label']))\n",
        "\n",
        "test_text = []\n",
        "test_labels = []\n",
        "\n",
        "# Loop over the test set...\n",
        "for ex in test_data.as_numpy_iterator():\n",
        "\n",
        "    # The text is a `bytes` object, decode to string.\n",
        "    test_text.append(ex['text'].decode())\n",
        "\n",
        "    # Cast the label from `np.int64` to `int`\n",
        "    test_labels.append(int(ex['label']))\n",
        "\n",
        "# Print some stats.\n",
        "print('{:,} Training Samples'.format(len(train_labels)))\n",
        "print('{:,} Test Samples'.format(len(test_labels)))\n",
        "print('Labels:', np.unique(train_labels))"
      ],
      "execution_count": 6,
      "outputs": [
        {
          "output_type": "stream",
          "text": [
            "25,000 Training Samples\n",
            "25,000 Test Samples\n",
            "Labels: [0 1]\n"
          ],
          "name": "stdout"
        }
      ]
    },
    {
      "cell_type": "markdown",
      "metadata": {
        "id": "gObslUje8oNy"
      },
      "source": [
        "# S3. Inspect Dataset"
      ]
    },
    {
      "cell_type": "markdown",
      "metadata": {
        "id": "M1q6B_N7crzA"
      },
      "source": [
        "## 3.1. Inspect Training Samples"
      ]
    },
    {
      "cell_type": "markdown",
      "metadata": {
        "id": "4ICugTyee8h-"
      },
      "source": [
        "Lets print out a handful of samples at random."
      ]
    },
    {
      "cell_type": "code",
      "metadata": {
        "id": "Njp6-5b5NwiE",
        "outputId": "40c4bd5b-56bb-4f37-a0f6-ab9543ecc846",
        "colab": {
          "base_uri": "https://localhost:8080/",
          "height": 816
        }
      },
      "source": [
        "import textwrap\n",
        "import random\n",
        "\n",
        "# Wrap text to 80 characters.\n",
        "wrapper = textwrap.TextWrapper(width=80) \n",
        "\n",
        "# Randomly choose some examples.\n",
        "for i in range(3):\n",
        "    \n",
        "    # Choose a random sample by index.\n",
        "    j = random.choice(range(len(train_text)))\n",
        "    \n",
        "    # Print out the label and the text. \n",
        "    print('==== Label: {:} ===='.format(train_labels[j]))\n",
        "    print(wrapper.fill(train_text[j]))\n",
        "    print('')\n"
      ],
      "execution_count": 7,
      "outputs": [
        {
          "output_type": "stream",
          "text": [
            "==== Label: 0 ====\n",
            "Three tales are told in this film, that seemed to have been shot without\n",
            "knowledge of this being a combined vignette film. The makers relate the three\n",
            "vignettes by having them all connected to shrink Martin Kove, although you never\n",
            "see some of the leads with Kove.<br /><br />The first vignette has sexy Vivian\n",
            "Schilling, a woman afraid of everything under the sun(she makes Adrian Monk look\n",
            "brave), having a paranoia laced evening at home alone. You will literally scream\n",
            "at Vivian for doing some ridiculous things. She spends the majority of her time\n",
            "in a nighty which shows off her amazing features. But her film is the worst if\n",
            "not the most nail-biting.<br /><br />The second vignette is owned by Bill Paxton\n",
            "as he portrays the roommate from Hell. His geeky roommate allows him to take\n",
            "complete advantage of him, and Bill does so whenever he can.<br /><br />The last\n",
            "vignette was funny as a man fears that death will take him at any moment, much\n",
            "like his pal who choked to death on an olive.<br /><br />Not very interesting,\n",
            "as the movie as a whole seems chopped together with very little thought\n",
            "involved. A must for Bill Paxton fans.\n",
            "\n",
            "==== Label: 1 ====\n",
            "Liam Neeson portrays the Scottish legend Robert Roy Macgregor from the early\n",
            "18th century. He is a true actor. He captivates the audience with his charisma\n",
            "as he does in all his roles. Jessica Lange is excellent as his wife Mary. Mary\n",
            "is such a beautiful woman. It's her love that makes Rob Roy the legend, but it's\n",
            "his passion that makes her love undying. They need each other. Tim Roth as the\n",
            "evil Cunningham is perfect; in one way or another, upon watching the movie, you\n",
            "will find Cunningham disgusting. The Scotland scenery is beautiful. The\n",
            "environment and conditions of the times are depicted quite well. If you like\n",
            "history, romance, passion and love, you'll enjoy Rob Roy. There is violence and\n",
            "blood, but it's unavoidable in telling this story as it should be told; no\n",
            "gratuitous violence. And you do have to listen carefully if you're not used to a\n",
            "Scottish accent. One important point that makes this movie so good is that no\n",
            "one actor or actress is glamorized; they get dirty and actually look\n",
            "unattractive in various scenes. It's their skill as actors that attracts you,\n",
            "they don't rely on marquee names, popularity or sex symbol appeal. This is\n",
            "something special.\n",
            "\n",
            "==== Label: 0 ====\n",
            "five minutes after watching this i logged on to IMDb to warn all of you out\n",
            "there not to bother with this movie... genre:horror? it had moments of mild\n",
            "suspense and throughout the whole movie i was thinking to myself \"somethings\n",
            "gotta happen soon\" it did not...when the movie ended i felt so embarrassed for\n",
            "the writer/director i've never been the biggest fan of patrick rea this guy just\n",
            "does not know how to make movies and after watching this sorry excuse of a\n",
            "horror flick i've gone from not been the biggest fan to will not watch another\n",
            "of his works..<br /><br />i was taken in by the plot summary please don't make\n",
            "the same mistake.<br /><br />i gave this movie a 2 for the actors..they were not\n",
            "bad and it wasn't there fault they got such bad direction...\n",
            "\n"
          ],
          "name": "stdout"
        }
      ]
    },
    {
      "cell_type": "markdown",
      "metadata": {
        "id": "hDfRG57sfEjX"
      },
      "source": [
        "Let's also check out the classes and their balance."
      ]
    },
    {
      "cell_type": "code",
      "metadata": {
        "id": "fcBinIxWLjer",
        "outputId": "0e16922f-9415-4f87-e861-ec9e4c2c692d",
        "colab": {
          "base_uri": "https://localhost:8080/",
          "height": 426
        }
      },
      "source": [
        "import matplotlib.pyplot as plt\n",
        "import seaborn as sns\n",
        "import numpy as np\n",
        "\n",
        "sns.set(style='darkgrid')\n",
        "\n",
        "# Increase the plot size and font size.\n",
        "sns.set(font_scale=1.5)\n",
        "plt.rcParams[\"figure.figsize\"] = (10,5)\n",
        "\n",
        "# Plot the number of tokens of each length.\n",
        "ax = sns.countplot(train_labels)\n",
        "\n",
        "# Add labels\n",
        "plt.title('Class Distribution')\n",
        "plt.xlabel('Category')\n",
        "plt.ylabel('# of Training Samples')\n",
        "\n",
        "# Add thousands separators to the y-axis labels.\n",
        "import matplotlib as mpl\n",
        "ax.yaxis.set_major_formatter(mpl.ticker.StrMethodFormatter('{x:,.0f}'))\n",
        "\n",
        "plt.show()"
      ],
      "execution_count": 8,
      "outputs": [
        {
          "output_type": "stream",
          "text": [
            "/usr/local/lib/python3.6/dist-packages/seaborn/_decorators.py:43: FutureWarning: Pass the following variable as a keyword arg: x. From version 0.12, the only valid positional argument will be `data`, and passing other arguments without an explicit keyword will result in an error or misinterpretation.\n",
            "  FutureWarning\n"
          ],
          "name": "stderr"
        },
        {
          "output_type": "display_data",
          "data": {
            "image/png": "[encoded data removed]",
            "text/plain": [
              "<Figure size 720x360 with 1 Axes>"
            ]
          },
          "metadata": {
            "tags": []
          }
        }
      ]
    },
    {
      "cell_type": "markdown",
      "metadata": {
        "id": "ydHIQ_yc9ifE"
      },
      "source": [
        "# S4. Smart Batching"
      ]
    },
    {
      "cell_type": "markdown",
      "metadata": {
        "id": "NHIEuC3TAOIh"
      },
      "source": [
        "In this section, we will prepare our training set into these smart batches.\n",
        "\n",
        "We'll do it in Notebook style, with a mix of code and text cells so we can inspect and discuss things as we go. \n",
        "\n",
        "Note, though, that I've also defined a `make_smart_batches` function towards the end which performs all of these steps. We'll use that function to prepare the test set, and you could use that function in your own applications for both the training and test sets."
      ]
    },
    {
      "cell_type": "markdown",
      "metadata": {
        "id": "Vuahmt8IGHvG"
      },
      "source": [
        "## 4.1. Load Tokenizer"
      ]
    },
    {
      "cell_type": "markdown",
      "metadata": {
        "id": "Axa8wTWmGJeG"
      },
      "source": [
        "We'll use the uncased version of BERT-base. "
      ]
    },
    {
      "cell_type": "code",
      "metadata": {
        "id": "Z474sSC6oe7A",
        "outputId": "bded2d04-88e9-45e0-a6e9-abca61c2259b",
        "colab": {
          "base_uri": "https://localhost:8080/",
          "height": 83,
          "referenced_widgets": [
            "138f37eb778b4b4e802a42440a52d208",
            "abba36a19c6746e6a526ab97eaad4304",
            "cd1cf23477ee4e72b9907768374e0143",
            "f9200745fc3745bfabc11e18b114c6a8",
            "90c52859cc28413e84d96573ffe0a95e",
            "a36d5cd5dda24e7ebb9af239ece210b5",
            "406343e159d14de09d8c0fe209656ca8",
            "ea3cbe19c6b64d3d869c9a707ff29d4b"
          ]
        }
      },
      "source": [
        "from transformers import BertTokenizer\n",
        "\n",
        "# Load the BERT tokenizer.\n",
        "print('Loading BERT tokenizer...')\n",
        "tokenizer = BertTokenizer.from_pretrained('bert-base-uncased', do_lower_case=True)"
      ],
      "execution_count": 9,
      "outputs": [
        {
          "output_type": "stream",
          "text": [
            "Loading BERT tokenizer...\n"
          ],
          "name": "stdout"
        },
        {
          "output_type": "display_data",
          "data": {
            "application/vnd.jupyter.widget-view+json": {
              "model_id": "138f37eb778b4b4e802a42440a52d208",
              "version_minor": 0,
              "version_major": 2
            },
            "text/plain": [
              "HBox(children=(FloatProgress(value=0.0, description='Downloading', max=231508.0, style=ProgressStyle(descripti…"
            ]
          },
          "metadata": {
            "tags": []
          }
        },
        {
          "output_type": "stream",
          "text": [
            "\n"
          ],
          "name": "stdout"
        }
      ]
    },
    {
      "cell_type": "markdown",
      "metadata": {
        "id": "x2Wvtz56l1TR"
      },
      "source": [
        "## 4.2. Tokenize Without Padding"
      ]
    },
    {
      "cell_type": "markdown",
      "metadata": {
        "id": "qmLSEI1d-jCd"
      },
      "source": [
        "**Peak GPU Memory Use**\n",
        "\n",
        "Even when applying smart batching, we may still want to truncate our inputs to a certain maximum length. BERT requires a lot of GPU memory, and it's quite possible for the GPU to not be able to process a batch with too many samples in it and / or too long of sequences. \n",
        "\n",
        "Smart batching means most of our batches will naturally have shorter sequence lengths and not require too much memory. However, all it takes is one batch  that's too long to fit on the GPU, and our training will fail! \n",
        "\n",
        "In other words, we still have to be concerned with our \"peak\" memory usage, and it still likely makes sense to truncate to something lower than 512, even with smart batching."
      ]
    },
    {
      "cell_type": "code",
      "metadata": {
        "id": "ngo68TDgJtoJ"
      },
      "source": [
        "max_len = 400"
      ],
      "execution_count": 10,
      "outputs": []
    },
    {
      "cell_type": "markdown",
      "metadata": {
        "id": "E4Lr7ziRl3Uh"
      },
      "source": [
        "**Tokenize, but don't pad**\n",
        "\n",
        "We're going to start by tokenizing all of the samples and mapping the tokens to their IDs. \n",
        "\n",
        "We're also going to truncate the sequences to our chosen `max_len`, and we're going to add the special tokens.\n",
        "\n",
        "But we are **not padding** yet! We don't know what lengths to pad the sequences too until after we've grouped them into batches.\n",
        "\n"
      ]
    },
    {
      "cell_type": "code",
      "metadata": {
        "id": "unZgL-2VmQFb",
        "outputId": "efbf7beb-4b0e-402c-97e9-82334f1037dc",
        "colab": {
          "base_uri": "https://localhost:8080/",
          "height": 289
        }
      },
      "source": [
        "full_input_ids = []\n",
        "labels = []\n",
        "\n",
        "# Tokenize all training examples\n",
        "print('Tokenizing {:,} training samples...'.format(len(train_text)))\n",
        "\n",
        "# Choose an interval on which to print progress updates.\n",
        "update_interval = good_update_interval(total_iters=len(train_text), num_desired_updates=10)\n",
        "\n",
        "# For each training example...\n",
        "for text in train_text:\n",
        "    \n",
        "    # Report progress.\n",
        "    if ((len(full_input_ids) % update_interval) == 0):\n",
        "        print('  Tokenized {:,} samples.'.format(len(full_input_ids)))\n",
        "\n",
        "    # Tokenize the sentence.\n",
        "    input_ids = tokenizer.encode(text=text,           # Movie review text\n",
        "                                 add_special_tokens=True, # Do add specials.\n",
        "                                 max_length=max_len,  # Do truncate to `max_len`\n",
        "                                 truncation=True,     # Do truncate!\n",
        "                                 padding=False)       # Don't pad!\n",
        "                                 \n",
        "    # Add the tokenized result to our list.\n",
        "    full_input_ids.append(input_ids)\n",
        "    \n",
        "print('DONE.')\n",
        "print('{:>10,} samples'.format(len(full_input_ids)))"
      ],
      "execution_count": 11,
      "outputs": [
        {
          "output_type": "stream",
          "text": [
            "Tokenizing 25,000 training samples...\n",
            "  Tokenized 0 samples.\n",
            "  Tokenized 2,000 samples.\n",
            "  Tokenized 4,000 samples.\n",
            "  Tokenized 6,000 samples.\n",
            "  Tokenized 8,000 samples.\n",
            "  Tokenized 10,000 samples.\n",
            "  Tokenized 12,000 samples.\n",
            "  Tokenized 14,000 samples.\n",
            "  Tokenized 16,000 samples.\n",
            "  Tokenized 18,000 samples.\n",
            "  Tokenized 20,000 samples.\n",
            "  Tokenized 22,000 samples.\n",
            "  Tokenized 24,000 samples.\n",
            "DONE.\n",
            "    25,000 samples\n"
          ],
          "name": "stdout"
        }
      ]
    },
    {
      "cell_type": "markdown",
      "metadata": {
        "id": "s-tcq0AUuUgn"
      },
      "source": [
        "## 4.3. Sort by length"
      ]
    },
    {
      "cell_type": "markdown",
      "metadata": {
        "id": "eFDWjne8_6UK"
      },
      "source": [
        "Before we sort the samples by length, let's look at the lengths of the samples in their original, unsorted order. \n",
        "\n",
        "The below plot simply confirms that the sample lengths do vary significantly, and that they are unsorted."
      ]
    },
    {
      "cell_type": "code",
      "metadata": {
        "id": "1BqIG9dYuCuf"
      },
      "source": [
        "# Get all of the lengths.\n",
        "unsorted_lengths = [len(x) for x in full_input_ids]"
      ],
      "execution_count": 12,
      "outputs": []
    },
    {
      "cell_type": "code",
      "metadata": {
        "id": "fXTVF5yNuGTH",
        "outputId": "bfce7143-4714-46d4-f5c6-a9764f5cf628",
        "colab": {
          "base_uri": "https://localhost:8080/",
          "height": 427
        }
      },
      "source": [
        "import matplotlib.pyplot as plt\n",
        "import seaborn as sns\n",
        "\n",
        "# Use plot styling from seaborn.\n",
        "sns.set(style='darkgrid')\n",
        "\n",
        "# Increase the plot size and font size.\n",
        "sns.set(font_scale=1.5)\n",
        "plt.rcParams[\"figure.figsize\"] = (12,6)\n",
        "\n",
        "plt.scatter(range(0, len(unsorted_lengths)), unsorted_lengths, marker=\"|\")\n",
        "\n",
        "plt.xlabel('Sample Number')\n",
        "plt.ylabel('Sequence Length')\n",
        "plt.title('Samples BEFORE Sorting')\n",
        "\n",
        "plt.show()"
      ],
      "execution_count": 13,
      "outputs": [
        {
          "output_type": "display_data",
          "data": {
            "image/png": "[encoded data removed]",
            "text/plain": [
              "<Figure size 864x432 with 1 Axes>"
            ]
          },
          "metadata": {
            "tags": []
          }
        }
      ]
    },
    {
      "cell_type": "markdown",
      "metadata": {
        "id": "YGsCajGWrs4v"
      },
      "source": [
        "Now we'll sort the examples by length so that we can create batches with equal (or at least similar) lengths.\n",
        "\n",
        "**NOTE:** One departure I've made from Michael's code is in how I sort. Michael sorted the samples by *strength length*, whereas my code is sorting them\n",
        "by their *number of tokens*. The two approaches are very similar of course, but I did confirm that they result in slightly different ordering of the samples."
      ]
    },
    {
      "cell_type": "code",
      "metadata": {
        "id": "wBesjNYe_pVB"
      },
      "source": [
        "# Sort the two lists together by the length of the input sequence.\n",
        "train_samples = sorted(zip(full_input_ids, train_labels), key=lambda x: len(x[0]))"
      ],
      "execution_count": 14,
      "outputs": []
    },
    {
      "cell_type": "markdown",
      "metadata": {
        "id": "jemdbaV_EHSm"
      },
      "source": [
        "`train_samples` is now a list of tuples of (input_ids, label):"
      ]
    },
    {
      "cell_type": "code",
      "metadata": {
        "id": "DwuwisoREQ0U",
        "outputId": "cc204a24-7199-4280-ef24-0e00dd8f52db",
        "colab": {
          "base_uri": "https://localhost:8080/",
          "height": 51
        }
      },
      "source": [
        "train_samples[0]"
      ],
      "execution_count": 15,
      "outputs": [
        {
          "output_type": "execute_result",
          "data": {
            "text/plain": [
              "([101, 2023, 3185, 2003, 6659, 2021, 2009, 2038, 2070, 2204, 3896, 1012, 102],\n",
              " 0)"
            ]
          },
          "metadata": {
            "tags": []
          },
          "execution_count": 15
        }
      ]
    },
    {
      "cell_type": "code",
      "metadata": {
        "id": "Hiemov-psBaf",
        "outputId": "39b24eba-b5a5-45cd-c5c5-4506bed983dd",
        "colab": {
          "base_uri": "https://localhost:8080/",
          "height": 51
        }
      },
      "source": [
        "print('Shortest sample:', len(train_samples[0][0]))\n",
        "print('Longest sample:', len(train_samples[-1][0]))"
      ],
      "execution_count": 16,
      "outputs": [
        {
          "output_type": "stream",
          "text": [
            "Shortest sample: 13\n",
            "Longest sample: 400\n"
          ],
          "name": "stdout"
        }
      ]
    },
    {
      "cell_type": "markdown",
      "metadata": {
        "id": "8s6xzcSEBDud"
      },
      "source": [
        "Let's generate the same plot again, now that the samples are sorted by length."
      ]
    },
    {
      "cell_type": "code",
      "metadata": {
        "id": "JxFVnp1YsRU3"
      },
      "source": [
        "# Get the new list of lengths after sorting.\n",
        "sorted_lengths = [len(s[0]) for s in train_samples]"
      ],
      "execution_count": 17,
      "outputs": []
    },
    {
      "cell_type": "code",
      "metadata": {
        "id": "sKWvR18VsbmK",
        "outputId": "736a7c93-c580-4c72-ffd3-e2258d5317bf",
        "colab": {
          "base_uri": "https://localhost:8080/",
          "height": 427
        }
      },
      "source": [
        "import matplotlib.pyplot as plt\n",
        "import seaborn as sns\n",
        "\n",
        "# Use plot styling from seaborn.\n",
        "sns.set(style='darkgrid')\n",
        "\n",
        "# Increase the plot size and font size.\n",
        "sns.set(font_scale=1.5)\n",
        "plt.rcParams[\"figure.figsize\"] = (12,6)\n",
        "\n",
        "plt.plot(range(0, len(sorted_lengths)), sorted_lengths)\n",
        "\n",
        "plt.xlabel('Sample Number')\n",
        "plt.ylabel('Sequence Length')\n",
        "plt.title('Samples after Sorting')\n",
        "\n",
        "plt.show()"
      ],
      "execution_count": 18,
      "outputs": [
        {
          "output_type": "display_data",
          "data": {
            "image/png": "[encoded data removed]",
            "text/plain": [
              "<Figure size 864x432 with 1 Axes>"
            ]
          },
          "metadata": {
            "tags": []
          }
        }
      ]
    },
    {
      "cell_type": "markdown",
      "metadata": {
        "id": "pm0GOKKcuZEl"
      },
      "source": [
        "## 4.4. Random Batch Selection"
      ]
    },
    {
      "cell_type": "markdown",
      "metadata": {
        "id": "rJ2SJre0w3mz"
      },
      "source": [
        "Choose our batch size."
      ]
    },
    {
      "cell_type": "code",
      "metadata": {
        "id": "LPy0XKC8xAWa"
      },
      "source": [
        "batch_size = 16"
      ],
      "execution_count": 19,
      "outputs": []
    },
    {
      "cell_type": "markdown",
      "metadata": {
        "id": "mnsyChFGuduN"
      },
      "source": [
        "Now we're ready to select our batches.\n",
        "\n",
        "The strategy used here comes from Michaël Benesty's code, in his `build_batches` function. \n",
        "\n",
        "Rather than dividing the batches up in order, we will still add a degree of\n",
        "**randomness** to our selection.\n",
        "\n",
        "Here's the process:\n",
        "1. Pick a random starting point in the (sorted!) list of samples.\n",
        "2. Grab a contiguous batch of samples starting from that point.\n",
        "3. Delete those samples from the list, and repeat until all of the samples have been grabbed.\n",
        "\n",
        "This will result in some **fragmentation** of the list, which means it won't be quite as efficient as if we just sliced up the batches in sorted order.\n",
        "\n",
        "The benefit is that our path through the training set can still have a degree of randomness. Also, given the distribution of lengths that we saw in the previous section (lots of samples with similar lengths), I bet the fragmentation problem is pretty minor!\n",
        "\n"
      ]
    },
    {
      "cell_type": "code",
      "metadata": {
        "id": "XlDrZ7RUupqz",
        "outputId": "3cbe0722-2137-4c1d-d5db-15995c38327c",
        "colab": {
          "base_uri": "https://localhost:8080/",
          "height": 136
        }
      },
      "source": [
        "import random\n",
        "\n",
        "# List of batches that we'll construct.\n",
        "batch_ordered_sentences = []\n",
        "batch_ordered_labels = []\n",
        "\n",
        "print('Creating training batches of size {:}'.format(batch_size))\n",
        "\n",
        "# Loop over all of the input samples...    \n",
        "while len(train_samples) > 0:\n",
        "    \n",
        "    # Report progress.\n",
        "    if ((len(batch_ordered_sentences) % 500) == 0):\n",
        "        print('  Selected {:,} batches.'.format(len(batch_ordered_sentences)))\n",
        "\n",
        "    # `to_take` is our actual batch size. It will be `batch_size` until \n",
        "    # we get to the last batch, which may be smaller. \n",
        "    to_take = min(batch_size, len(train_samples))\n",
        "\n",
        "    # Pick a random index in the list of remaining samples to start\n",
        "    # our batch at.\n",
        "    select = random.randint(0, len(train_samples) - to_take)\n",
        "\n",
        "    # Select a contiguous batch of samples starting at `select`.\n",
        "    batch = train_samples[select:(select + to_take)]\n",
        "\n",
        "    # Each sample is a tuple--split them apart to create a separate list of \n",
        "    # sequences and a list of labels for this batch.\n",
        "    batch_ordered_sentences.append([s[0] for s in batch])\n",
        "    batch_ordered_labels.append([s[1] for s in batch])\n",
        "\n",
        "    # Remove these samples from the list.\n",
        "    del train_samples[select:select + to_take]\n",
        "\n",
        "print('\\n  DONE - {:,} batches.'.format(len(batch_ordered_sentences)))"
      ],
      "execution_count": 20,
      "outputs": [
        {
          "output_type": "stream",
          "text": [
            "Creating training batches of size 16\n",
            "  Selected 0 batches.\n",
            "  Selected 500 batches.\n",
            "  Selected 1,000 batches.\n",
            "  Selected 1,500 batches.\n",
            "\n",
            "  DONE - 1,563 batches.\n"
          ],
          "name": "stdout"
        }
      ]
    },
    {
      "cell_type": "markdown",
      "metadata": {
        "id": "u6AwCaAvxXdN"
      },
      "source": [
        "## 4.5. Add Padding"
      ]
    },
    {
      "cell_type": "markdown",
      "metadata": {
        "id": "V9sufUYt7GQA"
      },
      "source": [
        "We've created our batches, but many of them will contain sequences of different lengths. In order to leverage the GPUs parallel processing of batches, all of the sequences *within a batch* need to be the same length.\n",
        "\n",
        "This means we need to do some padding!\n",
        "\n",
        "We'll also create our **attention masks** here, and cast everything to **PyTorch tensors** in preparation for our fine-tuning step."
      ]
    },
    {
      "cell_type": "code",
      "metadata": {
        "id": "kCNYTKpixPMJ"
      },
      "source": [
        "import torch\n",
        "\n",
        "py_inputs = []\n",
        "py_attn_masks = []\n",
        "py_labels = []\n",
        "\n",
        "# For each batch...\n",
        "for (batch_inputs, batch_labels) in zip(batch_ordered_sentences, batch_ordered_labels):\n",
        "\n",
        "    # New version of the batch, this time with padded sequences and now with\n",
        "    # attention masks defined.\n",
        "    batch_padded_inputs = []\n",
        "    batch_attn_masks = []\n",
        "    \n",
        "    # First, find the longest sample in the batch. \n",
        "    # Note that the sequences do currently include the special tokens!\n",
        "    max_size = max([len(sen) for sen in batch_inputs])\n",
        "\n",
        "    #print('Max size:', max_size)\n",
        "\n",
        "    # For each input in this batch...\n",
        "    for sen in batch_inputs:\n",
        "        \n",
        "        # How many pad tokens do we need to add?\n",
        "        num_pads = max_size - len(sen)\n",
        "\n",
        "        # Add `num_pads` padding tokens to the end of the sequence.\n",
        "        padded_input = sen + [tokenizer.pad_token_id]*num_pads\n",
        "\n",
        "        # Define the attention mask--it's just a `1` for every real token\n",
        "        # and a `0` for every padding token.\n",
        "        attn_mask = [1] * len(sen) + [0] * num_pads\n",
        "\n",
        "        # Add the padded results to the batch.\n",
        "        batch_padded_inputs.append(padded_input)\n",
        "        batch_attn_masks.append(attn_mask)\n",
        "\n",
        "    # Our batch has been padded, so we need to save this updated batch.\n",
        "    # We also need the inputs to be PyTorch tensors, so we'll do that here.\n",
        "    py_inputs.append(torch.tensor(batch_padded_inputs))\n",
        "    py_attn_masks.append(torch.tensor(batch_attn_masks))\n",
        "    py_labels.append(torch.tensor(batch_labels))\n"
      ],
      "execution_count": 21,
      "outputs": []
    },
    {
      "cell_type": "markdown",
      "metadata": {
        "id": "TACAmCf-Lavx"
      },
      "source": [
        "Now that our data is ready, we can calculate the total number of tokens in the training data after using smart batching."
      ]
    },
    {
      "cell_type": "code",
      "metadata": {
        "id": "BPQgl1wYLa59",
        "outputId": "9d42f9e3-767d-49fe-bf56-e38ce8949eff",
        "colab": {
          "base_uri": "https://localhost:8080/",
          "height": 68
        }
      },
      "source": [
        "# Get the new list of lengths after sorting.\n",
        "padded_lengths = []\n",
        "\n",
        "# For each batch...\n",
        "for batch in py_inputs:\n",
        "    \n",
        "    # For each sample...\n",
        "    for s in batch:\n",
        "    \n",
        "        # Record its length.\n",
        "        padded_lengths.append(len(s))\n",
        "\n",
        "# Sum up the lengths to the get the total number of tokens after smart batching.\n",
        "smart_token_count = np.sum(padded_lengths)\n",
        "\n",
        "# To get the total number of tokens in the dataset using fixed padding, it's\n",
        "# as simple as the number of samples times our `max_len` parameter (that we\n",
        "# would pad everything to).\n",
        "fixed_token_count = len(train_text) * max_len\n",
        "\n",
        "# Calculate the percentage reduction.\n",
        "prcnt_reduced = (fixed_token_count - smart_token_count) / float(fixed_token_count) \n",
        "\n",
        "print('Total tokens:')\n",
        "print('   Fixed Padding: {:,}'.format(fixed_token_count))\n",
        "print('  Smart Batching: {:,}  ({:.1%} less)'.format(smart_token_count, prcnt_reduced))\n"
      ],
      "execution_count": 22,
      "outputs": [
        {
          "output_type": "stream",
          "text": [
            "Total tokens:\n",
            "   Fixed Padding: 10,000,000\n",
            "  Smart Batching: 6,378,688  (36.2% less)\n"
          ],
          "name": "stdout"
        }
      ]
    },
    {
      "cell_type": "markdown",
      "metadata": {
        "id": "nooeo-i4OtqB"
      },
      "source": [
        "We'll see at the end that this reduction in token count corresponds well to the reduction in training time!"
      ]
    },
    {
      "cell_type": "markdown",
      "metadata": {
        "id": "DaIlkeK2eDJw"
      },
      "source": [
        "## 4.6. Old Approach - Fixed Padding"
      ]
    },
    {
      "cell_type": "markdown",
      "metadata": {
        "id": "vEwaEqwf6zQW"
      },
      "source": [
        "To see how BERT does on the benchmark *without* smart batching, you can run the following cell instead of sections 4.2. - 4.5."
      ]
    },
    {
      "cell_type": "code",
      "metadata": {
        "id": "wCHBwwFxeH-m"
      },
      "source": [
        "use_fixed_padding = False\n",
        "\n",
        "if use_fixed_padding:\n",
        "\n",
        "    # Specify batch_size and truncation length.    \n",
        "    batch_size = 16\n",
        "    max_len = 400   \n",
        "\n",
        "    # Tokenize all training examples\n",
        "    print('Tokenizing {:,} training samples...'.format(len(train_text)))\n",
        "\n",
        "    # Tokenize all of the sentences and map the tokens to thier word IDs.\n",
        "    batches_input_ids = []\n",
        "    batches_attention_masks = []\n",
        "    batches_labels = []\n",
        "\n",
        "    update_interval = batch_size * 150 \n",
        "\n",
        "    # For every sentence...\n",
        "    for i in range(0, len(train_text), batch_size):\n",
        "\n",
        "        # Report progress.\n",
        "        if ((i % update_interval) == 0):\n",
        "            print('  Tokenized {:,} samples.'.format(i))\n",
        "\n",
        "        # `encode_plus` will:\n",
        "        #   (1) Tokenize the sentence.\n",
        "        #   (2) Prepend the `[CLS]` token to the start.\n",
        "        #   (3) Append the `[SEP]` token to the end.\n",
        "        #   (4) Map tokens to their IDs.\n",
        "        #   (5) Pad or truncate the sentence to `max_length`\n",
        "        #   (6) Create attention masks for [PAD] tokens.\n",
        "        encoded_dict = tokenizer.batch_encode_plus(\n",
        "                            train_text[i:i+batch_size], # Batch of sentences to encode.\n",
        "                            add_special_tokens = True,  # Add '[CLS]' and '[SEP]'\n",
        "                            max_length = 400,           # Pad & truncate all sentences.\n",
        "                            padding = 'max_length',     # Pad all to the `max_length` parameter.\n",
        "                            truncation = True,\n",
        "                            return_attention_mask = True,   # Construct attn. masks.\n",
        "                            return_tensors = 'pt',     # Return pytorch tensors.\n",
        "                    )\n",
        "        \n",
        "        # Add the encoded sentence to the list.    \n",
        "        batches_input_ids.append(encoded_dict['input_ids'])\n",
        "        \n",
        "        # And its attention mask (simply differentiates padding from non-padding).\n",
        "        batches_attention_masks.append(encoded_dict['attention_mask'])\n",
        "\n",
        "        # Add the labels for the batch\n",
        "        batches_labels.append(torch.tensor(train_labels[i:i+batch_size]))\n",
        "    \n",
        "    # Rename the final variable to match the rest of the code in this Notebook.\n",
        "    py_inputs = batches_input_ids\n",
        "    py_attn_masks = batches_attention_masks\n",
        "    py_labels = batches_labels"
      ],
      "execution_count": 23,
      "outputs": []
    },
    {
      "cell_type": "markdown",
      "metadata": {
        "id": "IvuYLP7TDpXH"
      },
      "source": [
        "# S5. Fine-Tune BERT"
      ]
    },
    {
      "cell_type": "markdown",
      "metadata": {
        "id": "OwdfO8VuxHE-"
      },
      "source": [
        "## 5.1. Load Pre-Trained Model"
      ]
    },
    {
      "cell_type": "markdown",
      "metadata": {
        "id": "f79lyPNLPT9h"
      },
      "source": [
        "We'll use BERT-base-uncased for this example. \n",
        "\n",
        "`transformers` defines these `Auto` classes which will automatically select the correct class for the specifc pre-trained model that you specified.\n",
        "\n"
      ]
    },
    {
      "cell_type": "code",
      "metadata": {
        "id": "8GZPd5vWKrpL",
        "outputId": "b359e9a5-4cf6-4bd3-9a6e-736c852bea80",
        "colab": {
          "base_uri": "https://localhost:8080/",
          "height": 100,
          "referenced_widgets": [
            "01215e709f7b4d929e415ee6d941c45f",
            "dfd32ca35d214e93b80390a1fa130d77",
            "ba1f716cd8a341ed9a4430ae82571e06",
            "1fb413b2f4854e7795dd18323d73ca59",
            "28e6336779e14ec48ca378c62456f976",
            "68c2c66147b540afbddfa0b21f4a97e6",
            "c883ffd4141045d683117a9334b504e1",
            "9bff1d77a931407995cfbba70424841c"
          ]
        }
      },
      "source": [
        "from transformers import AutoConfig\n",
        "\n",
        "# Load the Config object, with an output configured for classification.\n",
        "config = AutoConfig.from_pretrained(pretrained_model_name_or_path='bert-base-uncased',\n",
        "                                    num_labels=2)\n",
        "\n",
        "print('Config type:', str(type(config)), '\\n')\n"
      ],
      "execution_count": 24,
      "outputs": [
        {
          "output_type": "display_data",
          "data": {
            "application/vnd.jupyter.widget-view+json": {
              "model_id": "01215e709f7b4d929e415ee6d941c45f",
              "version_minor": 0,
              "version_major": 2
            },
            "text/plain": [
              "HBox(children=(FloatProgress(value=0.0, description='Downloading', max=433.0, style=ProgressStyle(description_…"
            ]
          },
          "metadata": {
            "tags": []
          }
        },
        {
          "output_type": "stream",
          "text": [
            "\n",
            "Config type: <class 'transformers.configuration_bert.BertConfig'> \n",
            "\n"
          ],
          "name": "stdout"
        }
      ]
    },
    {
      "cell_type": "code",
      "metadata": {
        "id": "CNGJIqqVKvZG",
        "outputId": "24dfd517-9c64-4d23-f0f1-4647b13fa9da",
        "colab": {
          "base_uri": "https://localhost:8080/",
          "height": 205,
          "referenced_widgets": [
            "bb36b50299f042af80dd88bb8e9920eb",
            "750e4a8c4678453698b5fd7ff278cf3f",
            "f195b429af5f47bc91cad46ee54ffd5a",
            "6867c3b4ce31400c9c913c654b133e89",
            "578e8264257f464db87ba655d0f58b07",
            "d936bff8ca204aaf9e1d1a1a0d462358",
            "35ae84f8c1734497a9676b3cce1e5a89",
            "7da9512a957142beb74e210ccac6c152"
          ]
        }
      },
      "source": [
        "from transformers import AutoModelForSequenceClassification\n",
        "\n",
        "# Load the pre-trained model for classification, passing in the `config` from\n",
        "# above.\n",
        "model = AutoModelForSequenceClassification.from_pretrained(\n",
        "    pretrained_model_name_or_path='bert-base-uncased',\n",
        "    config=config)\n",
        "\n",
        "print('\\nModel type:', str(type(model)))\n"
      ],
      "execution_count": 25,
      "outputs": [
        {
          "output_type": "display_data",
          "data": {
            "application/vnd.jupyter.widget-view+json": {
              "model_id": "bb36b50299f042af80dd88bb8e9920eb",
              "version_minor": 0,
              "version_major": 2
            },
            "text/plain": [
              "HBox(children=(FloatProgress(value=0.0, description='Downloading', max=440473133.0, style=ProgressStyle(descri…"
            ]
          },
          "metadata": {
            "tags": []
          }
        },
        {
          "output_type": "stream",
          "text": [
            "\n"
          ],
          "name": "stdout"
        },
        {
          "output_type": "stream",
          "text": [
            "Some weights of the model checkpoint at bert-base-uncased were not used when initializing BertForSequenceClassification: ['cls.predictions.bias', 'cls.predictions.transform.dense.weight', 'cls.predictions.transform.dense.bias', 'cls.predictions.decoder.weight', 'cls.seq_relationship.weight', 'cls.seq_relationship.bias', 'cls.predictions.transform.LayerNorm.weight', 'cls.predictions.transform.LayerNorm.bias']\n",
            "- This IS expected if you are initializing BertForSequenceClassification from the checkpoint of a model trained on another task or with another architecture (e.g. initializing a BertForSequenceClassification model from a BertForPretraining model).\n",
            "- This IS NOT expected if you are initializing BertForSequenceClassification from the checkpoint of a model that you expect to be exactly identical (initializing a BertForSequenceClassification model from a BertForSequenceClassification model).\n",
            "Some weights of BertForSequenceClassification were not initialized from the model checkpoint at bert-base-uncased and are newly initialized: ['classifier.weight', 'classifier.bias']\n",
            "You should probably TRAIN this model on a down-stream task to be able to use it for predictions and inference.\n"
          ],
          "name": "stderr"
        },
        {
          "output_type": "stream",
          "text": [
            "\n",
            "Model type: <class 'transformers.modeling_bert.BertForSequenceClassification'>\n"
          ],
          "name": "stdout"
        }
      ]
    },
    {
      "cell_type": "markdown",
      "metadata": {
        "id": "Sa7tgw2-Pttq"
      },
      "source": [
        "Connect to the GPU and load our model onto it.\n",
        "\n",
        "It's worth taking note of which GPU you're given. The Tesla P100 is much faster, for example, than the Tesla K80."
      ]
    },
    {
      "cell_type": "code",
      "metadata": {
        "id": "Asqmh0uTKuTx",
        "outputId": "a112817e-6894-4607-9913-35a6715074d7",
        "colab": {
          "base_uri": "https://localhost:8080/",
          "height": 85
        }
      },
      "source": [
        "import torch\n",
        "\n",
        "print('\\nLoading model to GPU...')\n",
        "\n",
        "device = torch.device('cuda')\n",
        "\n",
        "print('  GPU:', torch.cuda.get_device_name(0))\n",
        "\n",
        "desc = model.to(device)\n",
        "\n",
        "print('    DONE.')"
      ],
      "execution_count": 26,
      "outputs": [
        {
          "output_type": "stream",
          "text": [
            "\n",
            "Loading model to GPU...\n",
            "  GPU: Tesla T4\n",
            "    DONE.\n"
          ],
          "name": "stdout"
        }
      ]
    },
    {
      "cell_type": "markdown",
      "metadata": {
        "id": "qRWT-D4U_Pvx"
      },
      "source": [
        "## 5.2. Optimizer & Learning Rate Scheduler"
      ]
    },
    {
      "cell_type": "markdown",
      "metadata": {
        "id": "8o-VEBobKwHk"
      },
      "source": [
        "Set up our optimizer and learning rate scheduler for training."
      ]
    },
    {
      "cell_type": "code",
      "metadata": {
        "id": "GLs72DuMODJO"
      },
      "source": [
        "from transformers import AdamW\n",
        "\n",
        "# Note: AdamW is a class from the huggingface library (as opposed to pytorch) \n",
        "# I believe the 'W' stands for 'Weight Decay fix\"\n",
        "optimizer = AdamW(model.parameters(),\n",
        "                  lr = 5e-5, # This is the value Michael used.\n",
        "                  eps = 1e-8 # args.adam_epsilon  - default is 1e-8.\n",
        "                )\n"
      ],
      "execution_count": 27,
      "outputs": []
    },
    {
      "cell_type": "code",
      "metadata": {
        "id": "-p0upAhhRiIx"
      },
      "source": [
        "from transformers import get_linear_schedule_with_warmup\n",
        "\n",
        "# Number of training epochs. I chose to train for 1 simply because the training\n",
        "# time is long. More epochs may improve the model's accuracy.\n",
        "epochs = 1\n",
        "\n",
        "# Total number of training steps is [number of batches] x [number of epochs]. \n",
        "# Note that it's the number of *batches*, not *samples*!\n",
        "total_steps = len(py_inputs) * epochs\n",
        "\n",
        "# Create the learning rate scheduler.\n",
        "scheduler = get_linear_schedule_with_warmup(optimizer, \n",
        "                                            num_warmup_steps = 0, # Default value in run_glue.py\n",
        "                                            num_training_steps = total_steps)"
      ],
      "execution_count": 28,
      "outputs": []
    },
    {
      "cell_type": "markdown",
      "metadata": {
        "id": "RqfmWwUR_Sox"
      },
      "source": [
        "## 5.3. Training Loop"
      ]
    },
    {
      "cell_type": "markdown",
      "metadata": {
        "id": "_QXZhFb4LnV5"
      },
      "source": [
        "In previous examples I've made use of the PyTorch Dataset and DataLoader classes, but because of the smart batching I'm not using them in this Notebook.\n",
        "\n",
        "*Note: If you have modified this Notebook to run for more than one epoch, you'll need the `make_smart_batches` function defined in section 6.1.*\n"
      ]
    },
    {
      "cell_type": "markdown",
      "metadata": {
        "id": "cfNIhN19te3N"
      },
      "source": [
        "We're ready to kick off the training!"
      ]
    },
    {
      "cell_type": "code",
      "metadata": {
        "id": "6J-FYdx6nFE_",
        "outputId": "93109357-b7e6-4273-9684-0e6148c92e41",
        "colab": {
          "base_uri": "https://localhost:8080/",
          "height": 289
        }
      },
      "source": [
        "import random\n",
        "import numpy as np\n",
        "\n",
        "# This training code is based on the `run_glue.py` script here:\n",
        "# https://github.com/huggingface/transformers/blob/5bfcd0485ece086ebcbed2d008813037968a9e58/examples/run_glue.py#L128\n",
        "\n",
        "# Set the seed value all over the place to make this reproducible.\n",
        "seed_val = 321\n",
        "\n",
        "random.seed(seed_val)\n",
        "np.random.seed(seed_val)\n",
        "torch.manual_seed(seed_val)\n",
        "torch.cuda.manual_seed_all(seed_val)\n",
        "\n",
        "# We'll store a number of quantities such as training and validation loss, \n",
        "# validation accuracy, and timings.\n",
        "training_stats = []\n",
        "\n",
        "# Update every `update_interval` batches.\n",
        "update_interval = good_update_interval(total_iters=len(py_inputs), num_desired_updates=10)\n",
        "\n",
        "# Measure the total training time for the whole run.\n",
        "total_t0 = time.time()\n",
        "\n",
        "# For each epoch...\n",
        "for epoch_i in range(0, epochs):\n",
        "    \n",
        "    # ========================================\n",
        "    #               Training\n",
        "    # ========================================\n",
        "    \n",
        "    # Perform one full pass over the training set.\n",
        "\n",
        "    print(\"\")\n",
        "    print('======== Epoch {:} / {:} ========'.format(epoch_i + 1, epochs))\n",
        "    \n",
        "    # At the start of each epoch (except for the first) we need to re-randomize\n",
        "    # our training data.\n",
        "    if epoch_i > 0:\n",
        "        # Use our `make_smart_batches` function (from 6.1.) to re-shuffle the \n",
        "        # dataset into new batches.\n",
        "        (py_inputs, py_attn_masks, py_labels) = make_smart_batches(train_text, train_labels, batch_size)\n",
        "    \n",
        "    print('Training on {:,} batches...'.format(len(py_inputs)))\n",
        "\n",
        "    # Measure how long the training epoch takes.\n",
        "    t0 = time.time()\n",
        "\n",
        "    # Reset the total loss for this epoch.\n",
        "    total_train_loss = 0\n",
        "\n",
        "    # Put the model into training mode. Don't be mislead--the call to \n",
        "    # `train` just changes the *mode*, it doesn't *perform* the training.\n",
        "    # `dropout` and `batchnorm` layers behave differently during training\n",
        "    # vs. test (source: https://stackoverflow.com/questions/51433378/what-does-model-train-do-in-pytorch)\n",
        "    model.train()\n",
        "\n",
        "    # For each batch of training data...\n",
        "    for step in range(0, len(py_inputs)):\n",
        "\n",
        "        # Progress update every, e.g., 100 batches.\n",
        "        if step % update_interval == 0 and not step == 0:\n",
        "            # Calculate elapsed time in minutes.\n",
        "            elapsed = format_time(time.time() - t0)\n",
        "            \n",
        "            # Calculate the time remaining based on our progress.\n",
        "            steps_per_sec = (time.time() - t0) / step\n",
        "            remaining_sec = steps_per_sec * (len(py_inputs) - step)\n",
        "            remaining = format_time(remaining_sec)\n",
        "\n",
        "            # Report progress.\n",
        "            print('  Batch {:>7,}  of  {:>7,}.    Elapsed: {:}.  Remaining: {:}'.format(step, len(py_inputs), elapsed, remaining))\n",
        "\n",
        "        # Copy the current training batch to the GPU using the `to` method.\n",
        "        b_input_ids = py_inputs[step].to(device)\n",
        "        b_input_mask = py_attn_masks[step].to(device)\n",
        "        b_labels = py_labels[step].to(device)\n",
        "\n",
        "        # Always clear any previously calculated gradients before performing a\n",
        "        # backward pass.\n",
        "        model.zero_grad()        \n",
        "\n",
        "        # Perform a forward pass (evaluate the model on this training batch).\n",
        "        # The call returns the loss (because we provided labels) and the \n",
        "        # \"logits\"--the model outputs prior to activation.\n",
        "        loss, logits = model(b_input_ids, \n",
        "                             token_type_ids=None, \n",
        "                             attention_mask=b_input_mask, \n",
        "                             labels=b_labels)\n",
        "\n",
        "        # Accumulate the training loss over all of the batches so that we can\n",
        "        # calculate the average loss at the end. `loss` is a Tensor containing a\n",
        "        # single value; the `.item()` function just returns the Python value \n",
        "        # from the tensor.\n",
        "        total_train_loss += loss.item()\n",
        "\n",
        "        # Perform a backward pass to calculate the gradients.\n",
        "        loss.backward()\n",
        "\n",
        "        # Clip the norm of the gradients to 1.0.\n",
        "        # This is to help prevent the \"exploding gradients\" problem.\n",
        "        torch.nn.utils.clip_grad_norm_(model.parameters(), 1.0)\n",
        "\n",
        "        # Update parameters and take a step using the computed gradient.\n",
        "        # The optimizer dictates the \"update rule\"--how the parameters are\n",
        "        # modified based on their gradients, the learning rate, etc.\n",
        "        optimizer.step()\n",
        "\n",
        "        # Update the learning rate.\n",
        "        scheduler.step()\n",
        "\n",
        "    # Calculate the average loss over all of the batches.\n",
        "    avg_train_loss = total_train_loss / len(py_inputs)            \n",
        "    \n",
        "    # Measure how long this epoch took.\n",
        "    training_time = format_time(time.time() - t0)\n",
        "\n",
        "    print(\"\")\n",
        "    print(\"  Average training loss: {0:.2f}\".format(avg_train_loss))\n",
        "    print(\"  Training epcoh took: {:}\".format(training_time))\n",
        "        \n",
        "    # Record all statistics from this epoch.\n",
        "    training_stats.append(\n",
        "        {\n",
        "            'epoch': epoch_i + 1,\n",
        "            'Training Loss': avg_train_loss,\n",
        "            'Training Time': training_time,\n",
        "        }\n",
        "    )\n",
        "\n",
        "print(\"\")\n",
        "print(\"Training complete!\")\n",
        "\n",
        "print(\"Total training took {:} (h:mm:ss)\".format(format_time(time.time()-total_t0)))"
      ],
      "execution_count": 29,
      "outputs": [
        {
          "output_type": "stream",
          "text": [
            "\n",
            "======== Epoch 1 / 1 ========\n",
            "Training on 1,563 batches...\n",
            "  Batch     200  of    1,563.    Elapsed: 0:02:35.  Remaining: 0:17:36\n",
            "  Batch     400  of    1,563.    Elapsed: 0:05:30.  Remaining: 0:15:58\n",
            "  Batch     600  of    1,563.    Elapsed: 0:08:12.  Remaining: 0:13:09\n",
            "  Batch     800  of    1,563.    Elapsed: 0:10:59.  Remaining: 0:10:28\n",
            "  Batch   1,000  of    1,563.    Elapsed: 0:13:39.  Remaining: 0:07:41\n",
            "  Batch   1,200  of    1,563.    Elapsed: 0:16:32.  Remaining: 0:05:00\n",
            "  Batch   1,400  of    1,563.    Elapsed: 0:19:23.  Remaining: 0:02:15\n",
            "\n",
            "  Average training loss: 0.25\n",
            "  Training epcoh took: 0:21:47\n",
            "\n",
            "Training complete!\n",
            "Total training took 0:21:47 (h:mm:ss)\n"
          ],
          "name": "stdout"
        }
      ]
    },
    {
      "cell_type": "markdown",
      "metadata": {
        "id": "_5eZFCVPPn7J"
      },
      "source": [
        "# S6. Evaluate on Test Set"
      ]
    },
    {
      "cell_type": "markdown",
      "metadata": {
        "id": "gLJ5NCUFQujZ"
      },
      "source": [
        "### 6.1. `make_smart_batches`"
      ]
    },
    {
      "cell_type": "markdown",
      "metadata": {
        "id": "JVTpC6V8E2_q"
      },
      "source": [
        "This function combines all of the steps from the \"Smart Batching\" section into a single (re-usable) function. You can use this in your own Notebook for applying smart batching to both your training and test sets."
      ]
    },
    {
      "cell_type": "code",
      "metadata": {
        "id": "g5LVFY7MPqRf"
      },
      "source": [
        "def make_smart_batches(text_samples, labels, batch_size):\n",
        "    '''\n",
        "    This function combines all of the required steps to prepare batches.\n",
        "    '''\n",
        "\n",
        "    print('Creating Smart Batches from {:,} examples with batch size {:,}...\\n'.format(len(text_samples), batch_size))\n",
        "\n",
        "    # =========================\n",
        "    #   Tokenize & Truncate\n",
        "    # =========================\n",
        "\n",
        "    full_input_ids = []\n",
        "\n",
        "    # Tokenize all training examples\n",
        "    print('Tokenizing {:,} samples...'.format(len(labels)))\n",
        "\n",
        "    # Choose an interval on which to print progress updates.\n",
        "    update_interval = good_update_interval(total_iters=len(labels), num_desired_updates=10)\n",
        "\n",
        "    # For each training example...\n",
        "    for text in text_samples:\n",
        "        \n",
        "        # Report progress.\n",
        "        if ((len(full_input_ids) % update_interval) == 0):\n",
        "            print('  Tokenized {:,} samples.'.format(len(full_input_ids)))\n",
        "\n",
        "        # Tokenize the sample.\n",
        "        input_ids = tokenizer.encode(text=text,              # Text to encode.\n",
        "                                    add_special_tokens=True, # Do add specials.\n",
        "                                    max_length=max_len,      # Do Truncate!\n",
        "                                    truncation=True,         # Do Truncate!\n",
        "                                    padding=False)           # DO NOT pad.\n",
        "                                    \n",
        "        # Add the tokenized result to our list.\n",
        "        full_input_ids.append(input_ids)\n",
        "        \n",
        "    print('DONE.')\n",
        "    print('{:>10,} samples\\n'.format(len(full_input_ids)))\n",
        "\n",
        "    # =========================\n",
        "    #      Select Batches\n",
        "    # =========================    \n",
        "\n",
        "    # Sort the two lists together by the length of the input sequence.\n",
        "    samples = sorted(zip(full_input_ids, labels), key=lambda x: len(x[0]))\n",
        "\n",
        "    print('{:>10,} samples after sorting\\n'.format(len(samples)))\n",
        "\n",
        "    import random\n",
        "\n",
        "    # List of batches that we'll construct.\n",
        "    batch_ordered_sentences = []\n",
        "    batch_ordered_labels = []\n",
        "\n",
        "    print('Creating batches of size {:}...'.format(batch_size))\n",
        "\n",
        "    # Choose an interval on which to print progress updates.\n",
        "    update_interval = good_update_interval(total_iters=len(samples), num_desired_updates=10)\n",
        "    \n",
        "    # Loop over all of the input samples...    \n",
        "    while len(samples) > 0:\n",
        "        \n",
        "        # Report progress.\n",
        "        if ((len(batch_ordered_sentences) % update_interval) == 0 \\\n",
        "            and not len(batch_ordered_sentences) == 0):\n",
        "            print('  Selected {:,} batches.'.format(len(batch_ordered_sentences)))\n",
        "\n",
        "        # `to_take` is our actual batch size. It will be `batch_size` until \n",
        "        # we get to the last batch, which may be smaller. \n",
        "        to_take = min(batch_size, len(samples))\n",
        "\n",
        "        # Pick a random index in the list of remaining samples to start\n",
        "        # our batch at.\n",
        "        select = random.randint(0, len(samples) - to_take)\n",
        "\n",
        "        # Select a contiguous batch of samples starting at `select`.\n",
        "        #print(\"Selecting batch from {:} to {:}\".format(select, select+to_take))\n",
        "        batch = samples[select:(select + to_take)]\n",
        "\n",
        "        #print(\"Batch length:\", len(batch))\n",
        "\n",
        "        # Each sample is a tuple--split them apart to create a separate list of \n",
        "        # sequences and a list of labels for this batch.\n",
        "        batch_ordered_sentences.append([s[0] for s in batch])\n",
        "        batch_ordered_labels.append([s[1] for s in batch])\n",
        "\n",
        "        # Remove these samples from the list.\n",
        "        del samples[select:select + to_take]\n",
        "\n",
        "    print('\\n  DONE - Selected {:,} batches.\\n'.format(len(batch_ordered_sentences)))\n",
        "\n",
        "    # =========================\n",
        "    #        Add Padding\n",
        "    # =========================    \n",
        "\n",
        "    print('Padding out sequences within each batch...')\n",
        "\n",
        "    py_inputs = []\n",
        "    py_attn_masks = []\n",
        "    py_labels = []\n",
        "\n",
        "    # For each batch...\n",
        "    for (batch_inputs, batch_labels) in zip(batch_ordered_sentences, batch_ordered_labels):\n",
        "\n",
        "        # New version of the batch, this time with padded sequences and now with\n",
        "        # attention masks defined.\n",
        "        batch_padded_inputs = []\n",
        "        batch_attn_masks = []\n",
        "        \n",
        "        # First, find the longest sample in the batch. \n",
        "        # Note that the sequences do currently include the special tokens!\n",
        "        max_size = max([len(sen) for sen in batch_inputs])\n",
        "\n",
        "        # For each input in this batch...\n",
        "        for sen in batch_inputs:\n",
        "            \n",
        "            # How many pad tokens do we need to add?\n",
        "            num_pads = max_size - len(sen)\n",
        "\n",
        "            # Add `num_pads` padding tokens to the end of the sequence.\n",
        "            padded_input = sen + [tokenizer.pad_token_id]*num_pads\n",
        "\n",
        "            # Define the attention mask--it's just a `1` for every real token\n",
        "            # and a `0` for every padding token.\n",
        "            attn_mask = [1] * len(sen) + [0] * num_pads\n",
        "\n",
        "            # Add the padded results to the batch.\n",
        "            batch_padded_inputs.append(padded_input)\n",
        "            batch_attn_masks.append(attn_mask)\n",
        "\n",
        "        # Our batch has been padded, so we need to save this updated batch.\n",
        "        # We also need the inputs to be PyTorch tensors, so we'll do that here.\n",
        "        # Todo - Michael's code specified \"dtype=torch.long\"\n",
        "        py_inputs.append(torch.tensor(batch_padded_inputs))\n",
        "        py_attn_masks.append(torch.tensor(batch_attn_masks))\n",
        "        py_labels.append(torch.tensor(batch_labels))\n",
        "    \n",
        "    print('  DONE.')\n",
        "\n",
        "    # Return the smart-batched dataset!\n",
        "    return (py_inputs, py_attn_masks, py_labels)\n"
      ],
      "execution_count": 30,
      "outputs": []
    },
    {
      "cell_type": "markdown",
      "metadata": {
        "id": "XjeMtTILT5iU"
      },
      "source": [
        "## 6.2. Load Test Dataset & Smart Batch"
      ]
    },
    {
      "cell_type": "markdown",
      "metadata": {
        "id": "sMacm82SS88H"
      },
      "source": [
        "Load the test dataset. This file has more columns, and contains rows for different languages (we'll only select the French test samples)."
      ]
    },
    {
      "cell_type": "code",
      "metadata": {
        "id": "xGuZAHn_S-fG",
        "outputId": "387869e8-5f7d-45ee-9da9-2ef1a6cdd45e",
        "colab": {
          "base_uri": "https://localhost:8080/",
          "height": 476
        }
      },
      "source": [
        "# Use our new function to completely prepare our dataset.\n",
        "(py_inputs, py_attn_masks, py_labels) = make_smart_batches(test_text, test_labels, batch_size)"
      ],
      "execution_count": 31,
      "outputs": [
        {
          "output_type": "stream",
          "text": [
            "Creating Smart Batches from 25,000 examples with batch size 16...\n",
            "\n",
            "Tokenizing 25,000 samples...\n",
            "  Tokenized 0 samples.\n",
            "  Tokenized 2,000 samples.\n",
            "  Tokenized 4,000 samples.\n",
            "  Tokenized 6,000 samples.\n",
            "  Tokenized 8,000 samples.\n",
            "  Tokenized 10,000 samples.\n",
            "  Tokenized 12,000 samples.\n",
            "  Tokenized 14,000 samples.\n",
            "  Tokenized 16,000 samples.\n",
            "  Tokenized 18,000 samples.\n",
            "  Tokenized 20,000 samples.\n",
            "  Tokenized 22,000 samples.\n",
            "  Tokenized 24,000 samples.\n",
            "DONE.\n",
            "    25,000 samples\n",
            "\n",
            "    25,000 samples after sorting\n",
            "\n",
            "Creating batches of size 16...\n",
            "\n",
            "  DONE - Selected 1,563 batches.\n",
            "\n",
            "Padding out sequences within each batch...\n",
            "  DONE.\n"
          ],
          "name": "stdout"
        }
      ]
    },
    {
      "cell_type": "markdown",
      "metadata": {
        "id": "2RfSDldsUmKn"
      },
      "source": [
        "## 6.3. Evaluate"
      ]
    },
    {
      "cell_type": "markdown",
      "metadata": {
        "id": "rhR99IISNMg9"
      },
      "source": [
        "\n",
        "With the test set prepared, we can apply our fine-tuned model to generate predictions on the test set."
      ]
    },
    {
      "cell_type": "code",
      "metadata": {
        "id": "Hba10sXR7Xi6",
        "outputId": "80206657-50c5-45dd-d8b3-102ddedfc287",
        "colab": {
          "base_uri": "https://localhost:8080/",
          "height": 170
        }
      },
      "source": [
        "# Prediction on test set\n",
        "\n",
        "print('Predicting labels for {:,} test sentences...'.format(len(test_labels)))\n",
        "\n",
        "# Put model in evaluation mode\n",
        "model.eval()\n",
        "\n",
        "# Tracking variables \n",
        "predictions , true_labels = [], []\n",
        "\n",
        "# Choose an interval on which to print progress updates.\n",
        "update_interval = good_update_interval(total_iters=len(py_inputs), num_desired_updates=10)\n",
        "\n",
        "# Measure elapsed time.\n",
        "t0 = time.time()\n",
        "\n",
        "# Put model in evaluation mode\n",
        "model.eval()\n",
        "\n",
        "# For each batch of training data...\n",
        "for step in range(0, len(py_inputs)):\n",
        "\n",
        "    # Progress update every 100 batches.\n",
        "    if step % update_interval == 0 and not step == 0:\n",
        "        # Calculate elapsed time in minutes.\n",
        "        elapsed = format_time(time.time() - t0)\n",
        "        \n",
        "        # Calculate the time remaining based on our progress.\n",
        "        steps_per_sec = (time.time() - t0) / step\n",
        "        remaining_sec = steps_per_sec * (len(py_inputs) - step)\n",
        "        remaining = format_time(remaining_sec)\n",
        "\n",
        "        # Report progress.\n",
        "        print('  Batch {:>7,}  of  {:>7,}.    Elapsed: {:}.  Remaining: {:}'.format(step, len(py_inputs), elapsed, remaining))\n",
        "\n",
        "    # Copy the batch to the GPU.\n",
        "    b_input_ids = py_inputs[step].to(device)\n",
        "    b_input_mask = py_attn_masks[step].to(device)\n",
        "    b_labels = py_labels[step].to(device)\n",
        "  \n",
        "    # Telling the model not to compute or store gradients, saving memory and \n",
        "    # speeding up prediction\n",
        "    with torch.no_grad():\n",
        "        # Forward pass, calculate logit predictions\n",
        "        outputs = model(b_input_ids, token_type_ids=None, \n",
        "                        attention_mask=b_input_mask)\n",
        "\n",
        "    logits = outputs[0]\n",
        "\n",
        "    # Move logits and labels to CPU\n",
        "    logits = logits.detach().cpu().numpy()\n",
        "    label_ids = b_labels.to('cpu').numpy()\n",
        "  \n",
        "    # Store predictions and true labels\n",
        "    predictions.append(logits)\n",
        "    true_labels.append(label_ids)\n",
        "\n",
        "print('    DONE.')"
      ],
      "execution_count": 32,
      "outputs": [
        {
          "output_type": "stream",
          "text": [
            "Predicting labels for 25,000 test sentences...\n",
            "  Batch     200  of    1,563.    Elapsed: 0:00:52.  Remaining: 0:05:56\n",
            "  Batch     400  of    1,563.    Elapsed: 0:01:47.  Remaining: 0:05:10\n",
            "  Batch     600  of    1,563.    Elapsed: 0:02:42.  Remaining: 0:04:19\n",
            "  Batch     800  of    1,563.    Elapsed: 0:03:36.  Remaining: 0:03:26\n",
            "  Batch   1,000  of    1,563.    Elapsed: 0:04:32.  Remaining: 0:02:33\n",
            "  Batch   1,200  of    1,563.    Elapsed: 0:05:28.  Remaining: 0:01:39\n",
            "  Batch   1,400  of    1,563.    Elapsed: 0:06:28.  Remaining: 0:00:45\n",
            "    DONE.\n"
          ],
          "name": "stdout"
        }
      ]
    },
    {
      "cell_type": "markdown",
      "metadata": {
        "id": "a16IZkJ18rs3"
      },
      "source": [
        "Now we can calculate the test set accuracy!"
      ]
    },
    {
      "cell_type": "code",
      "metadata": {
        "id": "li-4pvYfZbru",
        "outputId": "3da55bb4-95bc-441a-9963-79ed81044b0a",
        "colab": {
          "base_uri": "https://localhost:8080/",
          "height": 34
        }
      },
      "source": [
        "# Combine the results across the batches.\n",
        "predictions = np.concatenate(predictions, axis=0)\n",
        "true_labels = np.concatenate(true_labels, axis=0)\n",
        "\n",
        "# Choose the label with the highest score as our prediction.\n",
        "preds = np.argmax(predictions, axis=1).flatten()\n",
        "\n",
        "# Calculate simple flat accuracy -- number correct over total number.\n",
        "accuracy = (preds == true_labels).mean()\n",
        "\n",
        "print('Accuracy: {:.3f}'.format(accuracy))"
      ],
      "execution_count": 33,
      "outputs": [
        {
          "output_type": "stream",
          "text": [
            "Accuracy: 0.935\n"
          ],
          "name": "stdout"
        }
      ]
    },
    {
      "cell_type": "markdown",
      "metadata": {
        "id": "9OSATjqholtR"
      },
      "source": [
        "Here are my results from running a single training epoch on a Tesla K80, comparing fixed-padding to smart batching.\n",
        "\n",
        "| Padding Strategy |   Model   | Batch Size | Max Len | Test Accur. |    GPU    | Training Time per Epoch (mm:ss) |\n",
        "|:----------------:|:---------:|:----------:|:-------:|:-----------:|:---------:|:-------------------------------:|\n",
        "|  Smart Batching  | BERT-base |     16     |   400   |    0.935    | Tesla K80 |             0:35:06             |\n",
        "|   Fixed Padding  | BERT-base |     16     |   400   |     0.93    | Tesla K80 |             0:53:14             |\n",
        "\n",
        "The fixed padding approach took 51.7% longer to train the model than Smart Batching!\n",
        "\n"
      ]
    },
    {
      "cell_type": "markdown",
      "metadata": {
        "id": "TlUP8LNvqeHb"
      },
      "source": [
        "# Appendix"
      ]
    },
    {
      "cell_type": "markdown",
      "metadata": {
        "id": "nBuaH9F_qfMn"
      },
      "source": [
        "### Smart Batching with `batch_encode_plus` and `DataLoader`"
      ]
    },
    {
      "cell_type": "markdown",
      "metadata": {
        "id": "qn0ojnLzLFm2"
      },
      "source": [
        "This section discusses how \"smart batching\" might be implemented in a more formal way with the PyTorch `DataLoader` class and using the features currently available in huggingface `transformers`.\n",
        "\n",
        "In `transformers`, the `batch_encode_plus` function does have support for \"Dynamic Padding\"--it can automatically pad all of the samples in a batch out to match the longest sequence length in the batch.\n",
        "\n",
        "Check out the explanation given in this Warning in the source code, in [tokenization_utils_base.py](https://github.com/huggingface/transformers/blob/master/src/transformers/tokenization_utils_base.py#L1458):\n",
        "\n",
        "> \"The `pad_to_max_length` argument is deprecated and will be removed in a future version, use `padding=True` or `padding='longest'` to pad to the longest sequence in the batch, or use `padding='max_length'` to pad to a max length. In this case, you can give a specific length with `max_length` (e.g. `max_length=45`) or leave max_length to None to pad to the maximal input size of the model (e.g. 512 for Bert).\"\n",
        "\n",
        "So I think the call would look like this:\n"
      ]
    },
    {
      "cell_type": "code",
      "metadata": {
        "id": "jtELRNJCMSVS"
      },
      "source": [
        "# Encode a batch of sentences with dynamic padding.\n",
        "encoded_dict = tokenizer.batch_encode_plus(\n",
        "                    train_text[i:i+batch_size], # Batch of sentences to encode.\n",
        "                    add_special_tokens = True,  # Add '[CLS]' and '[SEP]'\n",
        "                    padding = 'longest',        # Pad to longest in batch.\n",
        "                    truncation = True,          # Truncate sentences to `max_length`.\n",
        "                    max_length = 400,           \n",
        "                    return_attention_mask = True, # Construct attn. masks.\n",
        "                    return_tensors = 'pt',        # Return pytorch tensors.\n",
        "            )\n"
      ],
      "execution_count": 34,
      "outputs": []
    },
    {
      "cell_type": "markdown",
      "metadata": {
        "id": "-4eDVH7OMizB"
      },
      "source": [
        "However, if you do this, you need wait to actually encode your text until the random training samples for the batch have been selected! i.e., you can't pre-tokenize all of your sentences the way we have been.\n",
        "\n",
        "I believe the \"correct\" approach would be to implement a custom DataLoader class which:\n",
        "1. Stores the original training sample strings, *sorted by string length*.\n",
        "2. Selects a contiguous batch of samples starting at a random point in the list. \n",
        "3. Calls `batch_encode_plus` to encode the samples with dynamic padding, then returns the training batch.\n",
        "\n"
      ]
    },
    {
      "cell_type": "markdown",
      "metadata": {
        "id": "5vJN_TRCqonA"
      },
      "source": [
        "### Impact of `[PAD]` tokens on accuracy"
      ]
    },
    {
      "cell_type": "markdown",
      "metadata": {
        "id": "WnrD1CPVqt34"
      },
      "source": [
        "The difference in accuracy (0.93 for fixed-padding and 0.935 for smart batching) is interesting--I believe Michael had the same observation. It makes me curious to look at the attention mask implementation more--perhaps the `[PAD]` tokens are still having some small influence on the results. \n",
        "\n",
        "Maybe the Attention scores are calculated for all tokens, including the `[PAD]` tokens, and then the scores are multiplied against the mask, to zero out the scores for the `[PAD]` tokens? Because the SoftMax makes all of the attention scores sum to 1.0, that would mean the presence of `[PAD]` tokens would cause the scores for the real words to be lower..."
      ]
    }
  ]
}